{
 "cells": [
  {
   "cell_type": "markdown",
   "id": "6a65a911",
   "metadata": {},
   "source": [
    "# Исследование надежности заемщиков."
   ]
  },
  {
   "cell_type": "markdown",
   "id": "2ed42787",
   "metadata": {},
   "source": [
    "# Описание проекта\n",
    "Заказчик — кредитный отдел банка. Нужно разобраться, влияет ли семейное положение и количество детей клиента на факт погашения кредита в срок. Входные данные от банка — статистика о платёжеспособности клиентов.\n",
    "\n",
    "Результаты исследования будут учтены при построении модели кредитного скоринга — специальной системы, которая оценивает способность потенциального заёмщика вернуть кредит банку."
   ]
  },
  {
   "cell_type": "code",
   "execution_count": 1,
   "id": "bfd0febf",
   "metadata": {},
   "outputs": [],
   "source": [
    "# импорт библиотек(и)\n",
    "import pandas as pd"
   ]
  },
  {
   "cell_type": "code",
   "execution_count": 2,
   "id": "b9ef4361",
   "metadata": {},
   "outputs": [
    {
     "name": "stdout",
     "output_type": "stream",
     "text": [
      "<class 'pandas.core.frame.DataFrame'>\n",
      "RangeIndex: 21525 entries, 0 to 21524\n",
      "Data columns (total 12 columns):\n",
      " #   Column            Non-Null Count  Dtype  \n",
      "---  ------            --------------  -----  \n",
      " 0   children          21525 non-null  int64  \n",
      " 1   days_employed     19351 non-null  float64\n",
      " 2   dob_years         21525 non-null  int64  \n",
      " 3   education         21525 non-null  object \n",
      " 4   education_id      21525 non-null  int64  \n",
      " 5   family_status     21525 non-null  object \n",
      " 6   family_status_id  21525 non-null  int64  \n",
      " 7   gender            21525 non-null  object \n",
      " 8   income_type       21525 non-null  object \n",
      " 9   debt              21525 non-null  int64  \n",
      " 10  total_income      19351 non-null  float64\n",
      " 11  purpose           21525 non-null  object \n",
      "dtypes: float64(2), int64(5), object(5)\n",
      "memory usage: 2.0+ MB\n"
     ]
    },
    {
     "data": {
      "text/html": [
       "<div>\n",
       "<style scoped>\n",
       "    .dataframe tbody tr th:only-of-type {\n",
       "        vertical-align: middle;\n",
       "    }\n",
       "\n",
       "    .dataframe tbody tr th {\n",
       "        vertical-align: top;\n",
       "    }\n",
       "\n",
       "    .dataframe thead th {\n",
       "        text-align: right;\n",
       "    }\n",
       "</style>\n",
       "<table border=\"1\" class=\"dataframe\">\n",
       "  <thead>\n",
       "    <tr style=\"text-align: right;\">\n",
       "      <th></th>\n",
       "      <th>children</th>\n",
       "      <th>days_employed</th>\n",
       "      <th>dob_years</th>\n",
       "      <th>education</th>\n",
       "      <th>education_id</th>\n",
       "      <th>family_status</th>\n",
       "      <th>family_status_id</th>\n",
       "      <th>gender</th>\n",
       "      <th>income_type</th>\n",
       "      <th>debt</th>\n",
       "      <th>total_income</th>\n",
       "      <th>purpose</th>\n",
       "    </tr>\n",
       "  </thead>\n",
       "  <tbody>\n",
       "    <tr>\n",
       "      <th>19368</th>\n",
       "      <td>0</td>\n",
       "      <td>-1190.364481</td>\n",
       "      <td>49</td>\n",
       "      <td>среднее</td>\n",
       "      <td>1</td>\n",
       "      <td>гражданский брак</td>\n",
       "      <td>1</td>\n",
       "      <td>M</td>\n",
       "      <td>компаньон</td>\n",
       "      <td>0</td>\n",
       "      <td>227807.836151</td>\n",
       "      <td>сыграть свадьбу</td>\n",
       "    </tr>\n",
       "    <tr>\n",
       "      <th>2092</th>\n",
       "      <td>0</td>\n",
       "      <td>NaN</td>\n",
       "      <td>46</td>\n",
       "      <td>высшее</td>\n",
       "      <td>0</td>\n",
       "      <td>Не женат / не замужем</td>\n",
       "      <td>4</td>\n",
       "      <td>F</td>\n",
       "      <td>сотрудник</td>\n",
       "      <td>0</td>\n",
       "      <td>NaN</td>\n",
       "      <td>строительство собственной недвижимости</td>\n",
       "    </tr>\n",
       "    <tr>\n",
       "      <th>3750</th>\n",
       "      <td>0</td>\n",
       "      <td>-5925.187717</td>\n",
       "      <td>47</td>\n",
       "      <td>среднее</td>\n",
       "      <td>1</td>\n",
       "      <td>женат / замужем</td>\n",
       "      <td>0</td>\n",
       "      <td>F</td>\n",
       "      <td>сотрудник</td>\n",
       "      <td>0</td>\n",
       "      <td>108584.918816</td>\n",
       "      <td>высшее образование</td>\n",
       "    </tr>\n",
       "    <tr>\n",
       "      <th>7001</th>\n",
       "      <td>0</td>\n",
       "      <td>-1994.488302</td>\n",
       "      <td>51</td>\n",
       "      <td>среднее</td>\n",
       "      <td>1</td>\n",
       "      <td>гражданский брак</td>\n",
       "      <td>1</td>\n",
       "      <td>F</td>\n",
       "      <td>сотрудник</td>\n",
       "      <td>0</td>\n",
       "      <td>151031.960071</td>\n",
       "      <td>получение образования</td>\n",
       "    </tr>\n",
       "    <tr>\n",
       "      <th>5878</th>\n",
       "      <td>2</td>\n",
       "      <td>-1536.208255</td>\n",
       "      <td>32</td>\n",
       "      <td>среднее</td>\n",
       "      <td>1</td>\n",
       "      <td>женат / замужем</td>\n",
       "      <td>0</td>\n",
       "      <td>F</td>\n",
       "      <td>компаньон</td>\n",
       "      <td>0</td>\n",
       "      <td>108739.187630</td>\n",
       "      <td>получение высшего образования</td>\n",
       "    </tr>\n",
       "    <tr>\n",
       "      <th>2268</th>\n",
       "      <td>2</td>\n",
       "      <td>-3986.090696</td>\n",
       "      <td>34</td>\n",
       "      <td>среднее</td>\n",
       "      <td>1</td>\n",
       "      <td>гражданский брак</td>\n",
       "      <td>1</td>\n",
       "      <td>F</td>\n",
       "      <td>сотрудник</td>\n",
       "      <td>0</td>\n",
       "      <td>83794.393738</td>\n",
       "      <td>профильное образование</td>\n",
       "    </tr>\n",
       "    <tr>\n",
       "      <th>8432</th>\n",
       "      <td>0</td>\n",
       "      <td>NaN</td>\n",
       "      <td>67</td>\n",
       "      <td>среднее</td>\n",
       "      <td>1</td>\n",
       "      <td>женат / замужем</td>\n",
       "      <td>0</td>\n",
       "      <td>F</td>\n",
       "      <td>пенсионер</td>\n",
       "      <td>0</td>\n",
       "      <td>NaN</td>\n",
       "      <td>образование</td>\n",
       "    </tr>\n",
       "    <tr>\n",
       "      <th>7296</th>\n",
       "      <td>0</td>\n",
       "      <td>-316.873466</td>\n",
       "      <td>22</td>\n",
       "      <td>неоконченное высшее</td>\n",
       "      <td>2</td>\n",
       "      <td>Не женат / не замужем</td>\n",
       "      <td>4</td>\n",
       "      <td>M</td>\n",
       "      <td>сотрудник</td>\n",
       "      <td>0</td>\n",
       "      <td>57509.527622</td>\n",
       "      <td>операции с недвижимостью</td>\n",
       "    </tr>\n",
       "    <tr>\n",
       "      <th>11094</th>\n",
       "      <td>0</td>\n",
       "      <td>-3506.868862</td>\n",
       "      <td>66</td>\n",
       "      <td>высшее</td>\n",
       "      <td>0</td>\n",
       "      <td>Не женат / не замужем</td>\n",
       "      <td>4</td>\n",
       "      <td>F</td>\n",
       "      <td>компаньон</td>\n",
       "      <td>0</td>\n",
       "      <td>183123.525033</td>\n",
       "      <td>операции со своей недвижимостью</td>\n",
       "    </tr>\n",
       "    <tr>\n",
       "      <th>9632</th>\n",
       "      <td>1</td>\n",
       "      <td>-4527.247243</td>\n",
       "      <td>45</td>\n",
       "      <td>среднее</td>\n",
       "      <td>1</td>\n",
       "      <td>гражданский брак</td>\n",
       "      <td>1</td>\n",
       "      <td>F</td>\n",
       "      <td>сотрудник</td>\n",
       "      <td>0</td>\n",
       "      <td>105975.080047</td>\n",
       "      <td>образование</td>\n",
       "    </tr>\n",
       "    <tr>\n",
       "      <th>16237</th>\n",
       "      <td>0</td>\n",
       "      <td>401486.706746</td>\n",
       "      <td>64</td>\n",
       "      <td>СРЕДНЕЕ</td>\n",
       "      <td>1</td>\n",
       "      <td>женат / замужем</td>\n",
       "      <td>0</td>\n",
       "      <td>F</td>\n",
       "      <td>пенсионер</td>\n",
       "      <td>0</td>\n",
       "      <td>69467.029954</td>\n",
       "      <td>покупка жилья для сдачи</td>\n",
       "    </tr>\n",
       "    <tr>\n",
       "      <th>14713</th>\n",
       "      <td>1</td>\n",
       "      <td>-2808.226358</td>\n",
       "      <td>37</td>\n",
       "      <td>среднее</td>\n",
       "      <td>1</td>\n",
       "      <td>женат / замужем</td>\n",
       "      <td>0</td>\n",
       "      <td>M</td>\n",
       "      <td>компаньон</td>\n",
       "      <td>0</td>\n",
       "      <td>300653.051416</td>\n",
       "      <td>строительство недвижимости</td>\n",
       "    </tr>\n",
       "    <tr>\n",
       "      <th>605</th>\n",
       "      <td>0</td>\n",
       "      <td>-2563.410163</td>\n",
       "      <td>45</td>\n",
       "      <td>высшее</td>\n",
       "      <td>0</td>\n",
       "      <td>вдовец / вдова</td>\n",
       "      <td>2</td>\n",
       "      <td>F</td>\n",
       "      <td>госслужащий</td>\n",
       "      <td>0</td>\n",
       "      <td>111217.941117</td>\n",
       "      <td>операции с жильем</td>\n",
       "    </tr>\n",
       "    <tr>\n",
       "      <th>5150</th>\n",
       "      <td>0</td>\n",
       "      <td>-204.745691</td>\n",
       "      <td>59</td>\n",
       "      <td>Среднее</td>\n",
       "      <td>1</td>\n",
       "      <td>женат / замужем</td>\n",
       "      <td>0</td>\n",
       "      <td>F</td>\n",
       "      <td>сотрудник</td>\n",
       "      <td>0</td>\n",
       "      <td>223581.773455</td>\n",
       "      <td>покупка жилья для сдачи</td>\n",
       "    </tr>\n",
       "    <tr>\n",
       "      <th>1085</th>\n",
       "      <td>0</td>\n",
       "      <td>-1618.549219</td>\n",
       "      <td>29</td>\n",
       "      <td>среднее</td>\n",
       "      <td>1</td>\n",
       "      <td>Не женат / не замужем</td>\n",
       "      <td>4</td>\n",
       "      <td>M</td>\n",
       "      <td>госслужащий</td>\n",
       "      <td>0</td>\n",
       "      <td>103530.489416</td>\n",
       "      <td>операции с жильем</td>\n",
       "    </tr>\n",
       "    <tr>\n",
       "      <th>20370</th>\n",
       "      <td>1</td>\n",
       "      <td>-2621.903545</td>\n",
       "      <td>39</td>\n",
       "      <td>среднее</td>\n",
       "      <td>1</td>\n",
       "      <td>женат / замужем</td>\n",
       "      <td>0</td>\n",
       "      <td>F</td>\n",
       "      <td>сотрудник</td>\n",
       "      <td>0</td>\n",
       "      <td>144832.645057</td>\n",
       "      <td>на покупку автомобиля</td>\n",
       "    </tr>\n",
       "    <tr>\n",
       "      <th>9562</th>\n",
       "      <td>1</td>\n",
       "      <td>-914.000566</td>\n",
       "      <td>31</td>\n",
       "      <td>среднее</td>\n",
       "      <td>1</td>\n",
       "      <td>гражданский брак</td>\n",
       "      <td>1</td>\n",
       "      <td>F</td>\n",
       "      <td>госслужащий</td>\n",
       "      <td>0</td>\n",
       "      <td>94161.032236</td>\n",
       "      <td>недвижимость</td>\n",
       "    </tr>\n",
       "    <tr>\n",
       "      <th>19585</th>\n",
       "      <td>1</td>\n",
       "      <td>-1651.401702</td>\n",
       "      <td>37</td>\n",
       "      <td>среднее</td>\n",
       "      <td>1</td>\n",
       "      <td>женат / замужем</td>\n",
       "      <td>0</td>\n",
       "      <td>F</td>\n",
       "      <td>компаньон</td>\n",
       "      <td>0</td>\n",
       "      <td>226075.682322</td>\n",
       "      <td>покупка недвижимости</td>\n",
       "    </tr>\n",
       "    <tr>\n",
       "      <th>15750</th>\n",
       "      <td>0</td>\n",
       "      <td>-975.069651</td>\n",
       "      <td>27</td>\n",
       "      <td>СРЕДНЕЕ</td>\n",
       "      <td>1</td>\n",
       "      <td>Не женат / не замужем</td>\n",
       "      <td>4</td>\n",
       "      <td>M</td>\n",
       "      <td>компаньон</td>\n",
       "      <td>1</td>\n",
       "      <td>222535.010180</td>\n",
       "      <td>автомобиль</td>\n",
       "    </tr>\n",
       "    <tr>\n",
       "      <th>10465</th>\n",
       "      <td>1</td>\n",
       "      <td>-2446.672529</td>\n",
       "      <td>32</td>\n",
       "      <td>СРЕДНЕЕ</td>\n",
       "      <td>1</td>\n",
       "      <td>гражданский брак</td>\n",
       "      <td>1</td>\n",
       "      <td>M</td>\n",
       "      <td>компаньон</td>\n",
       "      <td>0</td>\n",
       "      <td>221877.742352</td>\n",
       "      <td>дополнительное образование</td>\n",
       "    </tr>\n",
       "  </tbody>\n",
       "</table>\n",
       "</div>"
      ],
      "text/plain": [
       "       children  days_employed  dob_years            education  education_id  \\\n",
       "19368         0   -1190.364481         49              среднее             1   \n",
       "2092          0            NaN         46               высшее             0   \n",
       "3750          0   -5925.187717         47              среднее             1   \n",
       "7001          0   -1994.488302         51              среднее             1   \n",
       "5878          2   -1536.208255         32              среднее             1   \n",
       "2268          2   -3986.090696         34              среднее             1   \n",
       "8432          0            NaN         67              среднее             1   \n",
       "7296          0    -316.873466         22  неоконченное высшее             2   \n",
       "11094         0   -3506.868862         66               высшее             0   \n",
       "9632          1   -4527.247243         45              среднее             1   \n",
       "16237         0  401486.706746         64              СРЕДНЕЕ             1   \n",
       "14713         1   -2808.226358         37              среднее             1   \n",
       "605           0   -2563.410163         45               высшее             0   \n",
       "5150          0    -204.745691         59              Среднее             1   \n",
       "1085          0   -1618.549219         29              среднее             1   \n",
       "20370         1   -2621.903545         39              среднее             1   \n",
       "9562          1    -914.000566         31              среднее             1   \n",
       "19585         1   -1651.401702         37              среднее             1   \n",
       "15750         0    -975.069651         27              СРЕДНЕЕ             1   \n",
       "10465         1   -2446.672529         32              СРЕДНЕЕ             1   \n",
       "\n",
       "               family_status  family_status_id gender  income_type  debt  \\\n",
       "19368       гражданский брак                 1      M    компаньон     0   \n",
       "2092   Не женат / не замужем                 4      F    сотрудник     0   \n",
       "3750         женат / замужем                 0      F    сотрудник     0   \n",
       "7001        гражданский брак                 1      F    сотрудник     0   \n",
       "5878         женат / замужем                 0      F    компаньон     0   \n",
       "2268        гражданский брак                 1      F    сотрудник     0   \n",
       "8432         женат / замужем                 0      F    пенсионер     0   \n",
       "7296   Не женат / не замужем                 4      M    сотрудник     0   \n",
       "11094  Не женат / не замужем                 4      F    компаньон     0   \n",
       "9632        гражданский брак                 1      F    сотрудник     0   \n",
       "16237        женат / замужем                 0      F    пенсионер     0   \n",
       "14713        женат / замужем                 0      M    компаньон     0   \n",
       "605           вдовец / вдова                 2      F  госслужащий     0   \n",
       "5150         женат / замужем                 0      F    сотрудник     0   \n",
       "1085   Не женат / не замужем                 4      M  госслужащий     0   \n",
       "20370        женат / замужем                 0      F    сотрудник     0   \n",
       "9562        гражданский брак                 1      F  госслужащий     0   \n",
       "19585        женат / замужем                 0      F    компаньон     0   \n",
       "15750  Не женат / не замужем                 4      M    компаньон     1   \n",
       "10465       гражданский брак                 1      M    компаньон     0   \n",
       "\n",
       "        total_income                                 purpose  \n",
       "19368  227807.836151                         сыграть свадьбу  \n",
       "2092             NaN  строительство собственной недвижимости  \n",
       "3750   108584.918816                      высшее образование  \n",
       "7001   151031.960071                   получение образования  \n",
       "5878   108739.187630           получение высшего образования  \n",
       "2268    83794.393738                  профильное образование  \n",
       "8432             NaN                             образование  \n",
       "7296    57509.527622                операции с недвижимостью  \n",
       "11094  183123.525033         операции со своей недвижимостью  \n",
       "9632   105975.080047                             образование  \n",
       "16237   69467.029954                 покупка жилья для сдачи  \n",
       "14713  300653.051416              строительство недвижимости  \n",
       "605    111217.941117                       операции с жильем  \n",
       "5150   223581.773455                 покупка жилья для сдачи  \n",
       "1085   103530.489416                       операции с жильем  \n",
       "20370  144832.645057                   на покупку автомобиля  \n",
       "9562    94161.032236                            недвижимость  \n",
       "19585  226075.682322                    покупка недвижимости  \n",
       "15750  222535.010180                              автомобиль  \n",
       "10465  221877.742352              дополнительное образование  "
      ]
     },
     "execution_count": 2,
     "metadata": {},
     "output_type": "execute_result"
    }
   ],
   "source": [
    "try:\n",
    "    bank_data = pd.read_csv('C:/Users/Mike/Desktop/YP/Sprint3/data.csv')\n",
    "except:\n",
    "    bank_data = pd.read_csv('/datasets/data.csv')\n",
    "\n",
    "bank_data.info()\n",
    "bank_data.sample(20)"
   ]
  },
  {
   "cell_type": "markdown",
   "id": "f02ebedd",
   "metadata": {},
   "source": [
    "### Шаг 2.1 Заполнение пропусков"
   ]
  },
  {
   "cell_type": "code",
   "execution_count": 3,
   "id": "359fb65f",
   "metadata": {},
   "outputs": [
    {
     "data": {
      "text/html": [
       "<div>\n",
       "<style scoped>\n",
       "    .dataframe tbody tr th:only-of-type {\n",
       "        vertical-align: middle;\n",
       "    }\n",
       "\n",
       "    .dataframe tbody tr th {\n",
       "        vertical-align: top;\n",
       "    }\n",
       "\n",
       "    .dataframe thead th {\n",
       "        text-align: right;\n",
       "    }\n",
       "</style>\n",
       "<table border=\"1\" class=\"dataframe\">\n",
       "  <thead>\n",
       "    <tr style=\"text-align: right;\">\n",
       "      <th></th>\n",
       "      <th>children</th>\n",
       "      <th>days_employed</th>\n",
       "      <th>dob_years</th>\n",
       "      <th>education</th>\n",
       "      <th>education_id</th>\n",
       "      <th>family_status</th>\n",
       "      <th>family_status_id</th>\n",
       "      <th>gender</th>\n",
       "      <th>income_type</th>\n",
       "      <th>debt</th>\n",
       "      <th>total_income</th>\n",
       "      <th>purpose</th>\n",
       "    </tr>\n",
       "  </thead>\n",
       "  <tbody>\n",
       "    <tr>\n",
       "      <th>12</th>\n",
       "      <td>0</td>\n",
       "      <td>NaN</td>\n",
       "      <td>65</td>\n",
       "      <td>среднее</td>\n",
       "      <td>1</td>\n",
       "      <td>гражданский брак</td>\n",
       "      <td>1</td>\n",
       "      <td>M</td>\n",
       "      <td>пенсионер</td>\n",
       "      <td>0</td>\n",
       "      <td>NaN</td>\n",
       "      <td>сыграть свадьбу</td>\n",
       "    </tr>\n",
       "    <tr>\n",
       "      <th>26</th>\n",
       "      <td>0</td>\n",
       "      <td>NaN</td>\n",
       "      <td>41</td>\n",
       "      <td>среднее</td>\n",
       "      <td>1</td>\n",
       "      <td>женат / замужем</td>\n",
       "      <td>0</td>\n",
       "      <td>M</td>\n",
       "      <td>госслужащий</td>\n",
       "      <td>0</td>\n",
       "      <td>NaN</td>\n",
       "      <td>образование</td>\n",
       "    </tr>\n",
       "    <tr>\n",
       "      <th>29</th>\n",
       "      <td>0</td>\n",
       "      <td>NaN</td>\n",
       "      <td>63</td>\n",
       "      <td>среднее</td>\n",
       "      <td>1</td>\n",
       "      <td>Не женат / не замужем</td>\n",
       "      <td>4</td>\n",
       "      <td>F</td>\n",
       "      <td>пенсионер</td>\n",
       "      <td>0</td>\n",
       "      <td>NaN</td>\n",
       "      <td>строительство жилой недвижимости</td>\n",
       "    </tr>\n",
       "    <tr>\n",
       "      <th>41</th>\n",
       "      <td>0</td>\n",
       "      <td>NaN</td>\n",
       "      <td>50</td>\n",
       "      <td>среднее</td>\n",
       "      <td>1</td>\n",
       "      <td>женат / замужем</td>\n",
       "      <td>0</td>\n",
       "      <td>F</td>\n",
       "      <td>госслужащий</td>\n",
       "      <td>0</td>\n",
       "      <td>NaN</td>\n",
       "      <td>сделка с подержанным автомобилем</td>\n",
       "    </tr>\n",
       "    <tr>\n",
       "      <th>55</th>\n",
       "      <td>0</td>\n",
       "      <td>NaN</td>\n",
       "      <td>54</td>\n",
       "      <td>среднее</td>\n",
       "      <td>1</td>\n",
       "      <td>гражданский брак</td>\n",
       "      <td>1</td>\n",
       "      <td>F</td>\n",
       "      <td>пенсионер</td>\n",
       "      <td>1</td>\n",
       "      <td>NaN</td>\n",
       "      <td>сыграть свадьбу</td>\n",
       "    </tr>\n",
       "    <tr>\n",
       "      <th>...</th>\n",
       "      <td>...</td>\n",
       "      <td>...</td>\n",
       "      <td>...</td>\n",
       "      <td>...</td>\n",
       "      <td>...</td>\n",
       "      <td>...</td>\n",
       "      <td>...</td>\n",
       "      <td>...</td>\n",
       "      <td>...</td>\n",
       "      <td>...</td>\n",
       "      <td>...</td>\n",
       "      <td>...</td>\n",
       "    </tr>\n",
       "    <tr>\n",
       "      <th>21489</th>\n",
       "      <td>2</td>\n",
       "      <td>NaN</td>\n",
       "      <td>47</td>\n",
       "      <td>Среднее</td>\n",
       "      <td>1</td>\n",
       "      <td>женат / замужем</td>\n",
       "      <td>0</td>\n",
       "      <td>M</td>\n",
       "      <td>компаньон</td>\n",
       "      <td>0</td>\n",
       "      <td>NaN</td>\n",
       "      <td>сделка с автомобилем</td>\n",
       "    </tr>\n",
       "    <tr>\n",
       "      <th>21495</th>\n",
       "      <td>1</td>\n",
       "      <td>NaN</td>\n",
       "      <td>50</td>\n",
       "      <td>среднее</td>\n",
       "      <td>1</td>\n",
       "      <td>гражданский брак</td>\n",
       "      <td>1</td>\n",
       "      <td>F</td>\n",
       "      <td>сотрудник</td>\n",
       "      <td>0</td>\n",
       "      <td>NaN</td>\n",
       "      <td>свадьба</td>\n",
       "    </tr>\n",
       "    <tr>\n",
       "      <th>21497</th>\n",
       "      <td>0</td>\n",
       "      <td>NaN</td>\n",
       "      <td>48</td>\n",
       "      <td>ВЫСШЕЕ</td>\n",
       "      <td>0</td>\n",
       "      <td>женат / замужем</td>\n",
       "      <td>0</td>\n",
       "      <td>F</td>\n",
       "      <td>компаньон</td>\n",
       "      <td>0</td>\n",
       "      <td>NaN</td>\n",
       "      <td>строительство недвижимости</td>\n",
       "    </tr>\n",
       "    <tr>\n",
       "      <th>21502</th>\n",
       "      <td>1</td>\n",
       "      <td>NaN</td>\n",
       "      <td>42</td>\n",
       "      <td>среднее</td>\n",
       "      <td>1</td>\n",
       "      <td>женат / замужем</td>\n",
       "      <td>0</td>\n",
       "      <td>F</td>\n",
       "      <td>сотрудник</td>\n",
       "      <td>0</td>\n",
       "      <td>NaN</td>\n",
       "      <td>строительство жилой недвижимости</td>\n",
       "    </tr>\n",
       "    <tr>\n",
       "      <th>21510</th>\n",
       "      <td>2</td>\n",
       "      <td>NaN</td>\n",
       "      <td>28</td>\n",
       "      <td>среднее</td>\n",
       "      <td>1</td>\n",
       "      <td>женат / замужем</td>\n",
       "      <td>0</td>\n",
       "      <td>F</td>\n",
       "      <td>сотрудник</td>\n",
       "      <td>0</td>\n",
       "      <td>NaN</td>\n",
       "      <td>приобретение автомобиля</td>\n",
       "    </tr>\n",
       "  </tbody>\n",
       "</table>\n",
       "<p>2174 rows × 12 columns</p>\n",
       "</div>"
      ],
      "text/plain": [
       "       children  days_employed  dob_years education  education_id  \\\n",
       "12            0            NaN         65   среднее             1   \n",
       "26            0            NaN         41   среднее             1   \n",
       "29            0            NaN         63   среднее             1   \n",
       "41            0            NaN         50   среднее             1   \n",
       "55            0            NaN         54   среднее             1   \n",
       "...         ...            ...        ...       ...           ...   \n",
       "21489         2            NaN         47   Среднее             1   \n",
       "21495         1            NaN         50   среднее             1   \n",
       "21497         0            NaN         48    ВЫСШЕЕ             0   \n",
       "21502         1            NaN         42   среднее             1   \n",
       "21510         2            NaN         28   среднее             1   \n",
       "\n",
       "               family_status  family_status_id gender  income_type  debt  \\\n",
       "12          гражданский брак                 1      M    пенсионер     0   \n",
       "26           женат / замужем                 0      M  госслужащий     0   \n",
       "29     Не женат / не замужем                 4      F    пенсионер     0   \n",
       "41           женат / замужем                 0      F  госслужащий     0   \n",
       "55          гражданский брак                 1      F    пенсионер     1   \n",
       "...                      ...               ...    ...          ...   ...   \n",
       "21489        женат / замужем                 0      M    компаньон     0   \n",
       "21495       гражданский брак                 1      F    сотрудник     0   \n",
       "21497        женат / замужем                 0      F    компаньон     0   \n",
       "21502        женат / замужем                 0      F    сотрудник     0   \n",
       "21510        женат / замужем                 0      F    сотрудник     0   \n",
       "\n",
       "       total_income                           purpose  \n",
       "12              NaN                   сыграть свадьбу  \n",
       "26              NaN                       образование  \n",
       "29              NaN  строительство жилой недвижимости  \n",
       "41              NaN  сделка с подержанным автомобилем  \n",
       "55              NaN                   сыграть свадьбу  \n",
       "...             ...                               ...  \n",
       "21489           NaN              сделка с автомобилем  \n",
       "21495           NaN                           свадьба  \n",
       "21497           NaN        строительство недвижимости  \n",
       "21502           NaN  строительство жилой недвижимости  \n",
       "21510           NaN           приобретение автомобиля  \n",
       "\n",
       "[2174 rows x 12 columns]"
      ]
     },
     "metadata": {},
     "output_type": "display_data"
    },
    {
     "data": {
      "text/html": [
       "<div>\n",
       "<style scoped>\n",
       "    .dataframe tbody tr th:only-of-type {\n",
       "        vertical-align: middle;\n",
       "    }\n",
       "\n",
       "    .dataframe tbody tr th {\n",
       "        vertical-align: top;\n",
       "    }\n",
       "\n",
       "    .dataframe thead th {\n",
       "        text-align: right;\n",
       "    }\n",
       "</style>\n",
       "<table border=\"1\" class=\"dataframe\">\n",
       "  <thead>\n",
       "    <tr style=\"text-align: right;\">\n",
       "      <th></th>\n",
       "      <th>children</th>\n",
       "      <th>days_employed</th>\n",
       "      <th>dob_years</th>\n",
       "      <th>education</th>\n",
       "      <th>education_id</th>\n",
       "      <th>family_status</th>\n",
       "      <th>family_status_id</th>\n",
       "      <th>gender</th>\n",
       "      <th>income_type</th>\n",
       "      <th>debt</th>\n",
       "      <th>total_income</th>\n",
       "      <th>purpose</th>\n",
       "    </tr>\n",
       "  </thead>\n",
       "  <tbody>\n",
       "    <tr>\n",
       "      <th>12</th>\n",
       "      <td>0</td>\n",
       "      <td>NaN</td>\n",
       "      <td>65</td>\n",
       "      <td>среднее</td>\n",
       "      <td>1</td>\n",
       "      <td>гражданский брак</td>\n",
       "      <td>1</td>\n",
       "      <td>M</td>\n",
       "      <td>пенсионер</td>\n",
       "      <td>0</td>\n",
       "      <td>NaN</td>\n",
       "      <td>сыграть свадьбу</td>\n",
       "    </tr>\n",
       "    <tr>\n",
       "      <th>26</th>\n",
       "      <td>0</td>\n",
       "      <td>NaN</td>\n",
       "      <td>41</td>\n",
       "      <td>среднее</td>\n",
       "      <td>1</td>\n",
       "      <td>женат / замужем</td>\n",
       "      <td>0</td>\n",
       "      <td>M</td>\n",
       "      <td>госслужащий</td>\n",
       "      <td>0</td>\n",
       "      <td>NaN</td>\n",
       "      <td>образование</td>\n",
       "    </tr>\n",
       "    <tr>\n",
       "      <th>29</th>\n",
       "      <td>0</td>\n",
       "      <td>NaN</td>\n",
       "      <td>63</td>\n",
       "      <td>среднее</td>\n",
       "      <td>1</td>\n",
       "      <td>Не женат / не замужем</td>\n",
       "      <td>4</td>\n",
       "      <td>F</td>\n",
       "      <td>пенсионер</td>\n",
       "      <td>0</td>\n",
       "      <td>NaN</td>\n",
       "      <td>строительство жилой недвижимости</td>\n",
       "    </tr>\n",
       "    <tr>\n",
       "      <th>41</th>\n",
       "      <td>0</td>\n",
       "      <td>NaN</td>\n",
       "      <td>50</td>\n",
       "      <td>среднее</td>\n",
       "      <td>1</td>\n",
       "      <td>женат / замужем</td>\n",
       "      <td>0</td>\n",
       "      <td>F</td>\n",
       "      <td>госслужащий</td>\n",
       "      <td>0</td>\n",
       "      <td>NaN</td>\n",
       "      <td>сделка с подержанным автомобилем</td>\n",
       "    </tr>\n",
       "    <tr>\n",
       "      <th>55</th>\n",
       "      <td>0</td>\n",
       "      <td>NaN</td>\n",
       "      <td>54</td>\n",
       "      <td>среднее</td>\n",
       "      <td>1</td>\n",
       "      <td>гражданский брак</td>\n",
       "      <td>1</td>\n",
       "      <td>F</td>\n",
       "      <td>пенсионер</td>\n",
       "      <td>1</td>\n",
       "      <td>NaN</td>\n",
       "      <td>сыграть свадьбу</td>\n",
       "    </tr>\n",
       "    <tr>\n",
       "      <th>...</th>\n",
       "      <td>...</td>\n",
       "      <td>...</td>\n",
       "      <td>...</td>\n",
       "      <td>...</td>\n",
       "      <td>...</td>\n",
       "      <td>...</td>\n",
       "      <td>...</td>\n",
       "      <td>...</td>\n",
       "      <td>...</td>\n",
       "      <td>...</td>\n",
       "      <td>...</td>\n",
       "      <td>...</td>\n",
       "    </tr>\n",
       "    <tr>\n",
       "      <th>21489</th>\n",
       "      <td>2</td>\n",
       "      <td>NaN</td>\n",
       "      <td>47</td>\n",
       "      <td>Среднее</td>\n",
       "      <td>1</td>\n",
       "      <td>женат / замужем</td>\n",
       "      <td>0</td>\n",
       "      <td>M</td>\n",
       "      <td>компаньон</td>\n",
       "      <td>0</td>\n",
       "      <td>NaN</td>\n",
       "      <td>сделка с автомобилем</td>\n",
       "    </tr>\n",
       "    <tr>\n",
       "      <th>21495</th>\n",
       "      <td>1</td>\n",
       "      <td>NaN</td>\n",
       "      <td>50</td>\n",
       "      <td>среднее</td>\n",
       "      <td>1</td>\n",
       "      <td>гражданский брак</td>\n",
       "      <td>1</td>\n",
       "      <td>F</td>\n",
       "      <td>сотрудник</td>\n",
       "      <td>0</td>\n",
       "      <td>NaN</td>\n",
       "      <td>свадьба</td>\n",
       "    </tr>\n",
       "    <tr>\n",
       "      <th>21497</th>\n",
       "      <td>0</td>\n",
       "      <td>NaN</td>\n",
       "      <td>48</td>\n",
       "      <td>ВЫСШЕЕ</td>\n",
       "      <td>0</td>\n",
       "      <td>женат / замужем</td>\n",
       "      <td>0</td>\n",
       "      <td>F</td>\n",
       "      <td>компаньон</td>\n",
       "      <td>0</td>\n",
       "      <td>NaN</td>\n",
       "      <td>строительство недвижимости</td>\n",
       "    </tr>\n",
       "    <tr>\n",
       "      <th>21502</th>\n",
       "      <td>1</td>\n",
       "      <td>NaN</td>\n",
       "      <td>42</td>\n",
       "      <td>среднее</td>\n",
       "      <td>1</td>\n",
       "      <td>женат / замужем</td>\n",
       "      <td>0</td>\n",
       "      <td>F</td>\n",
       "      <td>сотрудник</td>\n",
       "      <td>0</td>\n",
       "      <td>NaN</td>\n",
       "      <td>строительство жилой недвижимости</td>\n",
       "    </tr>\n",
       "    <tr>\n",
       "      <th>21510</th>\n",
       "      <td>2</td>\n",
       "      <td>NaN</td>\n",
       "      <td>28</td>\n",
       "      <td>среднее</td>\n",
       "      <td>1</td>\n",
       "      <td>женат / замужем</td>\n",
       "      <td>0</td>\n",
       "      <td>F</td>\n",
       "      <td>сотрудник</td>\n",
       "      <td>0</td>\n",
       "      <td>NaN</td>\n",
       "      <td>приобретение автомобиля</td>\n",
       "    </tr>\n",
       "  </tbody>\n",
       "</table>\n",
       "<p>2174 rows × 12 columns</p>\n",
       "</div>"
      ],
      "text/plain": [
       "       children  days_employed  dob_years education  education_id  \\\n",
       "12            0            NaN         65   среднее             1   \n",
       "26            0            NaN         41   среднее             1   \n",
       "29            0            NaN         63   среднее             1   \n",
       "41            0            NaN         50   среднее             1   \n",
       "55            0            NaN         54   среднее             1   \n",
       "...         ...            ...        ...       ...           ...   \n",
       "21489         2            NaN         47   Среднее             1   \n",
       "21495         1            NaN         50   среднее             1   \n",
       "21497         0            NaN         48    ВЫСШЕЕ             0   \n",
       "21502         1            NaN         42   среднее             1   \n",
       "21510         2            NaN         28   среднее             1   \n",
       "\n",
       "               family_status  family_status_id gender  income_type  debt  \\\n",
       "12          гражданский брак                 1      M    пенсионер     0   \n",
       "26           женат / замужем                 0      M  госслужащий     0   \n",
       "29     Не женат / не замужем                 4      F    пенсионер     0   \n",
       "41           женат / замужем                 0      F  госслужащий     0   \n",
       "55          гражданский брак                 1      F    пенсионер     1   \n",
       "...                      ...               ...    ...          ...   ...   \n",
       "21489        женат / замужем                 0      M    компаньон     0   \n",
       "21495       гражданский брак                 1      F    сотрудник     0   \n",
       "21497        женат / замужем                 0      F    компаньон     0   \n",
       "21502        женат / замужем                 0      F    сотрудник     0   \n",
       "21510        женат / замужем                 0      F    сотрудник     0   \n",
       "\n",
       "       total_income                           purpose  \n",
       "12              NaN                   сыграть свадьбу  \n",
       "26              NaN                       образование  \n",
       "29              NaN  строительство жилой недвижимости  \n",
       "41              NaN  сделка с подержанным автомобилем  \n",
       "55              NaN                   сыграть свадьбу  \n",
       "...             ...                               ...  \n",
       "21489           NaN              сделка с автомобилем  \n",
       "21495           NaN                           свадьба  \n",
       "21497           NaN        строительство недвижимости  \n",
       "21502           NaN  строительство жилой недвижимости  \n",
       "21510           NaN           приобретение автомобиля  \n",
       "\n",
       "[2174 rows x 12 columns]"
      ]
     },
     "metadata": {},
     "output_type": "display_data"
    }
   ],
   "source": [
    "# Есть пропуски? - Да\n",
    "display(bank_data[bank_data['days_employed'].isna()])\n",
    "display(bank_data[bank_data['total_income'].isna()])"
   ]
  },
  {
   "cell_type": "markdown",
   "id": "2733b7e2",
   "metadata": {},
   "source": [
    "* В столбцах \"days_employed\" и \"total_income\" есть пропуски \"NaN\" (2174 в каждом столбце).\n"
   ]
  },
  {
   "cell_type": "code",
   "execution_count": 4,
   "id": "6bfdaa67",
   "metadata": {},
   "outputs": [
    {
     "data": {
      "text/plain": [
       "'Доля пропусков: 10.1%'"
      ]
     },
     "metadata": {},
     "output_type": "display_data"
    }
   ],
   "source": [
    "# Какая доля пропусков?\n",
    "mis_val_d = 2174 / 21525\n",
    "display(f'Доля пропусков: {mis_val_d:.1%}')"
   ]
  },
  {
   "cell_type": "markdown",
   "id": "73b6d434",
   "metadata": {},
   "source": [
    "#### Проверил какую долю составляют пропущенные значения в каждом из столбцов с пропусками."
   ]
  },
  {
   "cell_type": "markdown",
   "id": "e715b355",
   "metadata": {},
   "source": [
    "#### Причина пропусков значений: человеческий фактор, ошибки переноса в ПО."
   ]
  },
  {
   "cell_type": "markdown",
   "id": "704f713a",
   "metadata": {},
   "source": [
    "#### В данном примере заполнить пропуски лучше медианным значением.\n",
    "#### Это связано с тем, что некоторые значения сильно выделяются среди большинства."
   ]
  },
  {
   "cell_type": "code",
   "execution_count": 5,
   "id": "cc065265",
   "metadata": {},
   "outputs": [],
   "source": [
    "# Замена NaN на медианные значение в двух столбцах:\n",
    "bank_data['days_employed'] = bank_data['days_employed'].fillna(bank_data.groupby('income_type')['days_employed'].transform(\"median\"))\n",
    "bank_data['total_income'] = bank_data['total_income'].fillna(bank_data.groupby('income_type')['total_income'].transform(\"median\"))"
   ]
  },
  {
   "cell_type": "markdown",
   "id": "6a080bfc",
   "metadata": {},
   "source": [
    "#### Связь с 'income_type' прописана, значение заполнено точнее в каждой группе."
   ]
  },
  {
   "cell_type": "code",
   "execution_count": 6,
   "id": "f2c85981",
   "metadata": {},
   "outputs": [
    {
     "data": {
      "text/plain": [
       "children            0.0\n",
       "days_employed       0.0\n",
       "dob_years           0.0\n",
       "education           0.0\n",
       "education_id        0.0\n",
       "family_status       0.0\n",
       "family_status_id    0.0\n",
       "gender              0.0\n",
       "income_type         0.0\n",
       "debt                0.0\n",
       "total_income        0.0\n",
       "purpose             0.0\n",
       "dtype: float64"
      ]
     },
     "execution_count": 6,
     "metadata": {},
     "output_type": "execute_result"
    }
   ],
   "source": [
    "# проверим на пропуски среди всех данных:\n",
    "bank_data.isna().mean()"
   ]
  },
  {
   "cell_type": "markdown",
   "id": "09e464df",
   "metadata": {},
   "source": [
    "#### Пропусков не замечено."
   ]
  },
  {
   "cell_type": "markdown",
   "id": "3831f71b",
   "metadata": {},
   "source": [
    "### Шаг 2.2 Проверка данных на аномалии и исправления."
   ]
  },
  {
   "cell_type": "code",
   "execution_count": 7,
   "id": "231e5baa",
   "metadata": {},
   "outputs": [],
   "source": [
    "bank_data['children'] = bank_data['children'].replace(20, 2)\n",
    "bank_data['children'] = bank_data['children'].replace(-1, 1)"
   ]
  },
  {
   "cell_type": "markdown",
   "id": "180c51b3",
   "metadata": {},
   "source": [
    "* Столбец \"children\" значения \"20\", \"-1\". Исправлено."
   ]
  },
  {
   "cell_type": "code",
   "execution_count": 8,
   "id": "8772e8d5",
   "metadata": {},
   "outputs": [],
   "source": [
    "bank_data['days_employed'] = abs(bank_data['days_employed'])"
   ]
  },
  {
   "cell_type": "markdown",
   "id": "fd1b9b24",
   "metadata": {},
   "source": [
    "* Столбец \"days_employed\" присутствуют отрицательные значения. Заменены на положительные."
   ]
  },
  {
   "cell_type": "code",
   "execution_count": 9,
   "id": "71982189",
   "metadata": {},
   "outputs": [],
   "source": [
    "inc_type_gr = bank_data.groupby('income_type')['dob_years'].median()\n",
    "\n",
    "bank_data.loc[(bank_data['income_type'] == 'безработный') & (bank_data['dob_years'] == 0), 'dob_years'] = 38\n",
    "bank_data.loc[(bank_data['income_type'] == 'в декрете') & (bank_data['dob_years'] == 0), 'dob_years'] = 39\n",
    "bank_data.loc[(bank_data['income_type'] == 'госслужащий') & (bank_data['dob_years'] == 0), 'dob_years'] = 40\n",
    "bank_data.loc[(bank_data['income_type'] == 'компаньон') & (bank_data['dob_years'] == 0), 'dob_years'] = 39\n",
    "bank_data.loc[(bank_data['income_type'] == 'пенсионер') & (bank_data['dob_years'] == 0), 'dob_years'] = 60\n",
    "bank_data.loc[(bank_data['income_type'] == 'предприниматель') & (bank_data['dob_years'] == 0), 'dob_years'] = 42\n",
    "bank_data.loc[(bank_data['income_type'] == 'сотрудник') & (bank_data['dob_years'] == 0), 'dob_years'] = 39\n",
    "bank_data.loc[(bank_data['income_type'] == 'студент') & (bank_data['dob_years'] == 0), 'dob_years'] = 22"
   ]
  },
  {
   "cell_type": "markdown",
   "id": "393b056f",
   "metadata": {},
   "source": [
    "* Столбец \"dob_years\". 101 пропущенное(0) значение. Исправлено, задействован столбец income_type.\n"
   ]
  },
  {
   "cell_type": "code",
   "execution_count": 10,
   "id": "15c4dcdd",
   "metadata": {},
   "outputs": [
    {
     "data": {
      "text/plain": [
       "24.14163324048118"
      ]
     },
     "metadata": {},
     "output_type": "display_data"
    },
    {
     "data": {
      "text/plain": [
       "401755.40047533"
      ]
     },
     "metadata": {},
     "output_type": "display_data"
    }
   ],
   "source": [
    "display(bank_data['days_employed'].min())\n",
    "display(bank_data['days_employed'].max())\n",
    "bank_data['days_employed'] = bank_data['days_employed'] / 24"
   ]
  },
  {
   "cell_type": "markdown",
   "id": "edbd0eb5",
   "metadata": {},
   "source": [
    "* !Бонусом, столбец \"dob_years\", есть шестизначные значения... Из них видно что кто-то работал сотнями лет? Явный артефакт.\n",
    "* Исправлено."
   ]
  },
  {
   "cell_type": "code",
   "execution_count": 11,
   "id": "8cc55504",
   "metadata": {},
   "outputs": [],
   "source": [
    "bank_data = bank_data.loc[bank_data['gender'] != 'XNA']"
   ]
  },
  {
   "cell_type": "markdown",
   "id": "7aa3c997",
   "metadata": {},
   "source": [
    "* Столбец \"gender\". Есть значение 'XNA'. Исключил его из выборки."
   ]
  },
  {
   "cell_type": "markdown",
   "id": "29ca8ed2",
   "metadata": {},
   "source": [
    "* Столбец \"purpose\" много неявных дублей. Нужно привести к одинаковым категориям. Будет исправлено дальше.\n"
   ]
  },
  {
   "cell_type": "code",
   "execution_count": 12,
   "id": "aab41dbd",
   "metadata": {},
   "outputs": [
    {
     "data": {
      "text/html": [
       "<div>\n",
       "<style scoped>\n",
       "    .dataframe tbody tr th:only-of-type {\n",
       "        vertical-align: middle;\n",
       "    }\n",
       "\n",
       "    .dataframe tbody tr th {\n",
       "        vertical-align: top;\n",
       "    }\n",
       "\n",
       "    .dataframe thead th {\n",
       "        text-align: right;\n",
       "    }\n",
       "</style>\n",
       "<table border=\"1\" class=\"dataframe\">\n",
       "  <thead>\n",
       "    <tr style=\"text-align: right;\">\n",
       "      <th></th>\n",
       "      <th>children</th>\n",
       "      <th>days_employed</th>\n",
       "      <th>dob_years</th>\n",
       "      <th>education</th>\n",
       "      <th>education_id</th>\n",
       "      <th>family_status</th>\n",
       "      <th>family_status_id</th>\n",
       "      <th>gender</th>\n",
       "      <th>income_type</th>\n",
       "      <th>debt</th>\n",
       "      <th>total_income</th>\n",
       "      <th>purpose</th>\n",
       "    </tr>\n",
       "  </thead>\n",
       "  <tbody>\n",
       "    <tr>\n",
       "      <th>4060</th>\n",
       "      <td>0</td>\n",
       "      <td>14134.236186</td>\n",
       "      <td>52</td>\n",
       "      <td>среднее</td>\n",
       "      <td>1</td>\n",
       "      <td>Не женат / не замужем</td>\n",
       "      <td>4</td>\n",
       "      <td>F</td>\n",
       "      <td>пенсионер</td>\n",
       "      <td>0</td>\n",
       "      <td>118599.872418</td>\n",
       "      <td>получение образования</td>\n",
       "    </tr>\n",
       "    <tr>\n",
       "      <th>1357</th>\n",
       "      <td>0</td>\n",
       "      <td>46.820030</td>\n",
       "      <td>32</td>\n",
       "      <td>высшее</td>\n",
       "      <td>0</td>\n",
       "      <td>Не женат / не замужем</td>\n",
       "      <td>4</td>\n",
       "      <td>M</td>\n",
       "      <td>сотрудник</td>\n",
       "      <td>0</td>\n",
       "      <td>131776.782925</td>\n",
       "      <td>строительство собственной недвижимости</td>\n",
       "    </tr>\n",
       "    <tr>\n",
       "      <th>19780</th>\n",
       "      <td>2</td>\n",
       "      <td>54.154050</td>\n",
       "      <td>40</td>\n",
       "      <td>высшее</td>\n",
       "      <td>0</td>\n",
       "      <td>в разводе</td>\n",
       "      <td>3</td>\n",
       "      <td>F</td>\n",
       "      <td>компаньон</td>\n",
       "      <td>0</td>\n",
       "      <td>110241.616910</td>\n",
       "      <td>образование</td>\n",
       "    </tr>\n",
       "    <tr>\n",
       "      <th>9943</th>\n",
       "      <td>0</td>\n",
       "      <td>38.642553</td>\n",
       "      <td>46</td>\n",
       "      <td>среднее</td>\n",
       "      <td>1</td>\n",
       "      <td>женат / замужем</td>\n",
       "      <td>0</td>\n",
       "      <td>F</td>\n",
       "      <td>сотрудник</td>\n",
       "      <td>0</td>\n",
       "      <td>44289.171628</td>\n",
       "      <td>покупка недвижимости</td>\n",
       "    </tr>\n",
       "    <tr>\n",
       "      <th>16195</th>\n",
       "      <td>0</td>\n",
       "      <td>35.880181</td>\n",
       "      <td>43</td>\n",
       "      <td>среднее</td>\n",
       "      <td>1</td>\n",
       "      <td>гражданский брак</td>\n",
       "      <td>1</td>\n",
       "      <td>F</td>\n",
       "      <td>сотрудник</td>\n",
       "      <td>0</td>\n",
       "      <td>66175.832104</td>\n",
       "      <td>свой автомобиль</td>\n",
       "    </tr>\n",
       "    <tr>\n",
       "      <th>6717</th>\n",
       "      <td>0</td>\n",
       "      <td>5.791336</td>\n",
       "      <td>24</td>\n",
       "      <td>среднее</td>\n",
       "      <td>1</td>\n",
       "      <td>женат / замужем</td>\n",
       "      <td>0</td>\n",
       "      <td>M</td>\n",
       "      <td>сотрудник</td>\n",
       "      <td>0</td>\n",
       "      <td>143907.938046</td>\n",
       "      <td>недвижимость</td>\n",
       "    </tr>\n",
       "    <tr>\n",
       "      <th>21371</th>\n",
       "      <td>0</td>\n",
       "      <td>15232.601738</td>\n",
       "      <td>58</td>\n",
       "      <td>среднее</td>\n",
       "      <td>1</td>\n",
       "      <td>женат / замужем</td>\n",
       "      <td>0</td>\n",
       "      <td>F</td>\n",
       "      <td>пенсионер</td>\n",
       "      <td>0</td>\n",
       "      <td>99249.076469</td>\n",
       "      <td>операции с жильем</td>\n",
       "    </tr>\n",
       "    <tr>\n",
       "      <th>10820</th>\n",
       "      <td>0</td>\n",
       "      <td>35.140352</td>\n",
       "      <td>41</td>\n",
       "      <td>высшее</td>\n",
       "      <td>0</td>\n",
       "      <td>Не женат / не замужем</td>\n",
       "      <td>4</td>\n",
       "      <td>M</td>\n",
       "      <td>сотрудник</td>\n",
       "      <td>0</td>\n",
       "      <td>260650.390719</td>\n",
       "      <td>на покупку подержанного автомобиля</td>\n",
       "    </tr>\n",
       "    <tr>\n",
       "      <th>21506</th>\n",
       "      <td>1</td>\n",
       "      <td>64.843746</td>\n",
       "      <td>33</td>\n",
       "      <td>ВЫСШЕЕ</td>\n",
       "      <td>0</td>\n",
       "      <td>гражданский брак</td>\n",
       "      <td>1</td>\n",
       "      <td>F</td>\n",
       "      <td>сотрудник</td>\n",
       "      <td>0</td>\n",
       "      <td>145541.993320</td>\n",
       "      <td>свадьба</td>\n",
       "    </tr>\n",
       "    <tr>\n",
       "      <th>12496</th>\n",
       "      <td>0</td>\n",
       "      <td>126.176361</td>\n",
       "      <td>49</td>\n",
       "      <td>высшее</td>\n",
       "      <td>0</td>\n",
       "      <td>женат / замужем</td>\n",
       "      <td>0</td>\n",
       "      <td>M</td>\n",
       "      <td>сотрудник</td>\n",
       "      <td>1</td>\n",
       "      <td>162161.177474</td>\n",
       "      <td>строительство жилой недвижимости</td>\n",
       "    </tr>\n",
       "    <tr>\n",
       "      <th>12198</th>\n",
       "      <td>1</td>\n",
       "      <td>128.826751</td>\n",
       "      <td>26</td>\n",
       "      <td>среднее</td>\n",
       "      <td>1</td>\n",
       "      <td>женат / замужем</td>\n",
       "      <td>0</td>\n",
       "      <td>M</td>\n",
       "      <td>госслужащий</td>\n",
       "      <td>0</td>\n",
       "      <td>172040.236703</td>\n",
       "      <td>покупка жилья для семьи</td>\n",
       "    </tr>\n",
       "    <tr>\n",
       "      <th>5243</th>\n",
       "      <td>0</td>\n",
       "      <td>13818.978457</td>\n",
       "      <td>59</td>\n",
       "      <td>среднее</td>\n",
       "      <td>1</td>\n",
       "      <td>женат / замужем</td>\n",
       "      <td>0</td>\n",
       "      <td>M</td>\n",
       "      <td>пенсионер</td>\n",
       "      <td>0</td>\n",
       "      <td>77213.455421</td>\n",
       "      <td>покупка жилья для семьи</td>\n",
       "    </tr>\n",
       "    <tr>\n",
       "      <th>14055</th>\n",
       "      <td>0</td>\n",
       "      <td>14455.248984</td>\n",
       "      <td>67</td>\n",
       "      <td>среднее</td>\n",
       "      <td>1</td>\n",
       "      <td>женат / замужем</td>\n",
       "      <td>0</td>\n",
       "      <td>F</td>\n",
       "      <td>пенсионер</td>\n",
       "      <td>0</td>\n",
       "      <td>53272.542218</td>\n",
       "      <td>строительство жилой недвижимости</td>\n",
       "    </tr>\n",
       "    <tr>\n",
       "      <th>19955</th>\n",
       "      <td>0</td>\n",
       "      <td>12.601503</td>\n",
       "      <td>26</td>\n",
       "      <td>неоконченное высшее</td>\n",
       "      <td>2</td>\n",
       "      <td>Не женат / не замужем</td>\n",
       "      <td>4</td>\n",
       "      <td>M</td>\n",
       "      <td>сотрудник</td>\n",
       "      <td>0</td>\n",
       "      <td>187032.697427</td>\n",
       "      <td>недвижимость</td>\n",
       "    </tr>\n",
       "    <tr>\n",
       "      <th>12131</th>\n",
       "      <td>0</td>\n",
       "      <td>16423.538195</td>\n",
       "      <td>66</td>\n",
       "      <td>среднее</td>\n",
       "      <td>1</td>\n",
       "      <td>в разводе</td>\n",
       "      <td>3</td>\n",
       "      <td>F</td>\n",
       "      <td>пенсионер</td>\n",
       "      <td>0</td>\n",
       "      <td>112522.281612</td>\n",
       "      <td>дополнительное образование</td>\n",
       "    </tr>\n",
       "  </tbody>\n",
       "</table>\n",
       "</div>"
      ],
      "text/plain": [
       "       children  days_employed  dob_years            education  education_id  \\\n",
       "4060          0   14134.236186         52              среднее             1   \n",
       "1357          0      46.820030         32               высшее             0   \n",
       "19780         2      54.154050         40               высшее             0   \n",
       "9943          0      38.642553         46              среднее             1   \n",
       "16195         0      35.880181         43              среднее             1   \n",
       "6717          0       5.791336         24              среднее             1   \n",
       "21371         0   15232.601738         58              среднее             1   \n",
       "10820         0      35.140352         41               высшее             0   \n",
       "21506         1      64.843746         33               ВЫСШЕЕ             0   \n",
       "12496         0     126.176361         49               высшее             0   \n",
       "12198         1     128.826751         26              среднее             1   \n",
       "5243          0   13818.978457         59              среднее             1   \n",
       "14055         0   14455.248984         67              среднее             1   \n",
       "19955         0      12.601503         26  неоконченное высшее             2   \n",
       "12131         0   16423.538195         66              среднее             1   \n",
       "\n",
       "               family_status  family_status_id gender  income_type  debt  \\\n",
       "4060   Не женат / не замужем                 4      F    пенсионер     0   \n",
       "1357   Не женат / не замужем                 4      M    сотрудник     0   \n",
       "19780              в разводе                 3      F    компаньон     0   \n",
       "9943         женат / замужем                 0      F    сотрудник     0   \n",
       "16195       гражданский брак                 1      F    сотрудник     0   \n",
       "6717         женат / замужем                 0      M    сотрудник     0   \n",
       "21371        женат / замужем                 0      F    пенсионер     0   \n",
       "10820  Не женат / не замужем                 4      M    сотрудник     0   \n",
       "21506       гражданский брак                 1      F    сотрудник     0   \n",
       "12496        женат / замужем                 0      M    сотрудник     1   \n",
       "12198        женат / замужем                 0      M  госслужащий     0   \n",
       "5243         женат / замужем                 0      M    пенсионер     0   \n",
       "14055        женат / замужем                 0      F    пенсионер     0   \n",
       "19955  Не женат / не замужем                 4      M    сотрудник     0   \n",
       "12131              в разводе                 3      F    пенсионер     0   \n",
       "\n",
       "        total_income                                 purpose  \n",
       "4060   118599.872418                   получение образования  \n",
       "1357   131776.782925  строительство собственной недвижимости  \n",
       "19780  110241.616910                             образование  \n",
       "9943    44289.171628                    покупка недвижимости  \n",
       "16195   66175.832104                         свой автомобиль  \n",
       "6717   143907.938046                            недвижимость  \n",
       "21371   99249.076469                       операции с жильем  \n",
       "10820  260650.390719      на покупку подержанного автомобиля  \n",
       "21506  145541.993320                                 свадьба  \n",
       "12496  162161.177474        строительство жилой недвижимости  \n",
       "12198  172040.236703                 покупка жилья для семьи  \n",
       "5243    77213.455421                 покупка жилья для семьи  \n",
       "14055   53272.542218        строительство жилой недвижимости  \n",
       "19955  187032.697427                            недвижимость  \n",
       "12131  112522.281612              дополнительное образование  "
      ]
     },
     "metadata": {},
     "output_type": "display_data"
    },
    {
     "name": "stdout",
     "output_type": "stream",
     "text": [
      "<class 'pandas.core.frame.DataFrame'>\n",
      "Int64Index: 21524 entries, 0 to 21524\n",
      "Data columns (total 12 columns):\n",
      " #   Column            Non-Null Count  Dtype  \n",
      "---  ------            --------------  -----  \n",
      " 0   children          21524 non-null  int64  \n",
      " 1   days_employed     21524 non-null  float64\n",
      " 2   dob_years         21524 non-null  int64  \n",
      " 3   education         21524 non-null  object \n",
      " 4   education_id      21524 non-null  int64  \n",
      " 5   family_status     21524 non-null  object \n",
      " 6   family_status_id  21524 non-null  int64  \n",
      " 7   gender            21524 non-null  object \n",
      " 8   income_type       21524 non-null  object \n",
      " 9   debt              21524 non-null  int64  \n",
      " 10  total_income      21524 non-null  float64\n",
      " 11  purpose           21524 non-null  object \n",
      "dtypes: float64(2), int64(5), object(5)\n",
      "memory usage: 2.1+ MB\n"
     ]
    }
   ],
   "source": [
    "display(bank_data.sample(15))\n",
    "bank_data.info()"
   ]
  },
  {
   "cell_type": "markdown",
   "id": "ece51828",
   "metadata": {},
   "source": [
    "#### Уделено вниманий аномальным значениям."
   ]
  },
  {
   "cell_type": "markdown",
   "id": "9ce797f6",
   "metadata": {},
   "source": [
    "### Шаг 2.3. Изменение типов данных."
   ]
  },
  {
   "cell_type": "code",
   "execution_count": 13,
   "id": "d1c31f58",
   "metadata": {},
   "outputs": [],
   "source": [
    "bank_data['total_income'] = bank_data['total_income'].astype('int')\n",
    "bank_data['days_employed'] = bank_data['days_employed'].astype('int')"
   ]
  },
  {
   "cell_type": "markdown",
   "id": "142a7da0",
   "metadata": {},
   "source": [
    "* Заменим тип данных у 'total_income' и 'days_employed':\n",
    "* В ТЗ не указано про 'days_employed', но по логике считается день полностью отработанным, а не на какую-то его часть ;)"
   ]
  },
  {
   "cell_type": "code",
   "execution_count": 14,
   "id": "259b6221",
   "metadata": {},
   "outputs": [
    {
     "name": "stdout",
     "output_type": "stream",
     "text": [
      "<class 'pandas.core.frame.DataFrame'>\n",
      "Int64Index: 21524 entries, 0 to 21524\n",
      "Data columns (total 12 columns):\n",
      " #   Column            Non-Null Count  Dtype \n",
      "---  ------            --------------  ----- \n",
      " 0   children          21524 non-null  int64 \n",
      " 1   days_employed     21524 non-null  int64 \n",
      " 2   dob_years         21524 non-null  int64 \n",
      " 3   education         21524 non-null  object\n",
      " 4   education_id      21524 non-null  int64 \n",
      " 5   family_status     21524 non-null  object\n",
      " 6   family_status_id  21524 non-null  int64 \n",
      " 7   gender            21524 non-null  object\n",
      " 8   income_type       21524 non-null  object\n",
      " 9   debt              21524 non-null  int64 \n",
      " 10  total_income      21524 non-null  int64 \n",
      " 11  purpose           21524 non-null  object\n",
      "dtypes: int64(7), object(5)\n",
      "memory usage: 2.1+ MB\n"
     ]
    },
    {
     "data": {
      "text/html": [
       "<div>\n",
       "<style scoped>\n",
       "    .dataframe tbody tr th:only-of-type {\n",
       "        vertical-align: middle;\n",
       "    }\n",
       "\n",
       "    .dataframe tbody tr th {\n",
       "        vertical-align: top;\n",
       "    }\n",
       "\n",
       "    .dataframe thead th {\n",
       "        text-align: right;\n",
       "    }\n",
       "</style>\n",
       "<table border=\"1\" class=\"dataframe\">\n",
       "  <thead>\n",
       "    <tr style=\"text-align: right;\">\n",
       "      <th></th>\n",
       "      <th>children</th>\n",
       "      <th>days_employed</th>\n",
       "      <th>dob_years</th>\n",
       "      <th>education</th>\n",
       "      <th>education_id</th>\n",
       "      <th>family_status</th>\n",
       "      <th>family_status_id</th>\n",
       "      <th>gender</th>\n",
       "      <th>income_type</th>\n",
       "      <th>debt</th>\n",
       "      <th>total_income</th>\n",
       "      <th>purpose</th>\n",
       "    </tr>\n",
       "  </thead>\n",
       "  <tbody>\n",
       "    <tr>\n",
       "      <th>6351</th>\n",
       "      <td>0</td>\n",
       "      <td>66</td>\n",
       "      <td>39</td>\n",
       "      <td>СРЕДНЕЕ</td>\n",
       "      <td>1</td>\n",
       "      <td>женат / замужем</td>\n",
       "      <td>0</td>\n",
       "      <td>F</td>\n",
       "      <td>сотрудник</td>\n",
       "      <td>0</td>\n",
       "      <td>123145</td>\n",
       "      <td>покупка жилья для сдачи</td>\n",
       "    </tr>\n",
       "    <tr>\n",
       "      <th>1164</th>\n",
       "      <td>0</td>\n",
       "      <td>456</td>\n",
       "      <td>57</td>\n",
       "      <td>среднее</td>\n",
       "      <td>1</td>\n",
       "      <td>гражданский брак</td>\n",
       "      <td>1</td>\n",
       "      <td>F</td>\n",
       "      <td>госслужащий</td>\n",
       "      <td>0</td>\n",
       "      <td>153017</td>\n",
       "      <td>ремонт жилью</td>\n",
       "    </tr>\n",
       "    <tr>\n",
       "      <th>14651</th>\n",
       "      <td>0</td>\n",
       "      <td>65</td>\n",
       "      <td>23</td>\n",
       "      <td>высшее</td>\n",
       "      <td>0</td>\n",
       "      <td>гражданский брак</td>\n",
       "      <td>1</td>\n",
       "      <td>F</td>\n",
       "      <td>сотрудник</td>\n",
       "      <td>0</td>\n",
       "      <td>142594</td>\n",
       "      <td>ремонт жилью</td>\n",
       "    </tr>\n",
       "    <tr>\n",
       "      <th>13887</th>\n",
       "      <td>0</td>\n",
       "      <td>14924</td>\n",
       "      <td>62</td>\n",
       "      <td>среднее</td>\n",
       "      <td>1</td>\n",
       "      <td>женат / замужем</td>\n",
       "      <td>0</td>\n",
       "      <td>M</td>\n",
       "      <td>пенсионер</td>\n",
       "      <td>0</td>\n",
       "      <td>158709</td>\n",
       "      <td>на покупку автомобиля</td>\n",
       "    </tr>\n",
       "    <tr>\n",
       "      <th>18193</th>\n",
       "      <td>1</td>\n",
       "      <td>7</td>\n",
       "      <td>28</td>\n",
       "      <td>среднее</td>\n",
       "      <td>1</td>\n",
       "      <td>женат / замужем</td>\n",
       "      <td>0</td>\n",
       "      <td>M</td>\n",
       "      <td>компаньон</td>\n",
       "      <td>0</td>\n",
       "      <td>73060</td>\n",
       "      <td>профильное образование</td>\n",
       "    </tr>\n",
       "    <tr>\n",
       "      <th>7085</th>\n",
       "      <td>1</td>\n",
       "      <td>91</td>\n",
       "      <td>32</td>\n",
       "      <td>среднее</td>\n",
       "      <td>1</td>\n",
       "      <td>женат / замужем</td>\n",
       "      <td>0</td>\n",
       "      <td>F</td>\n",
       "      <td>сотрудник</td>\n",
       "      <td>0</td>\n",
       "      <td>148367</td>\n",
       "      <td>покупка жилья</td>\n",
       "    </tr>\n",
       "    <tr>\n",
       "      <th>586</th>\n",
       "      <td>0</td>\n",
       "      <td>22</td>\n",
       "      <td>35</td>\n",
       "      <td>высшее</td>\n",
       "      <td>0</td>\n",
       "      <td>женат / замужем</td>\n",
       "      <td>0</td>\n",
       "      <td>F</td>\n",
       "      <td>сотрудник</td>\n",
       "      <td>0</td>\n",
       "      <td>196808</td>\n",
       "      <td>строительство недвижимости</td>\n",
       "    </tr>\n",
       "    <tr>\n",
       "      <th>4274</th>\n",
       "      <td>0</td>\n",
       "      <td>165</td>\n",
       "      <td>46</td>\n",
       "      <td>СРЕДНЕЕ</td>\n",
       "      <td>1</td>\n",
       "      <td>женат / замужем</td>\n",
       "      <td>0</td>\n",
       "      <td>M</td>\n",
       "      <td>компаньон</td>\n",
       "      <td>1</td>\n",
       "      <td>184625</td>\n",
       "      <td>автомобили</td>\n",
       "    </tr>\n",
       "    <tr>\n",
       "      <th>14771</th>\n",
       "      <td>1</td>\n",
       "      <td>159</td>\n",
       "      <td>54</td>\n",
       "      <td>среднее</td>\n",
       "      <td>1</td>\n",
       "      <td>в разводе</td>\n",
       "      <td>3</td>\n",
       "      <td>F</td>\n",
       "      <td>сотрудник</td>\n",
       "      <td>0</td>\n",
       "      <td>138783</td>\n",
       "      <td>свой автомобиль</td>\n",
       "    </tr>\n",
       "    <tr>\n",
       "      <th>14839</th>\n",
       "      <td>1</td>\n",
       "      <td>116</td>\n",
       "      <td>42</td>\n",
       "      <td>высшее</td>\n",
       "      <td>0</td>\n",
       "      <td>женат / замужем</td>\n",
       "      <td>0</td>\n",
       "      <td>F</td>\n",
       "      <td>компаньон</td>\n",
       "      <td>0</td>\n",
       "      <td>270859</td>\n",
       "      <td>на покупку подержанного автомобиля</td>\n",
       "    </tr>\n",
       "    <tr>\n",
       "      <th>17043</th>\n",
       "      <td>1</td>\n",
       "      <td>345</td>\n",
       "      <td>42</td>\n",
       "      <td>высшее</td>\n",
       "      <td>0</td>\n",
       "      <td>женат / замужем</td>\n",
       "      <td>0</td>\n",
       "      <td>M</td>\n",
       "      <td>сотрудник</td>\n",
       "      <td>0</td>\n",
       "      <td>139941</td>\n",
       "      <td>жилье</td>\n",
       "    </tr>\n",
       "    <tr>\n",
       "      <th>15055</th>\n",
       "      <td>0</td>\n",
       "      <td>6</td>\n",
       "      <td>29</td>\n",
       "      <td>среднее</td>\n",
       "      <td>1</td>\n",
       "      <td>женат / замужем</td>\n",
       "      <td>0</td>\n",
       "      <td>F</td>\n",
       "      <td>сотрудник</td>\n",
       "      <td>1</td>\n",
       "      <td>74887</td>\n",
       "      <td>получение образования</td>\n",
       "    </tr>\n",
       "    <tr>\n",
       "      <th>5881</th>\n",
       "      <td>0</td>\n",
       "      <td>21</td>\n",
       "      <td>49</td>\n",
       "      <td>высшее</td>\n",
       "      <td>0</td>\n",
       "      <td>женат / замужем</td>\n",
       "      <td>0</td>\n",
       "      <td>M</td>\n",
       "      <td>сотрудник</td>\n",
       "      <td>0</td>\n",
       "      <td>193809</td>\n",
       "      <td>покупка жилья для сдачи</td>\n",
       "    </tr>\n",
       "    <tr>\n",
       "      <th>8829</th>\n",
       "      <td>0</td>\n",
       "      <td>14</td>\n",
       "      <td>56</td>\n",
       "      <td>среднее</td>\n",
       "      <td>1</td>\n",
       "      <td>женат / замужем</td>\n",
       "      <td>0</td>\n",
       "      <td>M</td>\n",
       "      <td>госслужащий</td>\n",
       "      <td>0</td>\n",
       "      <td>187323</td>\n",
       "      <td>жилье</td>\n",
       "    </tr>\n",
       "    <tr>\n",
       "      <th>9573</th>\n",
       "      <td>0</td>\n",
       "      <td>64</td>\n",
       "      <td>42</td>\n",
       "      <td>среднее</td>\n",
       "      <td>1</td>\n",
       "      <td>женат / замужем</td>\n",
       "      <td>0</td>\n",
       "      <td>F</td>\n",
       "      <td>компаньон</td>\n",
       "      <td>0</td>\n",
       "      <td>172357</td>\n",
       "      <td>заняться высшим образованием</td>\n",
       "    </tr>\n",
       "  </tbody>\n",
       "</table>\n",
       "</div>"
      ],
      "text/plain": [
       "       children  days_employed  dob_years education  education_id  \\\n",
       "6351          0             66         39   СРЕДНЕЕ             1   \n",
       "1164          0            456         57   среднее             1   \n",
       "14651         0             65         23    высшее             0   \n",
       "13887         0          14924         62   среднее             1   \n",
       "18193         1              7         28   среднее             1   \n",
       "7085          1             91         32   среднее             1   \n",
       "586           0             22         35    высшее             0   \n",
       "4274          0            165         46   СРЕДНЕЕ             1   \n",
       "14771         1            159         54   среднее             1   \n",
       "14839         1            116         42    высшее             0   \n",
       "17043         1            345         42    высшее             0   \n",
       "15055         0              6         29   среднее             1   \n",
       "5881          0             21         49    высшее             0   \n",
       "8829          0             14         56   среднее             1   \n",
       "9573          0             64         42   среднее             1   \n",
       "\n",
       "          family_status  family_status_id gender  income_type  debt  \\\n",
       "6351    женат / замужем                 0      F    сотрудник     0   \n",
       "1164   гражданский брак                 1      F  госслужащий     0   \n",
       "14651  гражданский брак                 1      F    сотрудник     0   \n",
       "13887   женат / замужем                 0      M    пенсионер     0   \n",
       "18193   женат / замужем                 0      M    компаньон     0   \n",
       "7085    женат / замужем                 0      F    сотрудник     0   \n",
       "586     женат / замужем                 0      F    сотрудник     0   \n",
       "4274    женат / замужем                 0      M    компаньон     1   \n",
       "14771         в разводе                 3      F    сотрудник     0   \n",
       "14839   женат / замужем                 0      F    компаньон     0   \n",
       "17043   женат / замужем                 0      M    сотрудник     0   \n",
       "15055   женат / замужем                 0      F    сотрудник     1   \n",
       "5881    женат / замужем                 0      M    сотрудник     0   \n",
       "8829    женат / замужем                 0      M  госслужащий     0   \n",
       "9573    женат / замужем                 0      F    компаньон     0   \n",
       "\n",
       "       total_income                             purpose  \n",
       "6351         123145             покупка жилья для сдачи  \n",
       "1164         153017                        ремонт жилью  \n",
       "14651        142594                        ремонт жилью  \n",
       "13887        158709               на покупку автомобиля  \n",
       "18193         73060              профильное образование  \n",
       "7085         148367                       покупка жилья  \n",
       "586          196808          строительство недвижимости  \n",
       "4274         184625                          автомобили  \n",
       "14771        138783                     свой автомобиль  \n",
       "14839        270859  на покупку подержанного автомобиля  \n",
       "17043        139941                               жилье  \n",
       "15055         74887               получение образования  \n",
       "5881         193809             покупка жилья для сдачи  \n",
       "8829         187323                               жилье  \n",
       "9573         172357        заняться высшим образованием  "
      ]
     },
     "execution_count": 14,
     "metadata": {},
     "output_type": "execute_result"
    }
   ],
   "source": [
    "# Что в итоге?\n",
    "bank_data.info()\n",
    "bank_data.sample(15)"
   ]
  },
  {
   "cell_type": "markdown",
   "id": "293d5f07",
   "metadata": {},
   "source": [
    "* А вот и видны изменения."
   ]
  },
  {
   "cell_type": "markdown",
   "id": "cc0ff1dd",
   "metadata": {},
   "source": [
    "### Шаг 2.4. Удаление дубликатов."
   ]
  },
  {
   "cell_type": "code",
   "execution_count": 15,
   "id": "a7dd3da3",
   "metadata": {},
   "outputs": [],
   "source": [
    "# неявные дубликаты? Убрал\n",
    "bank_data['education'] = bank_data['education'].str.lower()"
   ]
  },
  {
   "cell_type": "markdown",
   "id": "a5b8370b",
   "metadata": {},
   "source": [
    "* Столбец \"education\". Присутствуют неявные дубликаты. Разные регистры. Исправлено."
   ]
  },
  {
   "cell_type": "code",
   "execution_count": 16,
   "id": "127fcbcb",
   "metadata": {},
   "outputs": [
    {
     "data": {
      "text/plain": [
       "71"
      ]
     },
     "metadata": {},
     "output_type": "display_data"
    }
   ],
   "source": [
    "\n",
    "display(bank_data.duplicated().sum())\n",
    "bank_data = bank_data.drop_duplicates().reset_index(drop=True)"
   ]
  },
  {
   "cell_type": "markdown",
   "id": "e9eff5b0",
   "metadata": {},
   "source": [
    "* Явные дубликаты удалены, индексы восстановлены."
   ]
  },
  {
   "cell_type": "code",
   "execution_count": 17,
   "id": "c8b340b9",
   "metadata": {},
   "outputs": [
    {
     "data": {
      "text/html": [
       "<div>\n",
       "<style scoped>\n",
       "    .dataframe tbody tr th:only-of-type {\n",
       "        vertical-align: middle;\n",
       "    }\n",
       "\n",
       "    .dataframe tbody tr th {\n",
       "        vertical-align: top;\n",
       "    }\n",
       "\n",
       "    .dataframe thead th {\n",
       "        text-align: right;\n",
       "    }\n",
       "</style>\n",
       "<table border=\"1\" class=\"dataframe\">\n",
       "  <thead>\n",
       "    <tr style=\"text-align: right;\">\n",
       "      <th></th>\n",
       "      <th>children</th>\n",
       "      <th>days_employed</th>\n",
       "      <th>dob_years</th>\n",
       "      <th>education</th>\n",
       "      <th>education_id</th>\n",
       "      <th>family_status</th>\n",
       "      <th>family_status_id</th>\n",
       "      <th>gender</th>\n",
       "      <th>income_type</th>\n",
       "      <th>debt</th>\n",
       "      <th>total_income</th>\n",
       "      <th>purpose</th>\n",
       "    </tr>\n",
       "  </thead>\n",
       "  <tbody>\n",
       "    <tr>\n",
       "      <th>21204</th>\n",
       "      <td>1</td>\n",
       "      <td>78</td>\n",
       "      <td>47</td>\n",
       "      <td>среднее</td>\n",
       "      <td>1</td>\n",
       "      <td>гражданский брак</td>\n",
       "      <td>1</td>\n",
       "      <td>M</td>\n",
       "      <td>компаньон</td>\n",
       "      <td>1</td>\n",
       "      <td>277862</td>\n",
       "      <td>сыграть свадьбу</td>\n",
       "    </tr>\n",
       "    <tr>\n",
       "      <th>11608</th>\n",
       "      <td>0</td>\n",
       "      <td>91</td>\n",
       "      <td>37</td>\n",
       "      <td>среднее</td>\n",
       "      <td>1</td>\n",
       "      <td>женат / замужем</td>\n",
       "      <td>0</td>\n",
       "      <td>M</td>\n",
       "      <td>компаньон</td>\n",
       "      <td>0</td>\n",
       "      <td>197217</td>\n",
       "      <td>жилье</td>\n",
       "    </tr>\n",
       "    <tr>\n",
       "      <th>16904</th>\n",
       "      <td>0</td>\n",
       "      <td>14225</td>\n",
       "      <td>63</td>\n",
       "      <td>среднее</td>\n",
       "      <td>1</td>\n",
       "      <td>Не женат / не замужем</td>\n",
       "      <td>4</td>\n",
       "      <td>F</td>\n",
       "      <td>пенсионер</td>\n",
       "      <td>0</td>\n",
       "      <td>281086</td>\n",
       "      <td>получение высшего образования</td>\n",
       "    </tr>\n",
       "    <tr>\n",
       "      <th>2137</th>\n",
       "      <td>0</td>\n",
       "      <td>292</td>\n",
       "      <td>49</td>\n",
       "      <td>среднее</td>\n",
       "      <td>1</td>\n",
       "      <td>женат / замужем</td>\n",
       "      <td>0</td>\n",
       "      <td>F</td>\n",
       "      <td>госслужащий</td>\n",
       "      <td>0</td>\n",
       "      <td>320370</td>\n",
       "      <td>операции с недвижимостью</td>\n",
       "    </tr>\n",
       "    <tr>\n",
       "      <th>11601</th>\n",
       "      <td>0</td>\n",
       "      <td>21</td>\n",
       "      <td>57</td>\n",
       "      <td>высшее</td>\n",
       "      <td>0</td>\n",
       "      <td>женат / замужем</td>\n",
       "      <td>0</td>\n",
       "      <td>M</td>\n",
       "      <td>сотрудник</td>\n",
       "      <td>0</td>\n",
       "      <td>258177</td>\n",
       "      <td>покупка коммерческой недвижимости</td>\n",
       "    </tr>\n",
       "    <tr>\n",
       "      <th>18459</th>\n",
       "      <td>1</td>\n",
       "      <td>303</td>\n",
       "      <td>39</td>\n",
       "      <td>среднее</td>\n",
       "      <td>1</td>\n",
       "      <td>Не женат / не замужем</td>\n",
       "      <td>4</td>\n",
       "      <td>M</td>\n",
       "      <td>компаньон</td>\n",
       "      <td>0</td>\n",
       "      <td>133155</td>\n",
       "      <td>высшее образование</td>\n",
       "    </tr>\n",
       "    <tr>\n",
       "      <th>7568</th>\n",
       "      <td>0</td>\n",
       "      <td>64</td>\n",
       "      <td>51</td>\n",
       "      <td>высшее</td>\n",
       "      <td>0</td>\n",
       "      <td>женат / замужем</td>\n",
       "      <td>0</td>\n",
       "      <td>F</td>\n",
       "      <td>компаньон</td>\n",
       "      <td>0</td>\n",
       "      <td>172357</td>\n",
       "      <td>покупка коммерческой недвижимости</td>\n",
       "    </tr>\n",
       "    <tr>\n",
       "      <th>21012</th>\n",
       "      <td>1</td>\n",
       "      <td>142</td>\n",
       "      <td>36</td>\n",
       "      <td>высшее</td>\n",
       "      <td>0</td>\n",
       "      <td>гражданский брак</td>\n",
       "      <td>1</td>\n",
       "      <td>F</td>\n",
       "      <td>сотрудник</td>\n",
       "      <td>0</td>\n",
       "      <td>304224</td>\n",
       "      <td>покупка жилья для сдачи</td>\n",
       "    </tr>\n",
       "    <tr>\n",
       "      <th>16572</th>\n",
       "      <td>0</td>\n",
       "      <td>29</td>\n",
       "      <td>49</td>\n",
       "      <td>высшее</td>\n",
       "      <td>0</td>\n",
       "      <td>женат / замужем</td>\n",
       "      <td>0</td>\n",
       "      <td>M</td>\n",
       "      <td>сотрудник</td>\n",
       "      <td>0</td>\n",
       "      <td>280333</td>\n",
       "      <td>получение высшего образования</td>\n",
       "    </tr>\n",
       "    <tr>\n",
       "      <th>2535</th>\n",
       "      <td>0</td>\n",
       "      <td>71</td>\n",
       "      <td>53</td>\n",
       "      <td>среднее</td>\n",
       "      <td>1</td>\n",
       "      <td>женат / замужем</td>\n",
       "      <td>0</td>\n",
       "      <td>M</td>\n",
       "      <td>сотрудник</td>\n",
       "      <td>1</td>\n",
       "      <td>144991</td>\n",
       "      <td>дополнительное образование</td>\n",
       "    </tr>\n",
       "  </tbody>\n",
       "</table>\n",
       "</div>"
      ],
      "text/plain": [
       "       children  days_employed  dob_years education  education_id  \\\n",
       "21204         1             78         47   среднее             1   \n",
       "11608         0             91         37   среднее             1   \n",
       "16904         0          14225         63   среднее             1   \n",
       "2137          0            292         49   среднее             1   \n",
       "11601         0             21         57    высшее             0   \n",
       "18459         1            303         39   среднее             1   \n",
       "7568          0             64         51    высшее             0   \n",
       "21012         1            142         36    высшее             0   \n",
       "16572         0             29         49    высшее             0   \n",
       "2535          0             71         53   среднее             1   \n",
       "\n",
       "               family_status  family_status_id gender  income_type  debt  \\\n",
       "21204       гражданский брак                 1      M    компаньон     1   \n",
       "11608        женат / замужем                 0      M    компаньон     0   \n",
       "16904  Не женат / не замужем                 4      F    пенсионер     0   \n",
       "2137         женат / замужем                 0      F  госслужащий     0   \n",
       "11601        женат / замужем                 0      M    сотрудник     0   \n",
       "18459  Не женат / не замужем                 4      M    компаньон     0   \n",
       "7568         женат / замужем                 0      F    компаньон     0   \n",
       "21012       гражданский брак                 1      F    сотрудник     0   \n",
       "16572        женат / замужем                 0      M    сотрудник     0   \n",
       "2535         женат / замужем                 0      M    сотрудник     1   \n",
       "\n",
       "       total_income                            purpose  \n",
       "21204        277862                    сыграть свадьбу  \n",
       "11608        197217                              жилье  \n",
       "16904        281086      получение высшего образования  \n",
       "2137         320370           операции с недвижимостью  \n",
       "11601        258177  покупка коммерческой недвижимости  \n",
       "18459        133155                 высшее образование  \n",
       "7568         172357  покупка коммерческой недвижимости  \n",
       "21012        304224            покупка жилья для сдачи  \n",
       "16572        280333      получение высшего образования  \n",
       "2535         144991         дополнительное образование  "
      ]
     },
     "metadata": {},
     "output_type": "display_data"
    },
    {
     "name": "stdout",
     "output_type": "stream",
     "text": [
      "<class 'pandas.core.frame.DataFrame'>\n",
      "RangeIndex: 21453 entries, 0 to 21452\n",
      "Data columns (total 12 columns):\n",
      " #   Column            Non-Null Count  Dtype \n",
      "---  ------            --------------  ----- \n",
      " 0   children          21453 non-null  int64 \n",
      " 1   days_employed     21453 non-null  int64 \n",
      " 2   dob_years         21453 non-null  int64 \n",
      " 3   education         21453 non-null  object\n",
      " 4   education_id      21453 non-null  int64 \n",
      " 5   family_status     21453 non-null  object\n",
      " 6   family_status_id  21453 non-null  int64 \n",
      " 7   gender            21453 non-null  object\n",
      " 8   income_type       21453 non-null  object\n",
      " 9   debt              21453 non-null  int64 \n",
      " 10  total_income      21453 non-null  int64 \n",
      " 11  purpose           21453 non-null  object\n",
      "dtypes: int64(7), object(5)\n",
      "memory usage: 2.0+ MB\n"
     ]
    }
   ],
   "source": [
    "display(bank_data.sample(10))\n",
    "bank_data.info()"
   ]
  },
  {
   "cell_type": "markdown",
   "id": "51444077",
   "metadata": {},
   "source": [
    "* Выбор метода поиска и удаления(изменения) дубликатов основывался на анализе данных.\n",
    "* К явным дубликатам свой подход, к неявным этот подход не применялся, так как они бы не нашлись. \n",
    "* Неявные приводились к одному регистру и всё, вопрос решён.\n",
    "* Причины появления дублей: человеческий фактор, ПО."
   ]
  },
  {
   "cell_type": "markdown",
   "id": "0910df65",
   "metadata": {},
   "source": [
    "### Шаг 2.5. Формирование дополнительных датафреймов словарей, декомпозиция исходного датафрейма."
   ]
  },
  {
   "cell_type": "code",
   "execution_count": 18,
   "id": "d3cdbbef",
   "metadata": {},
   "outputs": [
    {
     "data": {
      "text/html": [
       "<div>\n",
       "<style scoped>\n",
       "    .dataframe tbody tr th:only-of-type {\n",
       "        vertical-align: middle;\n",
       "    }\n",
       "\n",
       "    .dataframe tbody tr th {\n",
       "        vertical-align: top;\n",
       "    }\n",
       "\n",
       "    .dataframe thead th {\n",
       "        text-align: right;\n",
       "    }\n",
       "</style>\n",
       "<table border=\"1\" class=\"dataframe\">\n",
       "  <thead>\n",
       "    <tr style=\"text-align: right;\">\n",
       "      <th>education</th>\n",
       "      <th>высшее</th>\n",
       "      <th>начальное</th>\n",
       "      <th>неоконченное высшее</th>\n",
       "      <th>среднее</th>\n",
       "      <th>ученая степень</th>\n",
       "    </tr>\n",
       "    <tr>\n",
       "      <th>debt</th>\n",
       "      <th></th>\n",
       "      <th></th>\n",
       "      <th></th>\n",
       "      <th></th>\n",
       "      <th></th>\n",
       "    </tr>\n",
       "  </thead>\n",
       "  <tbody>\n",
       "    <tr>\n",
       "      <th>0</th>\n",
       "      <td>4972.0</td>\n",
       "      <td>251.0</td>\n",
       "      <td>675.0</td>\n",
       "      <td>13808.0</td>\n",
       "      <td>6.0</td>\n",
       "    </tr>\n",
       "    <tr>\n",
       "      <th>1</th>\n",
       "      <td>278.0</td>\n",
       "      <td>31.0</td>\n",
       "      <td>68.0</td>\n",
       "      <td>1364.0</td>\n",
       "      <td>0.0</td>\n",
       "    </tr>\n",
       "  </tbody>\n",
       "</table>\n",
       "</div>"
      ],
      "text/plain": [
       "education  высшее  начальное  неоконченное высшее  среднее  ученая степень\n",
       "debt                                                                      \n",
       "0          4972.0      251.0                675.0  13808.0             6.0\n",
       "1           278.0       31.0                 68.0   1364.0             0.0"
      ]
     },
     "metadata": {},
     "output_type": "display_data"
    },
    {
     "data": {
      "text/html": [
       "<div>\n",
       "<style scoped>\n",
       "    .dataframe tbody tr th:only-of-type {\n",
       "        vertical-align: middle;\n",
       "    }\n",
       "\n",
       "    .dataframe tbody tr th {\n",
       "        vertical-align: top;\n",
       "    }\n",
       "\n",
       "    .dataframe thead th {\n",
       "        text-align: right;\n",
       "    }\n",
       "</style>\n",
       "<table border=\"1\" class=\"dataframe\">\n",
       "  <thead>\n",
       "    <tr style=\"text-align: right;\">\n",
       "      <th>family_status</th>\n",
       "      <th>Не женат / не замужем</th>\n",
       "      <th>в разводе</th>\n",
       "      <th>вдовец / вдова</th>\n",
       "      <th>гражданский брак</th>\n",
       "      <th>женат / замужем</th>\n",
       "    </tr>\n",
       "    <tr>\n",
       "      <th>debt</th>\n",
       "      <th></th>\n",
       "      <th></th>\n",
       "      <th></th>\n",
       "      <th></th>\n",
       "      <th></th>\n",
       "    </tr>\n",
       "  </thead>\n",
       "  <tbody>\n",
       "    <tr>\n",
       "      <th>0</th>\n",
       "      <td>2536</td>\n",
       "      <td>1110</td>\n",
       "      <td>896</td>\n",
       "      <td>3762</td>\n",
       "      <td>11408</td>\n",
       "    </tr>\n",
       "    <tr>\n",
       "      <th>1</th>\n",
       "      <td>274</td>\n",
       "      <td>85</td>\n",
       "      <td>63</td>\n",
       "      <td>388</td>\n",
       "      <td>931</td>\n",
       "    </tr>\n",
       "  </tbody>\n",
       "</table>\n",
       "</div>"
      ],
      "text/plain": [
       "family_status  Не женат / не замужем  в разводе  вдовец / вдова  \\\n",
       "debt                                                              \n",
       "0                               2536       1110             896   \n",
       "1                                274         85              63   \n",
       "\n",
       "family_status  гражданский брак  женат / замужем  \n",
       "debt                                              \n",
       "0                          3762            11408  \n",
       "1                           388              931  "
      ]
     },
     "metadata": {},
     "output_type": "display_data"
    }
   ],
   "source": [
    "#Создание 2 новых датафреймов:\n",
    "data_pivot1 = bank_data.pivot_table(index=['debt'], columns='education', values = 'education_id', aggfunc='count')\n",
    "data_pivot1 = data_pivot1.fillna(0)\n",
    "display(data_pivot1)\n",
    "\n",
    "data_pivot2 = bank_data.pivot_table(index=['debt'], columns='family_status', values = 'family_status_id', aggfunc='count')\n",
    "display(data_pivot2)"
   ]
  },
  {
   "cell_type": "markdown",
   "id": "73f99926",
   "metadata": {},
   "source": [
    "* Созданы два новых датафрейма, в которых:\n",
    "** 1)каждому уникальному значению из education соответствует уникальное значение education_id — в первом;\n",
    "** 2)каждому уникальному значению из family_status соответствует уникальное значение family_status_id — во втором."
   ]
  },
  {
   "cell_type": "code",
   "execution_count": 19,
   "id": "99c8e927",
   "metadata": {},
   "outputs": [
    {
     "data": {
      "text/html": [
       "<div>\n",
       "<style scoped>\n",
       "    .dataframe tbody tr th:only-of-type {\n",
       "        vertical-align: middle;\n",
       "    }\n",
       "\n",
       "    .dataframe tbody tr th {\n",
       "        vertical-align: top;\n",
       "    }\n",
       "\n",
       "    .dataframe thead th {\n",
       "        text-align: right;\n",
       "    }\n",
       "</style>\n",
       "<table border=\"1\" class=\"dataframe\">\n",
       "  <thead>\n",
       "    <tr style=\"text-align: right;\">\n",
       "      <th></th>\n",
       "      <th>children</th>\n",
       "      <th>days_employed</th>\n",
       "      <th>dob_years</th>\n",
       "      <th>education_id</th>\n",
       "      <th>family_status</th>\n",
       "      <th>family_status_id</th>\n",
       "      <th>gender</th>\n",
       "      <th>income_type</th>\n",
       "      <th>debt</th>\n",
       "      <th>total_income</th>\n",
       "      <th>purpose</th>\n",
       "    </tr>\n",
       "  </thead>\n",
       "  <tbody>\n",
       "    <tr>\n",
       "      <th>0</th>\n",
       "      <td>1</td>\n",
       "      <td>351</td>\n",
       "      <td>42</td>\n",
       "      <td>0</td>\n",
       "      <td>женат / замужем</td>\n",
       "      <td>0</td>\n",
       "      <td>F</td>\n",
       "      <td>сотрудник</td>\n",
       "      <td>0</td>\n",
       "      <td>253875</td>\n",
       "      <td>покупка жилья</td>\n",
       "    </tr>\n",
       "    <tr>\n",
       "      <th>1</th>\n",
       "      <td>1</td>\n",
       "      <td>167</td>\n",
       "      <td>36</td>\n",
       "      <td>1</td>\n",
       "      <td>женат / замужем</td>\n",
       "      <td>0</td>\n",
       "      <td>F</td>\n",
       "      <td>сотрудник</td>\n",
       "      <td>0</td>\n",
       "      <td>112080</td>\n",
       "      <td>приобретение автомобиля</td>\n",
       "    </tr>\n",
       "    <tr>\n",
       "      <th>2</th>\n",
       "      <td>0</td>\n",
       "      <td>234</td>\n",
       "      <td>33</td>\n",
       "      <td>1</td>\n",
       "      <td>женат / замужем</td>\n",
       "      <td>0</td>\n",
       "      <td>M</td>\n",
       "      <td>сотрудник</td>\n",
       "      <td>0</td>\n",
       "      <td>145885</td>\n",
       "      <td>покупка жилья</td>\n",
       "    </tr>\n",
       "    <tr>\n",
       "      <th>3</th>\n",
       "      <td>3</td>\n",
       "      <td>171</td>\n",
       "      <td>32</td>\n",
       "      <td>1</td>\n",
       "      <td>женат / замужем</td>\n",
       "      <td>0</td>\n",
       "      <td>M</td>\n",
       "      <td>сотрудник</td>\n",
       "      <td>0</td>\n",
       "      <td>267628</td>\n",
       "      <td>дополнительное образование</td>\n",
       "    </tr>\n",
       "    <tr>\n",
       "      <th>4</th>\n",
       "      <td>0</td>\n",
       "      <td>14177</td>\n",
       "      <td>53</td>\n",
       "      <td>1</td>\n",
       "      <td>гражданский брак</td>\n",
       "      <td>1</td>\n",
       "      <td>F</td>\n",
       "      <td>пенсионер</td>\n",
       "      <td>0</td>\n",
       "      <td>158616</td>\n",
       "      <td>сыграть свадьбу</td>\n",
       "    </tr>\n",
       "    <tr>\n",
       "      <th>5</th>\n",
       "      <td>0</td>\n",
       "      <td>38</td>\n",
       "      <td>27</td>\n",
       "      <td>0</td>\n",
       "      <td>гражданский брак</td>\n",
       "      <td>1</td>\n",
       "      <td>M</td>\n",
       "      <td>компаньон</td>\n",
       "      <td>0</td>\n",
       "      <td>255763</td>\n",
       "      <td>покупка жилья</td>\n",
       "    </tr>\n",
       "    <tr>\n",
       "      <th>6</th>\n",
       "      <td>0</td>\n",
       "      <td>119</td>\n",
       "      <td>43</td>\n",
       "      <td>0</td>\n",
       "      <td>женат / замужем</td>\n",
       "      <td>0</td>\n",
       "      <td>F</td>\n",
       "      <td>компаньон</td>\n",
       "      <td>0</td>\n",
       "      <td>240525</td>\n",
       "      <td>операции с жильем</td>\n",
       "    </tr>\n",
       "    <tr>\n",
       "      <th>7</th>\n",
       "      <td>0</td>\n",
       "      <td>6</td>\n",
       "      <td>50</td>\n",
       "      <td>1</td>\n",
       "      <td>женат / замужем</td>\n",
       "      <td>0</td>\n",
       "      <td>M</td>\n",
       "      <td>сотрудник</td>\n",
       "      <td>0</td>\n",
       "      <td>135823</td>\n",
       "      <td>образование</td>\n",
       "    </tr>\n",
       "    <tr>\n",
       "      <th>8</th>\n",
       "      <td>2</td>\n",
       "      <td>288</td>\n",
       "      <td>35</td>\n",
       "      <td>0</td>\n",
       "      <td>гражданский брак</td>\n",
       "      <td>1</td>\n",
       "      <td>F</td>\n",
       "      <td>сотрудник</td>\n",
       "      <td>0</td>\n",
       "      <td>95856</td>\n",
       "      <td>на проведение свадьбы</td>\n",
       "    </tr>\n",
       "    <tr>\n",
       "      <th>9</th>\n",
       "      <td>0</td>\n",
       "      <td>91</td>\n",
       "      <td>41</td>\n",
       "      <td>1</td>\n",
       "      <td>женат / замужем</td>\n",
       "      <td>0</td>\n",
       "      <td>M</td>\n",
       "      <td>сотрудник</td>\n",
       "      <td>0</td>\n",
       "      <td>144425</td>\n",
       "      <td>покупка жилья для семьи</td>\n",
       "    </tr>\n",
       "  </tbody>\n",
       "</table>\n",
       "</div>"
      ],
      "text/plain": [
       "   children  days_employed  dob_years  education_id     family_status  \\\n",
       "0         1            351         42             0   женат / замужем   \n",
       "1         1            167         36             1   женат / замужем   \n",
       "2         0            234         33             1   женат / замужем   \n",
       "3         3            171         32             1   женат / замужем   \n",
       "4         0          14177         53             1  гражданский брак   \n",
       "5         0             38         27             0  гражданский брак   \n",
       "6         0            119         43             0   женат / замужем   \n",
       "7         0              6         50             1   женат / замужем   \n",
       "8         2            288         35             0  гражданский брак   \n",
       "9         0             91         41             1   женат / замужем   \n",
       "\n",
       "   family_status_id gender income_type  debt  total_income  \\\n",
       "0                 0      F   сотрудник     0        253875   \n",
       "1                 0      F   сотрудник     0        112080   \n",
       "2                 0      M   сотрудник     0        145885   \n",
       "3                 0      M   сотрудник     0        267628   \n",
       "4                 1      F   пенсионер     0        158616   \n",
       "5                 1      M   компаньон     0        255763   \n",
       "6                 0      F   компаньон     0        240525   \n",
       "7                 0      M   сотрудник     0        135823   \n",
       "8                 1      F   сотрудник     0         95856   \n",
       "9                 0      M   сотрудник     0        144425   \n",
       "\n",
       "                      purpose  \n",
       "0               покупка жилья  \n",
       "1     приобретение автомобиля  \n",
       "2               покупка жилья  \n",
       "3  дополнительное образование  \n",
       "4             сыграть свадьбу  \n",
       "5               покупка жилья  \n",
       "6           операции с жильем  \n",
       "7                 образование  \n",
       "8       на проведение свадьбы  \n",
       "9     покупка жилья для семьи  "
      ]
     },
     "execution_count": 19,
     "metadata": {},
     "output_type": "execute_result"
    }
   ],
   "source": [
    "# Оставим нужные столбцы\n",
    "del bank_data['education']\n",
    "#del bank_data['family_status']\n",
    "bank_data.head(10)"
   ]
  },
  {
   "cell_type": "markdown",
   "id": "c1adceb4",
   "metadata": {},
   "source": [
    "* Удалены из исходного датафрейма столбцы education и family_status,\n",
    "* Оставлены только их идентификаторы: education_id и family_status_id. \n",
    "* P.S. Новые датафреймы — это те самые «словари» (не путайте с одноимённой структурой данных в Python), к которым вы сможете обращаться по идентификатору."
   ]
  },
  {
   "cell_type": "markdown",
   "id": "96cf93b2",
   "metadata": {},
   "source": [
    "### Шаг 2.6. Категоризация дохода."
   ]
  },
  {
   "cell_type": "code",
   "execution_count": 20,
   "id": "d881284a",
   "metadata": {},
   "outputs": [],
   "source": [
    "# Создадим функцию для формирования нового столбца:\n",
    "def total_income_category(total_income):\n",
    "    \"\"\"\n",
    "    total_income_category с категориями:\n",
    "    Возвращает группу по значению  total_income, используя правила:\n",
    "    - 0–30000 — 'E';\n",
    "    - 30001–50000 — 'D';\n",
    "    - 50001–200000 — 'C';\n",
    "    - 200001–1000000 — 'B';\n",
    "    - 1000001 и выше — 'A'.\n",
    "    \"\"\"\n",
    "    #tot_inc = bank_data['total_income']\n",
    "    \n",
    "    if 0 <= total_income <= 30000:\n",
    "        return 'E'\n",
    "    if 30001 <= total_income <= 50000:\n",
    "        return 'D'\n",
    "    if 50001 <= total_income <= 200000:\n",
    "        return 'C'\n",
    "    if 200001 <= total_income <= 1000000:\n",
    "        return 'B'\n",
    "    if 1000001 <= total_income:\n",
    "        return 'A'"
   ]
  },
  {
   "cell_type": "markdown",
   "id": "65ff6ad1",
   "metadata": {},
   "source": [
    "* Функция готова, осталось её применить!"
   ]
  },
  {
   "cell_type": "code",
   "execution_count": 21,
   "id": "797dd520",
   "metadata": {},
   "outputs": [
    {
     "data": {
      "text/html": [
       "<div>\n",
       "<style scoped>\n",
       "    .dataframe tbody tr th:only-of-type {\n",
       "        vertical-align: middle;\n",
       "    }\n",
       "\n",
       "    .dataframe tbody tr th {\n",
       "        vertical-align: top;\n",
       "    }\n",
       "\n",
       "    .dataframe thead th {\n",
       "        text-align: right;\n",
       "    }\n",
       "</style>\n",
       "<table border=\"1\" class=\"dataframe\">\n",
       "  <thead>\n",
       "    <tr style=\"text-align: right;\">\n",
       "      <th></th>\n",
       "      <th>children</th>\n",
       "      <th>days_employed</th>\n",
       "      <th>dob_years</th>\n",
       "      <th>education_id</th>\n",
       "      <th>family_status</th>\n",
       "      <th>family_status_id</th>\n",
       "      <th>gender</th>\n",
       "      <th>income_type</th>\n",
       "      <th>debt</th>\n",
       "      <th>total_income</th>\n",
       "      <th>purpose</th>\n",
       "      <th>total_income_category</th>\n",
       "    </tr>\n",
       "  </thead>\n",
       "  <tbody>\n",
       "    <tr>\n",
       "      <th>9363</th>\n",
       "      <td>0</td>\n",
       "      <td>64</td>\n",
       "      <td>38</td>\n",
       "      <td>0</td>\n",
       "      <td>гражданский брак</td>\n",
       "      <td>1</td>\n",
       "      <td>F</td>\n",
       "      <td>компаньон</td>\n",
       "      <td>0</td>\n",
       "      <td>172357</td>\n",
       "      <td>на проведение свадьбы</td>\n",
       "      <td>C</td>\n",
       "    </tr>\n",
       "    <tr>\n",
       "      <th>19353</th>\n",
       "      <td>1</td>\n",
       "      <td>61</td>\n",
       "      <td>44</td>\n",
       "      <td>1</td>\n",
       "      <td>гражданский брак</td>\n",
       "      <td>1</td>\n",
       "      <td>M</td>\n",
       "      <td>компаньон</td>\n",
       "      <td>1</td>\n",
       "      <td>302680</td>\n",
       "      <td>на проведение свадьбы</td>\n",
       "      <td>B</td>\n",
       "    </tr>\n",
       "    <tr>\n",
       "      <th>10523</th>\n",
       "      <td>0</td>\n",
       "      <td>14159</td>\n",
       "      <td>56</td>\n",
       "      <td>1</td>\n",
       "      <td>гражданский брак</td>\n",
       "      <td>1</td>\n",
       "      <td>F</td>\n",
       "      <td>пенсионер</td>\n",
       "      <td>0</td>\n",
       "      <td>68653</td>\n",
       "      <td>на проведение свадьбы</td>\n",
       "      <td>C</td>\n",
       "    </tr>\n",
       "    <tr>\n",
       "      <th>1553</th>\n",
       "      <td>0</td>\n",
       "      <td>2</td>\n",
       "      <td>21</td>\n",
       "      <td>2</td>\n",
       "      <td>Не женат / не замужем</td>\n",
       "      <td>4</td>\n",
       "      <td>F</td>\n",
       "      <td>сотрудник</td>\n",
       "      <td>0</td>\n",
       "      <td>97947</td>\n",
       "      <td>покупка жилья</td>\n",
       "      <td>C</td>\n",
       "    </tr>\n",
       "    <tr>\n",
       "      <th>18132</th>\n",
       "      <td>0</td>\n",
       "      <td>16248</td>\n",
       "      <td>65</td>\n",
       "      <td>2</td>\n",
       "      <td>гражданский брак</td>\n",
       "      <td>1</td>\n",
       "      <td>M</td>\n",
       "      <td>пенсионер</td>\n",
       "      <td>0</td>\n",
       "      <td>122706</td>\n",
       "      <td>покупка коммерческой недвижимости</td>\n",
       "      <td>C</td>\n",
       "    </tr>\n",
       "    <tr>\n",
       "      <th>10596</th>\n",
       "      <td>1</td>\n",
       "      <td>14514</td>\n",
       "      <td>52</td>\n",
       "      <td>1</td>\n",
       "      <td>женат / замужем</td>\n",
       "      <td>0</td>\n",
       "      <td>F</td>\n",
       "      <td>пенсионер</td>\n",
       "      <td>0</td>\n",
       "      <td>87419</td>\n",
       "      <td>покупка своего жилья</td>\n",
       "      <td>C</td>\n",
       "    </tr>\n",
       "    <tr>\n",
       "      <th>511</th>\n",
       "      <td>0</td>\n",
       "      <td>48</td>\n",
       "      <td>50</td>\n",
       "      <td>1</td>\n",
       "      <td>гражданский брак</td>\n",
       "      <td>1</td>\n",
       "      <td>F</td>\n",
       "      <td>компаньон</td>\n",
       "      <td>0</td>\n",
       "      <td>111119</td>\n",
       "      <td>автомобиль</td>\n",
       "      <td>C</td>\n",
       "    </tr>\n",
       "    <tr>\n",
       "      <th>14539</th>\n",
       "      <td>0</td>\n",
       "      <td>64</td>\n",
       "      <td>48</td>\n",
       "      <td>1</td>\n",
       "      <td>женат / замужем</td>\n",
       "      <td>0</td>\n",
       "      <td>M</td>\n",
       "      <td>компаньон</td>\n",
       "      <td>1</td>\n",
       "      <td>172357</td>\n",
       "      <td>строительство жилой недвижимости</td>\n",
       "      <td>C</td>\n",
       "    </tr>\n",
       "    <tr>\n",
       "      <th>11243</th>\n",
       "      <td>2</td>\n",
       "      <td>182</td>\n",
       "      <td>47</td>\n",
       "      <td>1</td>\n",
       "      <td>женат / замужем</td>\n",
       "      <td>0</td>\n",
       "      <td>M</td>\n",
       "      <td>сотрудник</td>\n",
       "      <td>0</td>\n",
       "      <td>218970</td>\n",
       "      <td>на покупку своего автомобиля</td>\n",
       "      <td>B</td>\n",
       "    </tr>\n",
       "    <tr>\n",
       "      <th>19485</th>\n",
       "      <td>0</td>\n",
       "      <td>113</td>\n",
       "      <td>47</td>\n",
       "      <td>0</td>\n",
       "      <td>женат / замужем</td>\n",
       "      <td>0</td>\n",
       "      <td>M</td>\n",
       "      <td>компаньон</td>\n",
       "      <td>0</td>\n",
       "      <td>347388</td>\n",
       "      <td>на покупку автомобиля</td>\n",
       "      <td>B</td>\n",
       "    </tr>\n",
       "    <tr>\n",
       "      <th>17131</th>\n",
       "      <td>0</td>\n",
       "      <td>7</td>\n",
       "      <td>24</td>\n",
       "      <td>1</td>\n",
       "      <td>гражданский брак</td>\n",
       "      <td>1</td>\n",
       "      <td>F</td>\n",
       "      <td>сотрудник</td>\n",
       "      <td>0</td>\n",
       "      <td>99921</td>\n",
       "      <td>свадьба</td>\n",
       "      <td>C</td>\n",
       "    </tr>\n",
       "    <tr>\n",
       "      <th>15586</th>\n",
       "      <td>0</td>\n",
       "      <td>65</td>\n",
       "      <td>32</td>\n",
       "      <td>0</td>\n",
       "      <td>гражданский брак</td>\n",
       "      <td>1</td>\n",
       "      <td>F</td>\n",
       "      <td>сотрудник</td>\n",
       "      <td>0</td>\n",
       "      <td>142594</td>\n",
       "      <td>свадьба</td>\n",
       "      <td>C</td>\n",
       "    </tr>\n",
       "    <tr>\n",
       "      <th>14958</th>\n",
       "      <td>2</td>\n",
       "      <td>120</td>\n",
       "      <td>39</td>\n",
       "      <td>1</td>\n",
       "      <td>гражданский брак</td>\n",
       "      <td>1</td>\n",
       "      <td>F</td>\n",
       "      <td>сотрудник</td>\n",
       "      <td>0</td>\n",
       "      <td>134738</td>\n",
       "      <td>покупка жилья для сдачи</td>\n",
       "      <td>C</td>\n",
       "    </tr>\n",
       "    <tr>\n",
       "      <th>2229</th>\n",
       "      <td>0</td>\n",
       "      <td>143</td>\n",
       "      <td>33</td>\n",
       "      <td>1</td>\n",
       "      <td>гражданский брак</td>\n",
       "      <td>1</td>\n",
       "      <td>M</td>\n",
       "      <td>сотрудник</td>\n",
       "      <td>0</td>\n",
       "      <td>167254</td>\n",
       "      <td>свадьба</td>\n",
       "      <td>C</td>\n",
       "    </tr>\n",
       "    <tr>\n",
       "      <th>6480</th>\n",
       "      <td>0</td>\n",
       "      <td>112</td>\n",
       "      <td>36</td>\n",
       "      <td>1</td>\n",
       "      <td>женат / замужем</td>\n",
       "      <td>0</td>\n",
       "      <td>F</td>\n",
       "      <td>госслужащий</td>\n",
       "      <td>0</td>\n",
       "      <td>150447</td>\n",
       "      <td>автомобиль</td>\n",
       "      <td>C</td>\n",
       "    </tr>\n",
       "  </tbody>\n",
       "</table>\n",
       "</div>"
      ],
      "text/plain": [
       "       children  days_employed  dob_years  education_id  \\\n",
       "9363          0             64         38             0   \n",
       "19353         1             61         44             1   \n",
       "10523         0          14159         56             1   \n",
       "1553          0              2         21             2   \n",
       "18132         0          16248         65             2   \n",
       "10596         1          14514         52             1   \n",
       "511           0             48         50             1   \n",
       "14539         0             64         48             1   \n",
       "11243         2            182         47             1   \n",
       "19485         0            113         47             0   \n",
       "17131         0              7         24             1   \n",
       "15586         0             65         32             0   \n",
       "14958         2            120         39             1   \n",
       "2229          0            143         33             1   \n",
       "6480          0            112         36             1   \n",
       "\n",
       "               family_status  family_status_id gender  income_type  debt  \\\n",
       "9363        гражданский брак                 1      F    компаньон     0   \n",
       "19353       гражданский брак                 1      M    компаньон     1   \n",
       "10523       гражданский брак                 1      F    пенсионер     0   \n",
       "1553   Не женат / не замужем                 4      F    сотрудник     0   \n",
       "18132       гражданский брак                 1      M    пенсионер     0   \n",
       "10596        женат / замужем                 0      F    пенсионер     0   \n",
       "511         гражданский брак                 1      F    компаньон     0   \n",
       "14539        женат / замужем                 0      M    компаньон     1   \n",
       "11243        женат / замужем                 0      M    сотрудник     0   \n",
       "19485        женат / замужем                 0      M    компаньон     0   \n",
       "17131       гражданский брак                 1      F    сотрудник     0   \n",
       "15586       гражданский брак                 1      F    сотрудник     0   \n",
       "14958       гражданский брак                 1      F    сотрудник     0   \n",
       "2229        гражданский брак                 1      M    сотрудник     0   \n",
       "6480         женат / замужем                 0      F  госслужащий     0   \n",
       "\n",
       "       total_income                            purpose total_income_category  \n",
       "9363         172357              на проведение свадьбы                     C  \n",
       "19353        302680              на проведение свадьбы                     B  \n",
       "10523         68653              на проведение свадьбы                     C  \n",
       "1553          97947                      покупка жилья                     C  \n",
       "18132        122706  покупка коммерческой недвижимости                     C  \n",
       "10596         87419               покупка своего жилья                     C  \n",
       "511          111119                         автомобиль                     C  \n",
       "14539        172357   строительство жилой недвижимости                     C  \n",
       "11243        218970       на покупку своего автомобиля                     B  \n",
       "19485        347388              на покупку автомобиля                     B  \n",
       "17131         99921                            свадьба                     C  \n",
       "15586        142594                            свадьба                     C  \n",
       "14958        134738            покупка жилья для сдачи                     C  \n",
       "2229         167254                            свадьба                     C  \n",
       "6480         150447                         автомобиль                     C  "
      ]
     },
     "execution_count": 21,
     "metadata": {},
     "output_type": "execute_result"
    }
   ],
   "source": [
    "# применим функцию на новом столбце\n",
    "bank_data['total_income_category'] = bank_data['total_income'].apply(total_income_category)\n",
    "bank_data.sample(15)"
   ]
  },
  {
   "cell_type": "markdown",
   "id": "20c7e617",
   "metadata": {},
   "source": [
    "* Столбец явился на свет. Тому пример из 15 случайных строк <i>BIGDATA</i>."
   ]
  },
  {
   "cell_type": "markdown",
   "id": "579c2761",
   "metadata": {},
   "source": [
    "### Шаг 2.7. Категоризация целей кредита."
   ]
  },
  {
   "cell_type": "code",
   "execution_count": 22,
   "id": "edc52fe2",
   "metadata": {},
   "outputs": [],
   "source": [
    "# Поехали!\n",
    "# Функция для нужнд формирования столбца:\n",
    "def purpose_category(purpose):\n",
    "    if 'автомобил' in purpose:\n",
    "        return 'операции с автомобилем'\n",
    "    if 'недвижимост' in purpose:\n",
    "        return 'операции с недвижимостью'\n",
    "    if 'жиль' in purpose:\n",
    "        return 'операции с недвижимостью'\n",
    "    if 'свадьб' in purpose:\n",
    "        return 'проведение свадьбы'\n",
    "    if 'образован' in purpose:\n",
    "        return 'получение образования'"
   ]
  },
  {
   "cell_type": "markdown",
   "id": "3a69e95f",
   "metadata": {},
   "source": [
    "* Функция готова, применим её ниже!"
   ]
  },
  {
   "cell_type": "code",
   "execution_count": 23,
   "id": "8351ef91",
   "metadata": {},
   "outputs": [
    {
     "data": {
      "text/html": [
       "<div>\n",
       "<style scoped>\n",
       "    .dataframe tbody tr th:only-of-type {\n",
       "        vertical-align: middle;\n",
       "    }\n",
       "\n",
       "    .dataframe tbody tr th {\n",
       "        vertical-align: top;\n",
       "    }\n",
       "\n",
       "    .dataframe thead th {\n",
       "        text-align: right;\n",
       "    }\n",
       "</style>\n",
       "<table border=\"1\" class=\"dataframe\">\n",
       "  <thead>\n",
       "    <tr style=\"text-align: right;\">\n",
       "      <th></th>\n",
       "      <th>children</th>\n",
       "      <th>days_employed</th>\n",
       "      <th>dob_years</th>\n",
       "      <th>education_id</th>\n",
       "      <th>family_status</th>\n",
       "      <th>family_status_id</th>\n",
       "      <th>gender</th>\n",
       "      <th>income_type</th>\n",
       "      <th>debt</th>\n",
       "      <th>total_income</th>\n",
       "      <th>purpose</th>\n",
       "      <th>total_income_category</th>\n",
       "      <th>purpose_category</th>\n",
       "    </tr>\n",
       "  </thead>\n",
       "  <tbody>\n",
       "    <tr>\n",
       "      <th>3395</th>\n",
       "      <td>0</td>\n",
       "      <td>8</td>\n",
       "      <td>26</td>\n",
       "      <td>1</td>\n",
       "      <td>женат / замужем</td>\n",
       "      <td>0</td>\n",
       "      <td>F</td>\n",
       "      <td>компаньон</td>\n",
       "      <td>0</td>\n",
       "      <td>84150</td>\n",
       "      <td>на покупку подержанного автомобиля</td>\n",
       "      <td>C</td>\n",
       "      <td>операции с автомобилем</td>\n",
       "    </tr>\n",
       "    <tr>\n",
       "      <th>8399</th>\n",
       "      <td>0</td>\n",
       "      <td>64</td>\n",
       "      <td>55</td>\n",
       "      <td>1</td>\n",
       "      <td>женат / замужем</td>\n",
       "      <td>0</td>\n",
       "      <td>F</td>\n",
       "      <td>компаньон</td>\n",
       "      <td>0</td>\n",
       "      <td>172357</td>\n",
       "      <td>свой автомобиль</td>\n",
       "      <td>C</td>\n",
       "      <td>операции с автомобилем</td>\n",
       "    </tr>\n",
       "    <tr>\n",
       "      <th>9223</th>\n",
       "      <td>0</td>\n",
       "      <td>29</td>\n",
       "      <td>61</td>\n",
       "      <td>0</td>\n",
       "      <td>женат / замужем</td>\n",
       "      <td>0</td>\n",
       "      <td>M</td>\n",
       "      <td>сотрудник</td>\n",
       "      <td>1</td>\n",
       "      <td>150941</td>\n",
       "      <td>недвижимость</td>\n",
       "      <td>C</td>\n",
       "      <td>операции с недвижимостью</td>\n",
       "    </tr>\n",
       "    <tr>\n",
       "      <th>6922</th>\n",
       "      <td>2</td>\n",
       "      <td>80</td>\n",
       "      <td>29</td>\n",
       "      <td>1</td>\n",
       "      <td>женат / замужем</td>\n",
       "      <td>0</td>\n",
       "      <td>F</td>\n",
       "      <td>компаньон</td>\n",
       "      <td>0</td>\n",
       "      <td>87426</td>\n",
       "      <td>получение дополнительного образования</td>\n",
       "      <td>C</td>\n",
       "      <td>получение образования</td>\n",
       "    </tr>\n",
       "    <tr>\n",
       "      <th>5805</th>\n",
       "      <td>2</td>\n",
       "      <td>65</td>\n",
       "      <td>39</td>\n",
       "      <td>1</td>\n",
       "      <td>женат / замужем</td>\n",
       "      <td>0</td>\n",
       "      <td>M</td>\n",
       "      <td>сотрудник</td>\n",
       "      <td>0</td>\n",
       "      <td>142594</td>\n",
       "      <td>покупка жилья для семьи</td>\n",
       "      <td>C</td>\n",
       "      <td>операции с недвижимостью</td>\n",
       "    </tr>\n",
       "    <tr>\n",
       "      <th>15341</th>\n",
       "      <td>1</td>\n",
       "      <td>77</td>\n",
       "      <td>26</td>\n",
       "      <td>1</td>\n",
       "      <td>женат / замужем</td>\n",
       "      <td>0</td>\n",
       "      <td>M</td>\n",
       "      <td>госслужащий</td>\n",
       "      <td>0</td>\n",
       "      <td>122201</td>\n",
       "      <td>операции со своей недвижимостью</td>\n",
       "      <td>C</td>\n",
       "      <td>операции с недвижимостью</td>\n",
       "    </tr>\n",
       "    <tr>\n",
       "      <th>13047</th>\n",
       "      <td>0</td>\n",
       "      <td>16586</td>\n",
       "      <td>63</td>\n",
       "      <td>1</td>\n",
       "      <td>гражданский брак</td>\n",
       "      <td>1</td>\n",
       "      <td>F</td>\n",
       "      <td>пенсионер</td>\n",
       "      <td>0</td>\n",
       "      <td>206059</td>\n",
       "      <td>сыграть свадьбу</td>\n",
       "      <td>B</td>\n",
       "      <td>проведение свадьбы</td>\n",
       "    </tr>\n",
       "    <tr>\n",
       "      <th>8233</th>\n",
       "      <td>0</td>\n",
       "      <td>14233</td>\n",
       "      <td>67</td>\n",
       "      <td>1</td>\n",
       "      <td>женат / замужем</td>\n",
       "      <td>0</td>\n",
       "      <td>M</td>\n",
       "      <td>пенсионер</td>\n",
       "      <td>0</td>\n",
       "      <td>75126</td>\n",
       "      <td>ремонт жилью</td>\n",
       "      <td>C</td>\n",
       "      <td>операции с недвижимостью</td>\n",
       "    </tr>\n",
       "    <tr>\n",
       "      <th>1267</th>\n",
       "      <td>0</td>\n",
       "      <td>92</td>\n",
       "      <td>28</td>\n",
       "      <td>0</td>\n",
       "      <td>Не женат / не замужем</td>\n",
       "      <td>4</td>\n",
       "      <td>M</td>\n",
       "      <td>сотрудник</td>\n",
       "      <td>0</td>\n",
       "      <td>204709</td>\n",
       "      <td>ремонт жилью</td>\n",
       "      <td>B</td>\n",
       "      <td>операции с недвижимостью</td>\n",
       "    </tr>\n",
       "    <tr>\n",
       "      <th>10478</th>\n",
       "      <td>0</td>\n",
       "      <td>32</td>\n",
       "      <td>41</td>\n",
       "      <td>1</td>\n",
       "      <td>гражданский брак</td>\n",
       "      <td>1</td>\n",
       "      <td>M</td>\n",
       "      <td>сотрудник</td>\n",
       "      <td>0</td>\n",
       "      <td>166520</td>\n",
       "      <td>дополнительное образование</td>\n",
       "      <td>C</td>\n",
       "      <td>получение образования</td>\n",
       "    </tr>\n",
       "    <tr>\n",
       "      <th>19763</th>\n",
       "      <td>0</td>\n",
       "      <td>9</td>\n",
       "      <td>25</td>\n",
       "      <td>1</td>\n",
       "      <td>гражданский брак</td>\n",
       "      <td>1</td>\n",
       "      <td>M</td>\n",
       "      <td>сотрудник</td>\n",
       "      <td>0</td>\n",
       "      <td>126540</td>\n",
       "      <td>свадьба</td>\n",
       "      <td>C</td>\n",
       "      <td>проведение свадьбы</td>\n",
       "    </tr>\n",
       "    <tr>\n",
       "      <th>15102</th>\n",
       "      <td>2</td>\n",
       "      <td>118</td>\n",
       "      <td>36</td>\n",
       "      <td>1</td>\n",
       "      <td>женат / замужем</td>\n",
       "      <td>0</td>\n",
       "      <td>F</td>\n",
       "      <td>сотрудник</td>\n",
       "      <td>1</td>\n",
       "      <td>79595</td>\n",
       "      <td>покупка недвижимости</td>\n",
       "      <td>C</td>\n",
       "      <td>операции с недвижимостью</td>\n",
       "    </tr>\n",
       "    <tr>\n",
       "      <th>2398</th>\n",
       "      <td>0</td>\n",
       "      <td>94</td>\n",
       "      <td>45</td>\n",
       "      <td>1</td>\n",
       "      <td>женат / замужем</td>\n",
       "      <td>0</td>\n",
       "      <td>F</td>\n",
       "      <td>компаньон</td>\n",
       "      <td>0</td>\n",
       "      <td>58529</td>\n",
       "      <td>покупка жилья для семьи</td>\n",
       "      <td>C</td>\n",
       "      <td>операции с недвижимостью</td>\n",
       "    </tr>\n",
       "    <tr>\n",
       "      <th>4297</th>\n",
       "      <td>0</td>\n",
       "      <td>290</td>\n",
       "      <td>35</td>\n",
       "      <td>0</td>\n",
       "      <td>Не женат / не замужем</td>\n",
       "      <td>4</td>\n",
       "      <td>F</td>\n",
       "      <td>сотрудник</td>\n",
       "      <td>0</td>\n",
       "      <td>237944</td>\n",
       "      <td>недвижимость</td>\n",
       "      <td>B</td>\n",
       "      <td>операции с недвижимостью</td>\n",
       "    </tr>\n",
       "    <tr>\n",
       "      <th>19352</th>\n",
       "      <td>0</td>\n",
       "      <td>65</td>\n",
       "      <td>22</td>\n",
       "      <td>1</td>\n",
       "      <td>женат / замужем</td>\n",
       "      <td>0</td>\n",
       "      <td>F</td>\n",
       "      <td>сотрудник</td>\n",
       "      <td>0</td>\n",
       "      <td>142594</td>\n",
       "      <td>строительство недвижимости</td>\n",
       "      <td>C</td>\n",
       "      <td>операции с недвижимостью</td>\n",
       "    </tr>\n",
       "  </tbody>\n",
       "</table>\n",
       "</div>"
      ],
      "text/plain": [
       "       children  days_employed  dob_years  education_id  \\\n",
       "3395          0              8         26             1   \n",
       "8399          0             64         55             1   \n",
       "9223          0             29         61             0   \n",
       "6922          2             80         29             1   \n",
       "5805          2             65         39             1   \n",
       "15341         1             77         26             1   \n",
       "13047         0          16586         63             1   \n",
       "8233          0          14233         67             1   \n",
       "1267          0             92         28             0   \n",
       "10478         0             32         41             1   \n",
       "19763         0              9         25             1   \n",
       "15102         2            118         36             1   \n",
       "2398          0             94         45             1   \n",
       "4297          0            290         35             0   \n",
       "19352         0             65         22             1   \n",
       "\n",
       "               family_status  family_status_id gender  income_type  debt  \\\n",
       "3395         женат / замужем                 0      F    компаньон     0   \n",
       "8399         женат / замужем                 0      F    компаньон     0   \n",
       "9223         женат / замужем                 0      M    сотрудник     1   \n",
       "6922         женат / замужем                 0      F    компаньон     0   \n",
       "5805         женат / замужем                 0      M    сотрудник     0   \n",
       "15341        женат / замужем                 0      M  госслужащий     0   \n",
       "13047       гражданский брак                 1      F    пенсионер     0   \n",
       "8233         женат / замужем                 0      M    пенсионер     0   \n",
       "1267   Не женат / не замужем                 4      M    сотрудник     0   \n",
       "10478       гражданский брак                 1      M    сотрудник     0   \n",
       "19763       гражданский брак                 1      M    сотрудник     0   \n",
       "15102        женат / замужем                 0      F    сотрудник     1   \n",
       "2398         женат / замужем                 0      F    компаньон     0   \n",
       "4297   Не женат / не замужем                 4      F    сотрудник     0   \n",
       "19352        женат / замужем                 0      F    сотрудник     0   \n",
       "\n",
       "       total_income                                purpose  \\\n",
       "3395          84150     на покупку подержанного автомобиля   \n",
       "8399         172357                        свой автомобиль   \n",
       "9223         150941                           недвижимость   \n",
       "6922          87426  получение дополнительного образования   \n",
       "5805         142594                покупка жилья для семьи   \n",
       "15341        122201        операции со своей недвижимостью   \n",
       "13047        206059                        сыграть свадьбу   \n",
       "8233          75126                           ремонт жилью   \n",
       "1267         204709                           ремонт жилью   \n",
       "10478        166520             дополнительное образование   \n",
       "19763        126540                                свадьба   \n",
       "15102         79595                   покупка недвижимости   \n",
       "2398          58529                покупка жилья для семьи   \n",
       "4297         237944                           недвижимость   \n",
       "19352        142594             строительство недвижимости   \n",
       "\n",
       "      total_income_category          purpose_category  \n",
       "3395                      C    операции с автомобилем  \n",
       "8399                      C    операции с автомобилем  \n",
       "9223                      C  операции с недвижимостью  \n",
       "6922                      C     получение образования  \n",
       "5805                      C  операции с недвижимостью  \n",
       "15341                     C  операции с недвижимостью  \n",
       "13047                     B        проведение свадьбы  \n",
       "8233                      C  операции с недвижимостью  \n",
       "1267                      B  операции с недвижимостью  \n",
       "10478                     C     получение образования  \n",
       "19763                     C        проведение свадьбы  \n",
       "15102                     C  операции с недвижимостью  \n",
       "2398                      C  операции с недвижимостью  \n",
       "4297                      B  операции с недвижимостью  \n",
       "19352                     C  операции с недвижимостью  "
      ]
     },
     "metadata": {},
     "output_type": "display_data"
    }
   ],
   "source": [
    "# 7ое чудо света, явись!\n",
    "bank_data['purpose_category'] = bank_data['purpose'].apply(purpose_category)\n",
    "\n",
    "display(bank_data.sample(15))"
   ]
  },
  {
   "cell_type": "markdown",
   "id": "2b1cd556",
   "metadata": {},
   "source": [
    "### Долго ждать не пришлось. Новый столбец готов!"
   ]
  },
  {
   "cell_type": "markdown",
   "id": "77c60903",
   "metadata": {},
   "source": [
    "### Ответы на вопросы."
   ]
  },
  {
   "cell_type": "markdown",
   "id": "f17b5a8b",
   "metadata": {},
   "source": [
    "##### Вопрос 1: Есть ли зависимость между количеством детей и возвратом кредита в срок?"
   ]
  },
  {
   "cell_type": "code",
   "execution_count": 24,
   "id": "93044bea",
   "metadata": {},
   "outputs": [],
   "source": [
    "# построение сводной таблицы:\n",
    "data_pivot3 = bank_data.pivot_table(index=['debt'], columns='children', values = 'family_status_id', aggfunc='count')"
   ]
  },
  {
   "cell_type": "markdown",
   "id": "838888dc",
   "metadata": {},
   "source": [
    "* Таблица готова"
   ]
  },
  {
   "cell_type": "code",
   "execution_count": 25,
   "id": "3d82996f",
   "metadata": {},
   "outputs": [
    {
     "data": {
      "text/plain": [
       "children\n",
       "0    0\n",
       "1    0\n",
       "2    0\n",
       "3    0\n",
       "4    0\n",
       "5    1\n",
       "dtype: int64"
      ]
     },
     "metadata": {},
     "output_type": "display_data"
    },
    {
     "data": {
      "text/html": [
       "<div>\n",
       "<style scoped>\n",
       "    .dataframe tbody tr th:only-of-type {\n",
       "        vertical-align: middle;\n",
       "    }\n",
       "\n",
       "    .dataframe tbody tr th {\n",
       "        vertical-align: top;\n",
       "    }\n",
       "\n",
       "    .dataframe thead th {\n",
       "        text-align: right;\n",
       "    }\n",
       "</style>\n",
       "<table border=\"1\" class=\"dataframe\">\n",
       "  <thead>\n",
       "    <tr style=\"text-align: right;\">\n",
       "      <th>children</th>\n",
       "      <th>0</th>\n",
       "      <th>1</th>\n",
       "      <th>2</th>\n",
       "      <th>3</th>\n",
       "      <th>4</th>\n",
       "      <th>5</th>\n",
       "    </tr>\n",
       "    <tr>\n",
       "      <th>debt</th>\n",
       "      <th></th>\n",
       "      <th></th>\n",
       "      <th></th>\n",
       "      <th></th>\n",
       "      <th></th>\n",
       "      <th></th>\n",
       "    </tr>\n",
       "  </thead>\n",
       "  <tbody>\n",
       "    <tr>\n",
       "      <th>0</th>\n",
       "      <td>13027.0</td>\n",
       "      <td>4410.0</td>\n",
       "      <td>1926.0</td>\n",
       "      <td>303.0</td>\n",
       "      <td>37.0</td>\n",
       "      <td>9.0</td>\n",
       "    </tr>\n",
       "    <tr>\n",
       "      <th>1</th>\n",
       "      <td>1063.0</td>\n",
       "      <td>445.0</td>\n",
       "      <td>202.0</td>\n",
       "      <td>27.0</td>\n",
       "      <td>4.0</td>\n",
       "      <td>0.0</td>\n",
       "    </tr>\n",
       "  </tbody>\n",
       "</table>\n",
       "</div>"
      ],
      "text/plain": [
       "children        0       1       2      3     4    5\n",
       "debt                                               \n",
       "0         13027.0  4410.0  1926.0  303.0  37.0  9.0\n",
       "1          1063.0   445.0   202.0   27.0   4.0  0.0"
      ]
     },
     "metadata": {},
     "output_type": "display_data"
    }
   ],
   "source": [
    "# проверка\n",
    "display(data_pivot3.isna().sum())\n",
    "data_pivot3 = data_pivot3.fillna(0)\n",
    "display(data_pivot3)"
   ]
  },
  {
   "cell_type": "markdown",
   "id": "1f69d9a4",
   "metadata": {},
   "source": [
    "* данные готовы для работы с ними."
   ]
  },
  {
   "cell_type": "code",
   "execution_count": 26,
   "id": "3e05129a",
   "metadata": {},
   "outputs": [
    {
     "data": {
      "text/html": [
       "<div>\n",
       "<style scoped>\n",
       "    .dataframe tbody tr th:only-of-type {\n",
       "        vertical-align: middle;\n",
       "    }\n",
       "\n",
       "    .dataframe tbody tr th {\n",
       "        vertical-align: top;\n",
       "    }\n",
       "\n",
       "    .dataframe thead th {\n",
       "        text-align: right;\n",
       "    }\n",
       "</style>\n",
       "<table border=\"1\" class=\"dataframe\">\n",
       "  <thead>\n",
       "    <tr style=\"text-align: right;\">\n",
       "      <th></th>\n",
       "      <th>debt</th>\n",
       "    </tr>\n",
       "    <tr>\n",
       "      <th>children</th>\n",
       "      <th></th>\n",
       "    </tr>\n",
       "  </thead>\n",
       "  <tbody>\n",
       "    <tr>\n",
       "      <th>0</th>\n",
       "      <td>0.075444</td>\n",
       "    </tr>\n",
       "    <tr>\n",
       "      <th>1</th>\n",
       "      <td>0.091658</td>\n",
       "    </tr>\n",
       "    <tr>\n",
       "      <th>2</th>\n",
       "      <td>0.094925</td>\n",
       "    </tr>\n",
       "    <tr>\n",
       "      <th>3</th>\n",
       "      <td>0.081818</td>\n",
       "    </tr>\n",
       "    <tr>\n",
       "      <th>4</th>\n",
       "      <td>0.097561</td>\n",
       "    </tr>\n",
       "    <tr>\n",
       "      <th>5</th>\n",
       "      <td>0.000000</td>\n",
       "    </tr>\n",
       "  </tbody>\n",
       "</table>\n",
       "</div>"
      ],
      "text/plain": [
       "              debt\n",
       "children          \n",
       "0         0.075444\n",
       "1         0.091658\n",
       "2         0.094925\n",
       "3         0.081818\n",
       "4         0.097561\n",
       "5         0.000000"
      ]
     },
     "metadata": {},
     "output_type": "display_data"
    }
   ],
   "source": [
    "test_pivot1 = bank_data.pivot_table(index=['children'], values='debt', aggfunc='mean')\n",
    "\n",
    "display(test_pivot1)"
   ]
  },
  {
   "cell_type": "code",
   "execution_count": 27,
   "id": "671cbd1e",
   "metadata": {},
   "outputs": [
    {
     "data": {
      "text/plain": [
       "'Вероятность невозврата кредита 7.54%, когда нет детей'"
      ]
     },
     "metadata": {},
     "output_type": "display_data"
    }
   ],
   "source": [
    "display(f'Вероятность невозврата кредита 7.54%, когда нет детей')"
   ]
  },
  {
   "cell_type": "code",
   "execution_count": 28,
   "id": "4910471f",
   "metadata": {},
   "outputs": [
    {
     "data": {
      "text/plain": [
       "'Вероятность невозврата кредита 9.16%, когда 1 ребенок'"
      ]
     },
     "metadata": {},
     "output_type": "display_data"
    }
   ],
   "source": [
    "display(f'Вероятность невозврата кредита 9.16%, когда 1 ребенок')"
   ]
  },
  {
   "cell_type": "code",
   "execution_count": 29,
   "id": "d24233fa",
   "metadata": {},
   "outputs": [
    {
     "data": {
      "text/plain": [
       "'Вероятность невозврата кредита 9.49%, когда 2 ребенка'"
      ]
     },
     "metadata": {},
     "output_type": "display_data"
    }
   ],
   "source": [
    "display(f'Вероятность невозврата кредита 9.49%, когда 2 ребенка')"
   ]
  },
  {
   "cell_type": "code",
   "execution_count": 30,
   "id": "aa099d50",
   "metadata": {},
   "outputs": [
    {
     "data": {
      "text/plain": [
       "'Вероятность невозврата кредита 8.18%, когда 3 ребенка'"
      ]
     },
     "metadata": {},
     "output_type": "display_data"
    }
   ],
   "source": [
    "display(f'Вероятность невозврата кредита 8.18%, когда 3 ребенка')"
   ]
  },
  {
   "cell_type": "code",
   "execution_count": 31,
   "id": "b885ae14",
   "metadata": {},
   "outputs": [
    {
     "data": {
      "text/plain": [
       "'Вероятность невозврата кредита 9.75%, когда 4 ребенка'"
      ]
     },
     "metadata": {},
     "output_type": "display_data"
    }
   ],
   "source": [
    "display(f'Вероятность невозврата кредита 9.75%, когда 4 ребенка')"
   ]
  },
  {
   "cell_type": "code",
   "execution_count": 32,
   "id": "971a4a3d",
   "metadata": {},
   "outputs": [
    {
     "data": {
      "text/plain": [
       "'Вероятность невозврата кредита 0%, когда 5 детей'"
      ]
     },
     "metadata": {},
     "output_type": "display_data"
    }
   ],
   "source": [
    "display(f'Вероятность невозврата кредита 0%, когда 5 детей')"
   ]
  },
  {
   "cell_type": "markdown",
   "id": "3f8318f2",
   "metadata": {},
   "source": [
    "##### Вывод 1:"
   ]
  },
  {
   "cell_type": "markdown",
   "id": "15103eb4",
   "metadata": {},
   "source": [
    "В среднем прослеживается тенденция по увеличению возможности невозрата кредита. Связь в количестве детей и возврате кредита прослеживается."
   ]
  },
  {
   "cell_type": "markdown",
   "id": "a6602f36",
   "metadata": {},
   "source": [
    "##### Вопрос 2: Есть ли зависимость между семейным положением и возвратом кредита в срок?"
   ]
  },
  {
   "cell_type": "code",
   "execution_count": 33,
   "id": "91a5f016",
   "metadata": {},
   "outputs": [
    {
     "data": {
      "text/html": [
       "<div>\n",
       "<style scoped>\n",
       "    .dataframe tbody tr th:only-of-type {\n",
       "        vertical-align: middle;\n",
       "    }\n",
       "\n",
       "    .dataframe tbody tr th {\n",
       "        vertical-align: top;\n",
       "    }\n",
       "\n",
       "    .dataframe thead th {\n",
       "        text-align: right;\n",
       "    }\n",
       "</style>\n",
       "<table border=\"1\" class=\"dataframe\">\n",
       "  <thead>\n",
       "    <tr style=\"text-align: right;\">\n",
       "      <th></th>\n",
       "      <th>debt</th>\n",
       "    </tr>\n",
       "    <tr>\n",
       "      <th>family_status_id</th>\n",
       "      <th></th>\n",
       "    </tr>\n",
       "  </thead>\n",
       "  <tbody>\n",
       "    <tr>\n",
       "      <th>0</th>\n",
       "      <td>0.075452</td>\n",
       "    </tr>\n",
       "    <tr>\n",
       "      <th>1</th>\n",
       "      <td>0.093494</td>\n",
       "    </tr>\n",
       "    <tr>\n",
       "      <th>2</th>\n",
       "      <td>0.065693</td>\n",
       "    </tr>\n",
       "    <tr>\n",
       "      <th>3</th>\n",
       "      <td>0.071130</td>\n",
       "    </tr>\n",
       "    <tr>\n",
       "      <th>4</th>\n",
       "      <td>0.097509</td>\n",
       "    </tr>\n",
       "  </tbody>\n",
       "</table>\n",
       "</div>"
      ],
      "text/plain": [
       "                      debt\n",
       "family_status_id          \n",
       "0                 0.075452\n",
       "1                 0.093494\n",
       "2                 0.065693\n",
       "3                 0.071130\n",
       "4                 0.097509"
      ]
     },
     "metadata": {},
     "output_type": "display_data"
    }
   ],
   "source": [
    "test_pivot2 = bank_data.pivot_table(index=['family_status_id'], values='debt', aggfunc='mean')\n",
    "\n",
    "display(test_pivot2)"
   ]
  },
  {
   "cell_type": "code",
   "execution_count": 34,
   "id": "4d1dad76",
   "metadata": {},
   "outputs": [
    {
     "data": {
      "text/plain": [
       "'Вероятность невозврата кредита в статусе \"Не женат / не замужем\" - 9.75%'"
      ]
     },
     "metadata": {},
     "output_type": "display_data"
    }
   ],
   "source": [
    "display(f'Вероятность невозврата кредита в статусе \"Не женат / не замужем\" - 9.75%')"
   ]
  },
  {
   "cell_type": "code",
   "execution_count": 35,
   "id": "7e7c511d",
   "metadata": {},
   "outputs": [
    {
     "data": {
      "text/plain": [
       "'Вероятность невозврата кредита в статусе \"в разводе\" - 7.11%'"
      ]
     },
     "metadata": {},
     "output_type": "display_data"
    }
   ],
   "source": [
    "display(f'Вероятность невозврата кредита в статусе \"в разводе\" - 7.11%')"
   ]
  },
  {
   "cell_type": "code",
   "execution_count": 36,
   "id": "1e0ee2ea",
   "metadata": {},
   "outputs": [
    {
     "data": {
      "text/plain": [
       "'Вероятность невозврата кредита в статусе \"вдовец / вдова\" - 6.56%'"
      ]
     },
     "metadata": {},
     "output_type": "display_data"
    }
   ],
   "source": [
    "display(f'Вероятность невозврата кредита в статусе \"вдовец / вдова\" - 6.56%')"
   ]
  },
  {
   "cell_type": "code",
   "execution_count": 37,
   "id": "8cfe22e6",
   "metadata": {},
   "outputs": [
    {
     "data": {
      "text/plain": [
       "'Вероятность невозврата кредита в статусе \"гражданский брак\" - 9.34%'"
      ]
     },
     "metadata": {},
     "output_type": "display_data"
    }
   ],
   "source": [
    "display(f'Вероятность невозврата кредита в статусе \"гражданский брак\" - 9.34%')"
   ]
  },
  {
   "cell_type": "code",
   "execution_count": 38,
   "id": "970a55ac",
   "metadata": {},
   "outputs": [
    {
     "data": {
      "text/plain": [
       "'Вероятность невозврата кредита в статусе \"женат / замужем\" - 7.54%'"
      ]
     },
     "metadata": {},
     "output_type": "display_data"
    }
   ],
   "source": [
    "display(f'Вероятность невозврата кредита в статусе \"женат / замужем\" - 7.54%')"
   ]
  },
  {
   "cell_type": "markdown",
   "id": "0b504d46",
   "metadata": {},
   "source": [
    "##### Вывод 2:"
   ]
  },
  {
   "cell_type": "markdown",
   "id": "297cfd1a",
   "metadata": {},
   "source": [
    "В статусах \"Не женат / не замужем\" и \"гражданский брак\" высоки риски по невозврату кредита."
   ]
  },
  {
   "cell_type": "markdown",
   "id": "abc1dee0",
   "metadata": {},
   "source": [
    "##### Вопрос 3: Есть ли зависимость между уровнем дохода и возвратом кредита в срок?"
   ]
  },
  {
   "cell_type": "code",
   "execution_count": 39,
   "id": "965f45e3",
   "metadata": {},
   "outputs": [],
   "source": [
    "# функция для столбца:\n",
    "def income_group(row):\n",
    "    \n",
    "    income = row['total_income']\n",
    "\n",
    "    if income <= 55000:\n",
    "        return '0-55 тыс.'\n",
    "    \n",
    "    if income <= 120000 and income > 55000:\n",
    "        return '55-120 тыс.'\n",
    "    \n",
    "    if income <= 200000 and income > 120000:\n",
    "        return '120-200 тыс.'\n",
    "    \n",
    "    if income >= 200000:\n",
    "        return '> 200 тыс.'"
   ]
  },
  {
   "cell_type": "markdown",
   "id": "7525401c",
   "metadata": {},
   "source": [
    "* Функция готова для работы."
   ]
  },
  {
   "cell_type": "code",
   "execution_count": 40,
   "id": "01ca6864",
   "metadata": {},
   "outputs": [],
   "source": [
    "bank_data['income_gr'] = bank_data.apply(income_group, axis=1)"
   ]
  },
  {
   "cell_type": "markdown",
   "id": "ae7a29bf",
   "metadata": {},
   "source": [
    "* Применение функции для нового столбца."
   ]
  },
  {
   "cell_type": "code",
   "execution_count": 41,
   "id": "97e01078",
   "metadata": {},
   "outputs": [
    {
     "data": {
      "text/html": [
       "<div>\n",
       "<style scoped>\n",
       "    .dataframe tbody tr th:only-of-type {\n",
       "        vertical-align: middle;\n",
       "    }\n",
       "\n",
       "    .dataframe tbody tr th {\n",
       "        vertical-align: top;\n",
       "    }\n",
       "\n",
       "    .dataframe thead th {\n",
       "        text-align: right;\n",
       "    }\n",
       "</style>\n",
       "<table border=\"1\" class=\"dataframe\">\n",
       "  <thead>\n",
       "    <tr style=\"text-align: right;\">\n",
       "      <th></th>\n",
       "      <th>debt</th>\n",
       "    </tr>\n",
       "    <tr>\n",
       "      <th>income_gr</th>\n",
       "      <th></th>\n",
       "    </tr>\n",
       "  </thead>\n",
       "  <tbody>\n",
       "    <tr>\n",
       "      <th>0-55 тыс.</th>\n",
       "      <td>0.060345</td>\n",
       "    </tr>\n",
       "    <tr>\n",
       "      <th>120-200 тыс.</th>\n",
       "      <td>0.087047</td>\n",
       "    </tr>\n",
       "    <tr>\n",
       "      <th>55-120 тыс.</th>\n",
       "      <td>0.082845</td>\n",
       "    </tr>\n",
       "    <tr>\n",
       "      <th>&gt; 200 тыс.</th>\n",
       "      <td>0.070667</td>\n",
       "    </tr>\n",
       "  </tbody>\n",
       "</table>\n",
       "</div>"
      ],
      "text/plain": [
       "                  debt\n",
       "income_gr             \n",
       "0-55 тыс.     0.060345\n",
       "120-200 тыс.  0.087047\n",
       "55-120 тыс.   0.082845\n",
       "> 200 тыс.    0.070667"
      ]
     },
     "metadata": {},
     "output_type": "display_data"
    }
   ],
   "source": [
    "test_pivot3 = bank_data.pivot_table(index=['income_gr'], values='debt', aggfunc='mean')\n",
    "\n",
    "display(test_pivot3)"
   ]
  },
  {
   "cell_type": "code",
   "execution_count": 42,
   "id": "616ddd4d",
   "metadata": {},
   "outputs": [
    {
     "data": {
      "text/plain": [
       "'Вероятность невозврата кредита при доходе \"0-55 тыс.\" - 6.0%'"
      ]
     },
     "metadata": {},
     "output_type": "display_data"
    }
   ],
   "source": [
    "display(f'Вероятность невозврата кредита при доходе \"0-55 тыс.\" - 6.0%')"
   ]
  },
  {
   "cell_type": "code",
   "execution_count": 43,
   "id": "441ddadc",
   "metadata": {},
   "outputs": [
    {
     "data": {
      "text/plain": [
       "'Вероятность невозврата кредита при доходе \"55-120 тыс.\" - 8.28%'"
      ]
     },
     "metadata": {},
     "output_type": "display_data"
    }
   ],
   "source": [
    "display(f'Вероятность невозврата кредита при доходе \"55-120 тыс.\" - 8.28%')"
   ]
  },
  {
   "cell_type": "code",
   "execution_count": 44,
   "id": "01cc5588",
   "metadata": {},
   "outputs": [
    {
     "data": {
      "text/plain": [
       "'Вероятность невозврата кредита при доходе \"120-200 тыс.\" - 8.7%'"
      ]
     },
     "metadata": {},
     "output_type": "display_data"
    }
   ],
   "source": [
    "display(f'Вероятность невозврата кредита при доходе \"120-200 тыс.\" - 8.7%')"
   ]
  },
  {
   "cell_type": "code",
   "execution_count": 45,
   "id": "3fa1bc5f",
   "metadata": {},
   "outputs": [
    {
     "data": {
      "text/plain": [
       "'Вероятность невозврата кредита при доходе \"> 200 тыс.\" - 7.1%'"
      ]
     },
     "metadata": {},
     "output_type": "display_data"
    }
   ],
   "source": [
    "display(f'Вероятность невозврата кредита при доходе \"> 200 тыс.\" - 7.1%')"
   ]
  },
  {
   "cell_type": "markdown",
   "id": "dcc40211",
   "metadata": {},
   "source": [
    "##### Вывод 3:"
   ]
  },
  {
   "cell_type": "markdown",
   "id": "1b7ce932",
   "metadata": {},
   "source": [
    "Люди с меньшим доходом ответственнее подходят к своим обязательствам перед банком."
   ]
  },
  {
   "cell_type": "markdown",
   "id": "7c6a8693",
   "metadata": {},
   "source": [
    "##### Вопрос 4: Как разные цели кредита влияют на его возврат в срок?"
   ]
  },
  {
   "cell_type": "code",
   "execution_count": 46,
   "id": "73dca3b4",
   "metadata": {},
   "outputs": [
    {
     "data": {
      "text/html": [
       "<div>\n",
       "<style scoped>\n",
       "    .dataframe tbody tr th:only-of-type {\n",
       "        vertical-align: middle;\n",
       "    }\n",
       "\n",
       "    .dataframe tbody tr th {\n",
       "        vertical-align: top;\n",
       "    }\n",
       "\n",
       "    .dataframe thead th {\n",
       "        text-align: right;\n",
       "    }\n",
       "</style>\n",
       "<table border=\"1\" class=\"dataframe\">\n",
       "  <thead>\n",
       "    <tr style=\"text-align: right;\">\n",
       "      <th></th>\n",
       "      <th>debt</th>\n",
       "    </tr>\n",
       "    <tr>\n",
       "      <th>purpose_category</th>\n",
       "      <th></th>\n",
       "    </tr>\n",
       "  </thead>\n",
       "  <tbody>\n",
       "    <tr>\n",
       "      <th>операции с автомобилем</th>\n",
       "      <td>0.093590</td>\n",
       "    </tr>\n",
       "    <tr>\n",
       "      <th>операции с недвижимостью</th>\n",
       "      <td>0.072340</td>\n",
       "    </tr>\n",
       "    <tr>\n",
       "      <th>получение образования</th>\n",
       "      <td>0.092200</td>\n",
       "    </tr>\n",
       "    <tr>\n",
       "      <th>проведение свадьбы</th>\n",
       "      <td>0.080034</td>\n",
       "    </tr>\n",
       "  </tbody>\n",
       "</table>\n",
       "</div>"
      ],
      "text/plain": [
       "                              debt\n",
       "purpose_category                  \n",
       "операции с автомобилем    0.093590\n",
       "операции с недвижимостью  0.072340\n",
       "получение образования     0.092200\n",
       "проведение свадьбы        0.080034"
      ]
     },
     "metadata": {},
     "output_type": "display_data"
    }
   ],
   "source": [
    "test_pivot4 = bank_data.pivot_table(index=['purpose_category'], values='debt', aggfunc='mean')\n",
    "\n",
    "display(test_pivot4)"
   ]
  },
  {
   "cell_type": "code",
   "execution_count": 47,
   "id": "f428a675",
   "metadata": {},
   "outputs": [
    {
     "data": {
      "text/plain": [
       "'Вероятность невозврата кредита в статусе  по \"операции с автомобилем\" - 9.35%'"
      ]
     },
     "metadata": {},
     "output_type": "display_data"
    }
   ],
   "source": [
    "display(f'Вероятность невозврата кредита в статусе  по \"операции с автомобилем\" - 9.35%')"
   ]
  },
  {
   "cell_type": "code",
   "execution_count": 48,
   "id": "9a7252ac",
   "metadata": {},
   "outputs": [
    {
     "data": {
      "text/plain": [
       "'Вероятность невозврата кредита в статусе по \"операции с недвижимостью\" - 7.23%'"
      ]
     },
     "metadata": {},
     "output_type": "display_data"
    }
   ],
   "source": [
    "display(f'Вероятность невозврата кредита в статусе по \"операции с недвижимостью\" - 7.23%')"
   ]
  },
  {
   "cell_type": "code",
   "execution_count": 49,
   "id": "35dbb8b1",
   "metadata": {},
   "outputs": [
    {
     "data": {
      "text/plain": [
       "'Вероятность невозврата кредита в статусе  по \"получение образования\" - 9.22%'"
      ]
     },
     "metadata": {},
     "output_type": "display_data"
    }
   ],
   "source": [
    "display(f'Вероятность невозврата кредита в статусе  по \"получение образования\" - 9.22%')"
   ]
  },
  {
   "cell_type": "code",
   "execution_count": 50,
   "id": "1cd71af5",
   "metadata": {},
   "outputs": [
    {
     "data": {
      "text/plain": [
       "'Вероятность невозврата кредита в статусе по \"проведение свадьбы\" - 8.0%'"
      ]
     },
     "metadata": {},
     "output_type": "display_data"
    }
   ],
   "source": [
    "display(f'Вероятность невозврата кредита в статусе по \"проведение свадьбы\" - 8.0%')"
   ]
  },
  {
   "cell_type": "markdown",
   "id": "a54b39b4",
   "metadata": {},
   "source": [
    "##### Вывод 4:"
   ]
  },
  {
   "cell_type": "markdown",
   "id": "1dccefa0",
   "metadata": {},
   "source": [
    "Менее рисковые кредиты : по операциям с недвижимостью и на проведение свадьбы."
   ]
  },
  {
   "cell_type": "markdown",
   "id": "5f9a3543",
   "metadata": {},
   "source": [
    "## Общий вывод:"
   ]
  },
  {
   "cell_type": "markdown",
   "id": "2e062237",
   "metadata": {},
   "source": [
    "Была проделана большая работа. Выглядит пока не очень, но работает) \n",
    "По делу:\n",
    "    Данные были подготовлены для работы и произведен их анализ. По интересующим вопросам выше были озвучены ответы.\n",
    "Для себя же остался один вопрос, как мне кажется, нигде не было упора на его решение. Это на аномалию в данных по количеству отработанных дней (сотни лет). Надеюсь в дальнейшим задания будут более детально проработанными и с возможностью отхождения от ТЗ.\n",
    "    Честно говоря, ожидал от вывода значительных рассхождений, а вышло иначе."
   ]
  },
  {
   "cell_type": "markdown",
   "id": "af5681d9",
   "metadata": {},
   "source": [
    "Описание клиента склонного к просрочке:\n",
    "* 1. Четверо детей;\n",
    "* 2. Семейное положение - \"не женат / не замужем\";\n",
    "* 3. Доход \"120-200 тыс.\";\n",
    "* 4. Цель кредита - \"операции с автомобилем\"."
   ]
  }
 ],
 "metadata": {
  "ExecuteTimeLog": [
   {
    "duration": 1630,
    "start_time": "2022-03-11T09:26:08.666Z"
   },
   {
    "duration": 944,
    "start_time": "2022-03-11T09:27:57.489Z"
   },
   {
    "duration": 976,
    "start_time": "2022-03-11T09:28:05.269Z"
   },
   {
    "duration": 656,
    "start_time": "2022-03-25T10:11:24.840Z"
   },
   {
    "duration": 0,
    "start_time": "2022-03-25T10:11:25.498Z"
   },
   {
    "duration": 0,
    "start_time": "2022-03-25T10:11:25.499Z"
   },
   {
    "duration": 0,
    "start_time": "2022-03-25T10:11:25.500Z"
   },
   {
    "duration": 0,
    "start_time": "2022-03-25T10:11:25.502Z"
   },
   {
    "duration": 0,
    "start_time": "2022-03-25T10:11:25.503Z"
   },
   {
    "duration": 0,
    "start_time": "2022-03-25T10:11:25.504Z"
   },
   {
    "duration": 0,
    "start_time": "2022-03-25T10:11:25.505Z"
   },
   {
    "duration": 0,
    "start_time": "2022-03-25T10:11:25.506Z"
   },
   {
    "duration": 0,
    "start_time": "2022-03-25T10:11:25.507Z"
   },
   {
    "duration": 0,
    "start_time": "2022-03-25T10:11:25.508Z"
   },
   {
    "duration": 0,
    "start_time": "2022-03-25T10:11:25.509Z"
   },
   {
    "duration": 525,
    "start_time": "2022-03-25T10:12:35.359Z"
   },
   {
    "duration": 49,
    "start_time": "2022-03-25T10:12:35.886Z"
   },
   {
    "duration": 85,
    "start_time": "2022-03-25T10:12:35.937Z"
   },
   {
    "duration": 31,
    "start_time": "2022-03-25T10:12:36.024Z"
   },
   {
    "duration": 116,
    "start_time": "2022-03-25T10:12:36.057Z"
   },
   {
    "duration": 77,
    "start_time": "2022-03-25T10:12:36.175Z"
   },
   {
    "duration": 52,
    "start_time": "2022-03-25T10:12:36.254Z"
   },
   {
    "duration": 26,
    "start_time": "2022-03-25T10:12:36.309Z"
   },
   {
    "duration": 29,
    "start_time": "2022-03-25T10:12:36.336Z"
   },
   {
    "duration": 52,
    "start_time": "2022-03-25T10:12:36.366Z"
   },
   {
    "duration": 206,
    "start_time": "2022-03-25T10:12:36.421Z"
   },
   {
    "duration": 30,
    "start_time": "2022-03-25T10:12:36.629Z"
   },
   {
    "duration": 66,
    "start_time": "2022-03-25T10:15:52.584Z"
   },
   {
    "duration": 8,
    "start_time": "2022-03-25T10:16:01.081Z"
   },
   {
    "duration": 8,
    "start_time": "2022-03-25T10:16:16.606Z"
   },
   {
    "duration": 405,
    "start_time": "2022-03-27T16:30:36.155Z"
   },
   {
    "duration": 191,
    "start_time": "2022-03-27T16:30:36.562Z"
   },
   {
    "duration": 54,
    "start_time": "2022-03-27T16:30:36.755Z"
   },
   {
    "duration": 4,
    "start_time": "2022-03-27T16:30:36.811Z"
   },
   {
    "duration": 12,
    "start_time": "2022-03-27T16:30:36.817Z"
   },
   {
    "duration": 12,
    "start_time": "2022-03-27T16:30:36.831Z"
   },
   {
    "duration": 8,
    "start_time": "2022-03-27T16:30:36.845Z"
   },
   {
    "duration": 8,
    "start_time": "2022-03-27T16:30:36.855Z"
   },
   {
    "duration": 58,
    "start_time": "2022-03-27T16:30:36.865Z"
   },
   {
    "duration": 8,
    "start_time": "2022-03-27T16:30:36.925Z"
   },
   {
    "duration": 12,
    "start_time": "2022-03-27T16:30:36.934Z"
   },
   {
    "duration": 54,
    "start_time": "2022-03-27T16:30:36.948Z"
   },
   {
    "duration": 5,
    "start_time": "2022-03-27T16:30:37.004Z"
   },
   {
    "duration": 29,
    "start_time": "2022-03-27T16:30:37.013Z"
   },
   {
    "duration": 12,
    "start_time": "2022-03-27T16:30:37.044Z"
   },
   {
    "duration": 68,
    "start_time": "2022-03-27T16:30:37.058Z"
   },
   {
    "duration": 28,
    "start_time": "2022-03-27T16:30:37.128Z"
   },
   {
    "duration": 56,
    "start_time": "2022-03-27T16:30:37.159Z"
   },
   {
    "duration": 13,
    "start_time": "2022-03-27T16:30:37.216Z"
   },
   {
    "duration": 6,
    "start_time": "2022-03-27T16:30:37.231Z"
   },
   {
    "duration": 26,
    "start_time": "2022-03-27T16:30:37.239Z"
   },
   {
    "duration": 4,
    "start_time": "2022-03-27T16:30:37.267Z"
   },
   {
    "duration": 23,
    "start_time": "2022-03-27T16:30:37.302Z"
   },
   {
    "duration": 13,
    "start_time": "2022-03-27T16:30:37.326Z"
   },
   {
    "duration": 13,
    "start_time": "2022-03-27T16:30:37.341Z"
   },
   {
    "duration": 7,
    "start_time": "2022-03-27T16:30:37.356Z"
   },
   {
    "duration": 40,
    "start_time": "2022-03-27T16:30:37.364Z"
   },
   {
    "duration": 10,
    "start_time": "2022-03-27T16:30:37.406Z"
   },
   {
    "duration": 9,
    "start_time": "2022-03-27T16:30:37.418Z"
   },
   {
    "duration": 8,
    "start_time": "2022-03-27T16:30:37.429Z"
   },
   {
    "duration": 14,
    "start_time": "2022-03-27T16:30:37.438Z"
   },
   {
    "duration": 18,
    "start_time": "2022-03-27T16:30:37.455Z"
   },
   {
    "duration": 17,
    "start_time": "2022-03-27T16:30:37.474Z"
   },
   {
    "duration": 4,
    "start_time": "2022-03-27T16:30:37.501Z"
   },
   {
    "duration": 10,
    "start_time": "2022-03-27T16:30:37.507Z"
   },
   {
    "duration": 11,
    "start_time": "2022-03-27T16:30:37.519Z"
   },
   {
    "duration": 12,
    "start_time": "2022-03-27T16:30:37.531Z"
   },
   {
    "duration": 10,
    "start_time": "2022-03-27T16:30:37.545Z"
   },
   {
    "duration": 10,
    "start_time": "2022-03-27T16:30:37.557Z"
   },
   {
    "duration": 147,
    "start_time": "2022-03-27T16:30:37.569Z"
   },
   {
    "duration": 21,
    "start_time": "2022-03-27T16:30:37.720Z"
   },
   {
    "duration": 5,
    "start_time": "2022-03-27T16:30:37.743Z"
   },
   {
    "duration": 16,
    "start_time": "2022-03-27T16:30:37.749Z"
   },
   {
    "duration": 7,
    "start_time": "2022-03-27T16:30:37.767Z"
   },
   {
    "duration": 25,
    "start_time": "2022-03-27T16:30:37.777Z"
   },
   {
    "duration": 22,
    "start_time": "2022-03-27T16:30:37.804Z"
   },
   {
    "duration": 4,
    "start_time": "2022-03-27T16:30:37.828Z"
   },
   {
    "duration": 7,
    "start_time": "2022-03-27T16:30:37.833Z"
   },
   {
    "duration": 12,
    "start_time": "2022-03-27T16:30:37.842Z"
   },
   {
    "duration": 10,
    "start_time": "2022-03-27T16:30:37.855Z"
   },
   {
    "duration": 536,
    "start_time": "2022-03-28T15:47:46.825Z"
   },
   {
    "duration": 189,
    "start_time": "2022-03-28T15:47:47.364Z"
   },
   {
    "duration": 65,
    "start_time": "2022-03-28T15:47:47.555Z"
   },
   {
    "duration": 5,
    "start_time": "2022-03-28T15:47:47.623Z"
   },
   {
    "duration": 14,
    "start_time": "2022-03-28T15:47:47.631Z"
   },
   {
    "duration": 42,
    "start_time": "2022-03-28T15:47:47.647Z"
   },
   {
    "duration": 6,
    "start_time": "2022-03-28T15:47:47.692Z"
   },
   {
    "duration": 6,
    "start_time": "2022-03-28T15:47:47.700Z"
   },
   {
    "duration": 37,
    "start_time": "2022-03-28T15:47:47.708Z"
   },
   {
    "duration": 42,
    "start_time": "2022-03-28T15:47:47.747Z"
   },
   {
    "duration": 9,
    "start_time": "2022-03-28T15:47:47.791Z"
   },
   {
    "duration": 36,
    "start_time": "2022-03-28T15:47:47.802Z"
   },
   {
    "duration": 46,
    "start_time": "2022-03-28T15:47:47.840Z"
   },
   {
    "duration": 37,
    "start_time": "2022-03-28T15:47:47.892Z"
   },
   {
    "duration": 14,
    "start_time": "2022-03-28T15:47:47.932Z"
   },
   {
    "duration": 70,
    "start_time": "2022-03-28T15:47:47.949Z"
   },
   {
    "duration": 33,
    "start_time": "2022-03-28T15:47:48.021Z"
   },
   {
    "duration": 72,
    "start_time": "2022-03-28T15:47:48.056Z"
   },
   {
    "duration": 17,
    "start_time": "2022-03-28T15:47:48.131Z"
   },
   {
    "duration": 35,
    "start_time": "2022-03-28T15:47:48.150Z"
   },
   {
    "duration": 34,
    "start_time": "2022-03-28T15:47:48.187Z"
   },
   {
    "duration": 5,
    "start_time": "2022-03-28T15:47:48.224Z"
   },
   {
    "duration": 60,
    "start_time": "2022-03-28T15:47:48.231Z"
   },
   {
    "duration": 17,
    "start_time": "2022-03-28T15:47:48.294Z"
   },
   {
    "duration": 19,
    "start_time": "2022-03-28T15:47:48.314Z"
   },
   {
    "duration": 56,
    "start_time": "2022-03-28T15:47:48.335Z"
   },
   {
    "duration": 6,
    "start_time": "2022-03-28T15:47:48.393Z"
   },
   {
    "duration": 7,
    "start_time": "2022-03-28T15:47:48.401Z"
   },
   {
    "duration": 11,
    "start_time": "2022-03-28T15:47:48.410Z"
   },
   {
    "duration": 20,
    "start_time": "2022-03-28T15:47:48.423Z"
   },
   {
    "duration": 7,
    "start_time": "2022-03-28T15:47:48.445Z"
   },
   {
    "duration": 6,
    "start_time": "2022-03-28T15:47:48.483Z"
   },
   {
    "duration": 20,
    "start_time": "2022-03-28T15:47:48.491Z"
   },
   {
    "duration": 5,
    "start_time": "2022-03-28T15:47:48.514Z"
   },
   {
    "duration": 5,
    "start_time": "2022-03-28T15:47:48.521Z"
   },
   {
    "duration": 8,
    "start_time": "2022-03-28T15:47:48.528Z"
   },
   {
    "duration": 45,
    "start_time": "2022-03-28T15:47:48.538Z"
   },
   {
    "duration": 5,
    "start_time": "2022-03-28T15:47:48.585Z"
   },
   {
    "duration": 7,
    "start_time": "2022-03-28T15:47:48.592Z"
   },
   {
    "duration": 241,
    "start_time": "2022-03-28T15:47:48.601Z"
   },
   {
    "duration": 44,
    "start_time": "2022-03-28T15:47:48.848Z"
   },
   {
    "duration": 7,
    "start_time": "2022-03-28T15:47:48.895Z"
   },
   {
    "duration": 15,
    "start_time": "2022-03-28T15:47:48.905Z"
   },
   {
    "duration": 7,
    "start_time": "2022-03-28T15:47:48.923Z"
   },
   {
    "duration": 7,
    "start_time": "2022-03-28T15:47:48.933Z"
   },
   {
    "duration": 59,
    "start_time": "2022-03-28T15:47:48.942Z"
   },
   {
    "duration": 6,
    "start_time": "2022-03-28T15:47:49.004Z"
   },
   {
    "duration": 14,
    "start_time": "2022-03-28T15:47:49.011Z"
   },
   {
    "duration": 7,
    "start_time": "2022-03-28T15:47:49.027Z"
   },
   {
    "duration": 11,
    "start_time": "2022-03-28T15:47:49.036Z"
   }
  ],
  "kernelspec": {
   "display_name": "Python 3 (ipykernel)",
   "language": "python",
   "name": "python3"
  },
  "language_info": {
   "codemirror_mode": {
    "name": "ipython",
    "version": 3
   },
   "file_extension": ".py",
   "mimetype": "text/x-python",
   "name": "python",
   "nbconvert_exporter": "python",
   "pygments_lexer": "ipython3",
   "version": "3.9.12"
  },
  "toc": {
   "base_numbering": 1,
   "nav_menu": {},
   "number_sections": true,
   "sideBar": true,
   "skip_h1_title": true,
   "title_cell": "Table of Contents",
   "title_sidebar": "Contents",
   "toc_cell": false,
   "toc_position": {},
   "toc_section_display": true,
   "toc_window_display": false
  }
 },
 "nbformat": 4,
 "nbformat_minor": 5
}
