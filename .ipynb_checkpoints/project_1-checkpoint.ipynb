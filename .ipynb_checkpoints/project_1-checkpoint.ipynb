{
 "cells": [
  {
   "cell_type": "markdown",
   "metadata": {
    "id": "E0vqbgi9ay0H"
   },
   "source": [
    "# Яндекс.Музыка"
   ]
  },
  {
   "cell_type": "markdown",
   "metadata": {
    "id": "VUC88oWjTJw2"
   },
   "source": [
    "Сравнение Москвы и Петербурга окружено мифами. Например:\n",
    " * Москва — мегаполис, подчинённый жёсткому ритму рабочей недели;\n",
    " * Петербург — культурная столица, со своими вкусами.\n",
    "\n",
    "На данных Яндекс.Музыки вы сравните поведение пользователей двух столиц.\n",
    "\n",
    "**Цель исследования** — проверьте три гипотезы:\n",
    "1. Активность пользователей зависит от дня недели. Причём в Москве и Петербурге это проявляется по-разному.\n",
    "2. В понедельник утром в Москве преобладают одни жанры, а в Петербурге — другие. Так же и вечером пятницы преобладают разные жанры — в зависимости от города. \n",
    "3. Москва и Петербург предпочитают разные жанры музыки. В Москве чаще слушают поп-музыку, в Петербурге — русский рэп.\n",
    "\n",
    "**Ход исследования**\n",
    "\n",
    "Данные о поведении пользователей вы получите из файла `yandex_music_project.csv`. О качестве данных ничего не известно. Поэтому перед проверкой гипотез понадобится обзор данных. \n",
    "\n",
    "Вы проверите данные на ошибки и оцените их влияние на исследование. Затем, на этапе предобработки вы поищете возможность исправить самые критичные ошибки данных.\n",
    " \n",
    "Таким образом, исследование пройдёт в три этапа:\n",
    " 1. Обзор данных.\n",
    " 2. Предобработка данных.\n",
    " 3. Проверка гипотез.\n",
    "\n"
   ]
  },
  {
   "cell_type": "markdown",
   "metadata": {
    "id": "Ml1hmfXC_Zcs"
   },
   "source": [
    "## Обзор данных\n",
    "\n",
    "Составьте первое представление о данных Яндекс.Музыки.\n",
    "\n",
    "\n"
   ]
  },
  {
   "cell_type": "markdown",
   "metadata": {
    "id": "57eAOGIz_Zcs"
   },
   "source": [
    "Основной инструмент аналитика — `pandas`. Импортируйте эту библиотеку."
   ]
  },
  {
   "cell_type": "code",
   "execution_count": 1,
   "metadata": {
    "id": "AXN7PHPN_Zcs"
   },
   "outputs": [],
   "source": [
    "import pandas as pd# импорт библиотеки pandas"
   ]
  },
  {
   "cell_type": "markdown",
   "metadata": {
    "id": "SG23P8tt_Zcs"
   },
   "source": [
    "Прочитайте файл `yandex_music_project.csv` из папки `/datasets` и сохраните его в переменной `df`:"
   ]
  },
  {
   "cell_type": "code",
   "execution_count": 2,
   "metadata": {
    "id": "fFVu7vqh_Zct"
   },
   "outputs": [],
   "source": [
    "df = pd.read_csv('/datasets/yandex_music_project.csv')# чтение файла с данными и сохранение в df"
   ]
  },
  {
   "cell_type": "markdown",
   "metadata": {
    "id": "rDoOMd3uTqnZ"
   },
   "source": [
    "Выведите на экран первые десять строк таблицы:"
   ]
  },
  {
   "cell_type": "code",
   "execution_count": 3,
   "metadata": {
    "id": "oWTVX3gW_Zct"
   },
   "outputs": [
    {
     "data": {
      "text/html": [
       "<div>\n",
       "<style scoped>\n",
       "    .dataframe tbody tr th:only-of-type {\n",
       "        vertical-align: middle;\n",
       "    }\n",
       "\n",
       "    .dataframe tbody tr th {\n",
       "        vertical-align: top;\n",
       "    }\n",
       "\n",
       "    .dataframe thead th {\n",
       "        text-align: right;\n",
       "    }\n",
       "</style>\n",
       "<table border=\"1\" class=\"dataframe\">\n",
       "  <thead>\n",
       "    <tr style=\"text-align: right;\">\n",
       "      <th></th>\n",
       "      <th>userID</th>\n",
       "      <th>Track</th>\n",
       "      <th>artist</th>\n",
       "      <th>genre</th>\n",
       "      <th>City</th>\n",
       "      <th>time</th>\n",
       "      <th>Day</th>\n",
       "    </tr>\n",
       "  </thead>\n",
       "  <tbody>\n",
       "    <tr>\n",
       "      <td>0</td>\n",
       "      <td>FFB692EC</td>\n",
       "      <td>Kamigata To Boots</td>\n",
       "      <td>The Mass Missile</td>\n",
       "      <td>rock</td>\n",
       "      <td>Saint-Petersburg</td>\n",
       "      <td>20:28:33</td>\n",
       "      <td>Wednesday</td>\n",
       "    </tr>\n",
       "    <tr>\n",
       "      <td>1</td>\n",
       "      <td>55204538</td>\n",
       "      <td>Delayed Because of Accident</td>\n",
       "      <td>Andreas Rönnberg</td>\n",
       "      <td>rock</td>\n",
       "      <td>Moscow</td>\n",
       "      <td>14:07:09</td>\n",
       "      <td>Friday</td>\n",
       "    </tr>\n",
       "    <tr>\n",
       "      <td>2</td>\n",
       "      <td>20EC38</td>\n",
       "      <td>Funiculì funiculà</td>\n",
       "      <td>Mario Lanza</td>\n",
       "      <td>pop</td>\n",
       "      <td>Saint-Petersburg</td>\n",
       "      <td>20:58:07</td>\n",
       "      <td>Wednesday</td>\n",
       "    </tr>\n",
       "    <tr>\n",
       "      <td>3</td>\n",
       "      <td>A3DD03C9</td>\n",
       "      <td>Dragons in the Sunset</td>\n",
       "      <td>Fire + Ice</td>\n",
       "      <td>folk</td>\n",
       "      <td>Saint-Petersburg</td>\n",
       "      <td>08:37:09</td>\n",
       "      <td>Monday</td>\n",
       "    </tr>\n",
       "    <tr>\n",
       "      <td>4</td>\n",
       "      <td>E2DC1FAE</td>\n",
       "      <td>Soul People</td>\n",
       "      <td>Space Echo</td>\n",
       "      <td>dance</td>\n",
       "      <td>Moscow</td>\n",
       "      <td>08:34:34</td>\n",
       "      <td>Monday</td>\n",
       "    </tr>\n",
       "    <tr>\n",
       "      <td>5</td>\n",
       "      <td>842029A1</td>\n",
       "      <td>Преданная</td>\n",
       "      <td>IMPERVTOR</td>\n",
       "      <td>rusrap</td>\n",
       "      <td>Saint-Petersburg</td>\n",
       "      <td>13:09:41</td>\n",
       "      <td>Friday</td>\n",
       "    </tr>\n",
       "    <tr>\n",
       "      <td>6</td>\n",
       "      <td>4CB90AA5</td>\n",
       "      <td>True</td>\n",
       "      <td>Roman Messer</td>\n",
       "      <td>dance</td>\n",
       "      <td>Moscow</td>\n",
       "      <td>13:00:07</td>\n",
       "      <td>Wednesday</td>\n",
       "    </tr>\n",
       "    <tr>\n",
       "      <td>7</td>\n",
       "      <td>F03E1C1F</td>\n",
       "      <td>Feeling This Way</td>\n",
       "      <td>Polina Griffith</td>\n",
       "      <td>dance</td>\n",
       "      <td>Moscow</td>\n",
       "      <td>20:47:49</td>\n",
       "      <td>Wednesday</td>\n",
       "    </tr>\n",
       "    <tr>\n",
       "      <td>8</td>\n",
       "      <td>8FA1D3BE</td>\n",
       "      <td>И вновь продолжается бой</td>\n",
       "      <td>NaN</td>\n",
       "      <td>ruspop</td>\n",
       "      <td>Moscow</td>\n",
       "      <td>09:17:40</td>\n",
       "      <td>Friday</td>\n",
       "    </tr>\n",
       "    <tr>\n",
       "      <td>9</td>\n",
       "      <td>E772D5C0</td>\n",
       "      <td>Pessimist</td>\n",
       "      <td>NaN</td>\n",
       "      <td>dance</td>\n",
       "      <td>Saint-Petersburg</td>\n",
       "      <td>21:20:49</td>\n",
       "      <td>Wednesday</td>\n",
       "    </tr>\n",
       "  </tbody>\n",
       "</table>\n",
       "</div>"
      ],
      "text/plain": [
       "     userID                        Track            artist   genre  \\\n",
       "0  FFB692EC            Kamigata To Boots  The Mass Missile    rock   \n",
       "1  55204538  Delayed Because of Accident  Andreas Rönnberg    rock   \n",
       "2    20EC38            Funiculì funiculà       Mario Lanza     pop   \n",
       "3  A3DD03C9        Dragons in the Sunset        Fire + Ice    folk   \n",
       "4  E2DC1FAE                  Soul People        Space Echo   dance   \n",
       "5  842029A1                    Преданная         IMPERVTOR  rusrap   \n",
       "6  4CB90AA5                         True      Roman Messer   dance   \n",
       "7  F03E1C1F             Feeling This Way   Polina Griffith   dance   \n",
       "8  8FA1D3BE     И вновь продолжается бой               NaN  ruspop   \n",
       "9  E772D5C0                    Pessimist               NaN   dance   \n",
       "\n",
       "             City        time        Day  \n",
       "0  Saint-Petersburg  20:28:33  Wednesday  \n",
       "1            Moscow  14:07:09     Friday  \n",
       "2  Saint-Petersburg  20:58:07  Wednesday  \n",
       "3  Saint-Petersburg  08:37:09     Monday  \n",
       "4            Moscow  08:34:34     Monday  \n",
       "5  Saint-Petersburg  13:09:41     Friday  \n",
       "6            Moscow  13:00:07  Wednesday  \n",
       "7            Moscow  20:47:49  Wednesday  \n",
       "8            Moscow  09:17:40     Friday  \n",
       "9  Saint-Petersburg  21:20:49  Wednesday  "
      ]
     },
     "execution_count": 3,
     "metadata": {},
     "output_type": "execute_result"
    }
   ],
   "source": [
    "df.head(10)# получение первых 10 строк таблицы df"
   ]
  },
  {
   "cell_type": "markdown",
   "metadata": {
    "id": "EO73Kwic_Zct"
   },
   "source": [
    "Одной командой получить общую информацию о таблице:"
   ]
  },
  {
   "cell_type": "code",
   "execution_count": 4,
   "metadata": {
    "id": "DSf2kIb-_Zct"
   },
   "outputs": [
    {
     "name": "stdout",
     "output_type": "stream",
     "text": [
      "<class 'pandas.core.frame.DataFrame'>\n",
      "RangeIndex: 65079 entries, 0 to 65078\n",
      "Data columns (total 7 columns):\n",
      "  userID    65079 non-null object\n",
      "Track       63848 non-null object\n",
      "artist      57876 non-null object\n",
      "genre       63881 non-null object\n",
      "  City      65079 non-null object\n",
      "time        65079 non-null object\n",
      "Day         65079 non-null object\n",
      "dtypes: object(7)\n",
      "memory usage: 3.5+ MB\n"
     ]
    }
   ],
   "source": [
    "df.info()# получение общей информации о данных в таблице df"
   ]
  },
  {
   "cell_type": "markdown",
   "metadata": {
    "id": "TaQ2Iwbr_Zct"
   },
   "source": [
    "Итак, в таблице семь столбцов. Тип данных во всех столбцах — `object`.\n",
    "\n",
    "Согласно документации к данным:\n",
    "* `userID` — идентификатор пользователя;\n",
    "* `Track` — название трека;  \n",
    "* `artist` — имя исполнителя;\n",
    "* `genre` — название жанра;\n",
    "* `City` — город пользователя;\n",
    "* `time` — время начала прослушивания;\n",
    "* `Day` — день недели.\n",
    "\n",
    "В названиях колонок видны три нарушения стиля:\n",
    "1. Строчные буквы сочетаются с прописными.\n",
    "2. Встречаются пробелы.\n",
    "3. Найдите ещё одну проблему в названии колонок и опишите её в этом пункте.\n",
    "* description: \n",
    "Нарушен стиль заголовков отсутствует \"snake_case\". \"  userID\" -> \"user_id\"\n",
    "\n",
    "\n",
    "\n",
    "Количество значений в столбцах различается. Значит, в данных есть пропущенные значения.\n"
   ]
  },
  {
   "cell_type": "markdown",
   "metadata": {
    "id": "MCB6-dXG_Zct"
   },
   "source": [
    "**Выводы**\n",
    "\n",
    "В каждой строке таблицы — данные о прослушанном треке. Часть колонок описывает саму композицию: название, исполнителя и жанр. Остальные данные рассказывают о пользователе: из какого он города, когда он слушал музыку. \n",
    "\n",
    "Предварительно можно утверждать, что, данных достаточно для проверки гипотез. Но встречаются пропуски в данных, а в названиях колонок — расхождения с хорошим стилем.\n",
    "\n",
    "Чтобы двигаться дальше, нужно устранить проблемы в данных."
   ]
  },
  {
   "cell_type": "markdown",
   "metadata": {
    "id": "SjYF6Ub9_Zct"
   },
   "source": [
    "## Предобработка данных\n",
    "Исправьте стиль в заголовках столбцов, исключите пропуски. Затем проверьте данные на дубликаты."
   ]
  },
  {
   "cell_type": "markdown",
   "metadata": {
    "id": "dIaKXr29_Zct"
   },
   "source": [
    "### Стиль заголовков\n",
    "Выведите на экран названия столбцов:"
   ]
  },
  {
   "cell_type": "code",
   "execution_count": 5,
   "metadata": {
    "id": "oKOTdF_Q_Zct"
   },
   "outputs": [
    {
     "data": {
      "text/plain": [
       "Index(['  userID', 'Track', 'artist', 'genre', '  City  ', 'time', 'Day'], dtype='object')"
      ]
     },
     "execution_count": 5,
     "metadata": {},
     "output_type": "execute_result"
    }
   ],
   "source": [
    "df.columns# перечень названий столбцов таблицы df"
   ]
  },
  {
   "cell_type": "markdown",
   "metadata": {
    "id": "zj5534cv_Zct"
   },
   "source": [
    "Приведите названия в соответствие с хорошим стилем:\n",
    "* несколько слов в названии запишите в «змеином_регистре»,\n",
    "* все символы сделайте строчными,\n",
    "* устраните пробелы.\n",
    "\n",
    "Для этого переименуйте колонки так:\n",
    "* `'  userID'` → `'user_id'`;\n",
    "* `'Track'` → `'track'`;\n",
    "* `'  City  '` → `'city'`;\n",
    "* `'Day'` → `'day'`."
   ]
  },
  {
   "cell_type": "code",
   "execution_count": 6,
   "metadata": {
    "id": "ISlFqs5y_Zct"
   },
   "outputs": [],
   "source": [
    "df = df.rename(columns={'  userID': 'user_id', 'Track': 'track', '  City  ': 'city', 'Day': 'day'})# переименование столбцов"
   ]
  },
  {
   "cell_type": "markdown",
   "metadata": {
    "id": "1dqbh00J_Zct"
   },
   "source": [
    "Проверьте результат. Для этого ещё раз выведите на экран названия столбцов:"
   ]
  },
  {
   "cell_type": "code",
   "execution_count": 7,
   "metadata": {
    "id": "d4NOAmTW_Zct"
   },
   "outputs": [
    {
     "data": {
      "text/plain": [
       "Index(['user_id', 'track', 'artist', 'genre', 'city', 'time', 'day'], dtype='object')"
      ]
     },
     "execution_count": 7,
     "metadata": {},
     "output_type": "execute_result"
    }
   ],
   "source": [
    "# проверка результатов - перечень названий столбцов\n",
    "df.columns"
   ]
  },
  {
   "cell_type": "markdown",
   "metadata": {
    "id": "5ISfbcfY_Zct"
   },
   "source": [
    "### Пропуски значений\n",
    "Сначала посчитайте, сколько в таблице пропущенных значений. Для этого достаточно двух методов `pandas`:"
   ]
  },
  {
   "cell_type": "code",
   "execution_count": 8,
   "metadata": {
    "id": "RskX29qr_Zct"
   },
   "outputs": [
    {
     "data": {
      "text/plain": [
       "user_id       0\n",
       "track      1231\n",
       "artist     7203\n",
       "genre      1198\n",
       "city          0\n",
       "time          0\n",
       "day           0\n",
       "dtype: int64"
      ]
     },
     "execution_count": 8,
     "metadata": {},
     "output_type": "execute_result"
    }
   ],
   "source": [
    "df.isna().sum()# подсчёт пропусков"
   ]
  },
  {
   "cell_type": "markdown",
   "metadata": {
    "id": "qubhgnlO_Zct"
   },
   "source": [
    "Не все пропущенные значения влияют на исследование. Так в `track` и `artist` пропуски не важны для вашей работы. Достаточно заменить их явными обозначениями.\n",
    "\n",
    "Но пропуски в `genre` могут помешать сравнению музыкальных вкусов в Москве и Санкт-Петербурге. На практике было бы правильно установить причину пропусков и восстановить данные. Такой возможности нет в учебном проекте. Придётся:\n",
    "* заполнить и эти пропуски явными обозначениями,\n",
    "* оценить, насколько они повредят расчётам. "
   ]
  },
  {
   "cell_type": "markdown",
   "metadata": {
    "id": "fSv2laPA_Zct"
   },
   "source": [
    "Замените пропущенные значения в столбцах `track`, `artist` и `genre` на строку `'unknown'`. Для этого создайте список `columns_to_replace`, переберите его элементы циклом `for` и для каждого столбца выполните замену пропущенных значений:"
   ]
  },
  {
   "cell_type": "code",
   "execution_count": 9,
   "metadata": {
    "id": "KplB5qWs_Zct"
   },
   "outputs": [],
   "source": [
    "columns_to_replace = ['track', 'artist', 'genre']\n",
    "for column in columns_to_replace:\n",
    "    df[column] = df[column].fillna('unknown')\n"
   ]
  },
  {
   "cell_type": "markdown",
   "metadata": {
    "id": "Ilsm-MZo_Zct"
   },
   "source": [
    "Убедитесь, что в таблице не осталось пропусков. Для этого ещё раз посчитайте пропущенные значения."
   ]
  },
  {
   "cell_type": "code",
   "execution_count": 10,
   "metadata": {
    "id": "Tq4nYRX4_Zct"
   },
   "outputs": [
    {
     "data": {
      "text/plain": [
       "user_id    0\n",
       "track      0\n",
       "artist     0\n",
       "genre      0\n",
       "city       0\n",
       "time       0\n",
       "day        0\n",
       "dtype: int64"
      ]
     },
     "execution_count": 10,
     "metadata": {},
     "output_type": "execute_result"
    }
   ],
   "source": [
    "df.isna().sum()# подсчёт пропусков"
   ]
  },
  {
   "cell_type": "markdown",
   "metadata": {
    "id": "BWKRtBJ3_Zct"
   },
   "source": [
    "### Дубликаты\n",
    "Посчитайте явные дубликаты в таблице одной командой:"
   ]
  },
  {
   "cell_type": "code",
   "execution_count": 11,
   "metadata": {
    "id": "36eES_S0_Zct"
   },
   "outputs": [
    {
     "data": {
      "text/plain": [
       "3826"
      ]
     },
     "execution_count": 11,
     "metadata": {},
     "output_type": "execute_result"
    }
   ],
   "source": [
    "df.duplicated().sum()# подсчёт явных дубликатов"
   ]
  },
  {
   "cell_type": "markdown",
   "metadata": {
    "id": "Ot25h6XR_Zct"
   },
   "source": [
    "Вызовите специальный метод `pandas`, чтобы удалить явные дубликаты:"
   ]
  },
  {
   "cell_type": "code",
   "execution_count": 12,
   "metadata": {
    "id": "exFHq6tt_Zct"
   },
   "outputs": [],
   "source": [
    "df = df.drop_duplicates().reset_index()# удаление явных дубликатов (с удалением старых индексов и формированием новых)"
   ]
  },
  {
   "cell_type": "markdown",
   "metadata": {
    "id": "Im2YwBEG_Zct"
   },
   "source": [
    "Ещё раз посчитайте явные дубликаты в таблице — убедитесь, что полностью от них избавились:"
   ]
  },
  {
   "cell_type": "code",
   "execution_count": 13,
   "metadata": {
    "id": "-8PuNWQ0_Zct"
   },
   "outputs": [
    {
     "data": {
      "text/plain": [
       "0"
      ]
     },
     "execution_count": 13,
     "metadata": {},
     "output_type": "execute_result"
    }
   ],
   "source": [
    "df.duplicated().sum()# проверка на отсутствие дубликатов"
   ]
  },
  {
   "cell_type": "markdown",
   "metadata": {
    "id": "QlFBsxAr_Zct"
   },
   "source": [
    "Теперь избавьтесь от неявных дубликатов в колонке `genre`. Например, название одного и того же жанра может быть записано немного по-разному. Такие ошибки тоже повлияют на результат исследования."
   ]
  },
  {
   "cell_type": "markdown",
   "metadata": {
    "id": "eSjWwsOh_Zct"
   },
   "source": [
    "Выведите на экран список уникальных названий жанров, отсортированный в алфавитном порядке. Для этого:\n",
    "* извлеките нужный столбец датафрейма, \n",
    "* примените к нему метод сортировки,\n",
    "* для отсортированного столбца вызовите метод, который вернёт уникальные значения из столбца."
   ]
  },
  {
   "cell_type": "code",
   "execution_count": 14,
   "metadata": {
    "id": "JIUcqzZN_Zct"
   },
   "outputs": [
    {
     "data": {
      "text/plain": [
       "array(['acid', 'acoustic', 'action', 'adult', 'africa', 'afrikaans',\n",
       "       'alternative', 'alternativepunk', 'ambient', 'americana',\n",
       "       'animated', 'anime', 'arabesk', 'arabic', 'arena',\n",
       "       'argentinetango', 'art', 'audiobook', 'author', 'avantgarde',\n",
       "       'axé', 'baile', 'balkan', 'beats', 'bigroom', 'black', 'bluegrass',\n",
       "       'blues', 'bollywood', 'bossa', 'brazilian', 'breakbeat', 'breaks',\n",
       "       'broadway', 'cantautori', 'cantopop', 'canzone', 'caribbean',\n",
       "       'caucasian', 'celtic', 'chamber', 'chanson', 'children', 'chill',\n",
       "       'chinese', 'choral', 'christian', 'christmas', 'classical',\n",
       "       'classicmetal', 'club', 'colombian', 'comedy', 'conjazz',\n",
       "       'contemporary', 'country', 'cuban', 'dance', 'dancehall',\n",
       "       'dancepop', 'dark', 'death', 'deep', 'deutschrock', 'deutschspr',\n",
       "       'dirty', 'disco', 'dnb', 'documentary', 'downbeat', 'downtempo',\n",
       "       'drum', 'dub', 'dubstep', 'eastern', 'easy', 'electronic',\n",
       "       'electropop', 'emo', 'entehno', 'epicmetal', 'estrada', 'ethnic',\n",
       "       'eurofolk', 'european', 'experimental', 'extrememetal', 'fado',\n",
       "       'fairytail', 'film', 'fitness', 'flamenco', 'folk', 'folklore',\n",
       "       'folkmetal', 'folkrock', 'folktronica', 'forró', 'frankreich',\n",
       "       'französisch', 'french', 'funk', 'future', 'gangsta', 'garage',\n",
       "       'german', 'ghazal', 'gitarre', 'glitch', 'gospel', 'gothic',\n",
       "       'grime', 'grunge', 'gypsy', 'handsup', \"hard'n'heavy\", 'hardcore',\n",
       "       'hardstyle', 'hardtechno', 'hip', 'hip-hop', 'hiphop',\n",
       "       'historisch', 'holiday', 'hop', 'horror', 'house', 'hymn', 'idm',\n",
       "       'independent', 'indian', 'indie', 'indipop', 'industrial',\n",
       "       'inspirational', 'instrumental', 'international', 'irish', 'jam',\n",
       "       'japanese', 'jazz', 'jewish', 'jpop', 'jungle', 'k-pop',\n",
       "       'karadeniz', 'karaoke', 'kayokyoku', 'korean', 'laiko', 'latin',\n",
       "       'latino', 'leftfield', 'local', 'lounge', 'loungeelectronic',\n",
       "       'lovers', 'malaysian', 'mandopop', 'marschmusik', 'meditative',\n",
       "       'mediterranean', 'melodic', 'metal', 'metalcore', 'mexican',\n",
       "       'middle', 'minimal', 'miscellaneous', 'modern', 'mood', 'mpb',\n",
       "       'muslim', 'native', 'neoklassik', 'neue', 'new', 'newage',\n",
       "       'newwave', 'nu', 'nujazz', 'numetal', 'oceania', 'old', 'opera',\n",
       "       'orchestral', 'other', 'piano', 'podcasts', 'pop', 'popdance',\n",
       "       'popelectronic', 'popeurodance', 'poprussian', 'post',\n",
       "       'posthardcore', 'postrock', 'power', 'progmetal', 'progressive',\n",
       "       'psychedelic', 'punjabi', 'punk', 'quebecois', 'ragga', 'ram',\n",
       "       'rancheras', 'rap', 'rave', 'reggae', 'reggaeton', 'regional',\n",
       "       'relax', 'religious', 'retro', 'rhythm', 'rnb', 'rnr', 'rock',\n",
       "       'rockabilly', 'rockalternative', 'rockindie', 'rockother',\n",
       "       'romance', 'roots', 'ruspop', 'rusrap', 'rusrock', 'russian',\n",
       "       'salsa', 'samba', 'scenic', 'schlager', 'self', 'sertanejo',\n",
       "       'shanson', 'shoegazing', 'showtunes', 'singer', 'ska', 'skarock',\n",
       "       'slow', 'smooth', 'soft', 'soul', 'soulful', 'sound', 'soundtrack',\n",
       "       'southern', 'specialty', 'speech', 'spiritual', 'sport',\n",
       "       'stonerrock', 'surf', 'swing', 'synthpop', 'synthrock',\n",
       "       'sängerportrait', 'tango', 'tanzorchester', 'taraftar', 'tatar',\n",
       "       'tech', 'techno', 'teen', 'thrash', 'top', 'traditional',\n",
       "       'tradjazz', 'trance', 'tribal', 'trip', 'triphop', 'tropical',\n",
       "       'türk', 'türkçe', 'ukrrock', 'unknown', 'urban', 'uzbek',\n",
       "       'variété', 'vi', 'videogame', 'vocal', 'western', 'world',\n",
       "       'worldbeat', 'ïîï', 'электроника'], dtype=object)"
      ]
     },
     "execution_count": 14,
     "metadata": {},
     "output_type": "execute_result"
    }
   ],
   "source": [
    "df_sort = df['genre'].sort_values().unique() # c такой сортировкой проще найти расхождения, посмотрев в конец списка жанров\n",
    "df_sort# Просмотр уникальных названий жанров"
   ]
  },
  {
   "cell_type": "markdown",
   "metadata": {
    "id": "qej-Qmuo_Zct"
   },
   "source": [
    "Просмотрите список и найдите неявные дубликаты названия `hiphop`. Это могут быть названия с ошибками или альтернативные названия того же жанра.\n",
    "\n",
    "Вы увидите следующие неявные дубликаты:\n",
    "* *hip*,\n",
    "* *hop*,\n",
    "* *hip-hop*.\n",
    "\n",
    "Чтобы очистить от них таблицу, напишите функцию `replace_wrong_genres()` с двумя параметрами: \n",
    "* `wrong_genres` — список дубликатов,\n",
    "* `correct_genre` — строка с правильным значением.\n",
    "\n",
    "\n",
    "Функция должна исправить колонку `genre` в таблице `df`: заменить каждое значение из списка `wrong_genres` на значение из `correct_genre`."
   ]
  },
  {
   "cell_type": "code",
   "execution_count": 15,
   "metadata": {
    "id": "ErNDkmns_Zct"
   },
   "outputs": [],
   "source": [
    "# Функция для замены неявных дубликатов\n",
    "def replace_wrong_genres(wrong_genres, correct_genre):\n",
    "    for wrong_genre in wrong_genres:\n",
    "        df['genre'] = df['genre'].replace(wrong_genre, correct_genre)\n",
    "\n",
    "#wrong_genres = ['hip', 'hop', 'hip-hop']\n",
    "#correct_genre = 'hiphop'\n",
    "#replace_wrong_genres(wrong_genres, correct_genre)\n",
    "\n",
    "#df['genre'].value_counts().head(40)"
   ]
  },
  {
   "cell_type": "markdown",
   "metadata": {
    "id": "aDoBJxbA_Zct"
   },
   "source": [
    "Вызовите `replace_wrong_genres()` и передайте ей такие аргументы, чтобы она устранила неявные дубликаты: вместо `hip`, `hop` и `hip-hop` в таблице должно быть значение `hiphop`:"
   ]
  },
  {
   "cell_type": "code",
   "execution_count": 16,
   "metadata": {
    "id": "YN5i2hpmSo09"
   },
   "outputs": [],
   "source": [
    "wrong_genres = ['hip', 'hop', 'hip-hop']\n",
    "correct_genre = 'hiphop'\n",
    "# Устранение неявных дубликатов\n",
    "replace_wrong_genres(wrong_genres, correct_genre)\n",
    "#При желании ещё можно обратить внимание на 'latin' и 'latino'..."
   ]
  },
  {
   "cell_type": "markdown",
   "metadata": {
    "id": "zQKF16_RG15m"
   },
   "source": [
    "Проверьте, что заменили неправильные названия:\n",
    "\n",
    "*   hip\n",
    "*   hop\n",
    "*   hip-hop\n",
    "\n",
    "Выведите отсортированный список уникальных значений столбца `genre`:"
   ]
  },
  {
   "cell_type": "code",
   "execution_count": 17,
   "metadata": {
    "id": "wvixALnFG15m"
   },
   "outputs": [
    {
     "data": {
      "text/plain": [
       "array(['acid', 'acoustic', 'action', 'adult', 'africa', 'afrikaans',\n",
       "       'alternative', 'alternativepunk', 'ambient', 'americana',\n",
       "       'animated', 'anime', 'arabesk', 'arabic', 'arena',\n",
       "       'argentinetango', 'art', 'audiobook', 'author', 'avantgarde',\n",
       "       'axé', 'baile', 'balkan', 'beats', 'bigroom', 'black', 'bluegrass',\n",
       "       'blues', 'bollywood', 'bossa', 'brazilian', 'breakbeat', 'breaks',\n",
       "       'broadway', 'cantautori', 'cantopop', 'canzone', 'caribbean',\n",
       "       'caucasian', 'celtic', 'chamber', 'chanson', 'children', 'chill',\n",
       "       'chinese', 'choral', 'christian', 'christmas', 'classical',\n",
       "       'classicmetal', 'club', 'colombian', 'comedy', 'conjazz',\n",
       "       'contemporary', 'country', 'cuban', 'dance', 'dancehall',\n",
       "       'dancepop', 'dark', 'death', 'deep', 'deutschrock', 'deutschspr',\n",
       "       'dirty', 'disco', 'dnb', 'documentary', 'downbeat', 'downtempo',\n",
       "       'drum', 'dub', 'dubstep', 'eastern', 'easy', 'electronic',\n",
       "       'electropop', 'emo', 'entehno', 'epicmetal', 'estrada', 'ethnic',\n",
       "       'eurofolk', 'european', 'experimental', 'extrememetal', 'fado',\n",
       "       'fairytail', 'film', 'fitness', 'flamenco', 'folk', 'folklore',\n",
       "       'folkmetal', 'folkrock', 'folktronica', 'forró', 'frankreich',\n",
       "       'französisch', 'french', 'funk', 'future', 'gangsta', 'garage',\n",
       "       'german', 'ghazal', 'gitarre', 'glitch', 'gospel', 'gothic',\n",
       "       'grime', 'grunge', 'gypsy', 'handsup', \"hard'n'heavy\", 'hardcore',\n",
       "       'hardstyle', 'hardtechno', 'hiphop', 'historisch', 'holiday',\n",
       "       'horror', 'house', 'hymn', 'idm', 'independent', 'indian', 'indie',\n",
       "       'indipop', 'industrial', 'inspirational', 'instrumental',\n",
       "       'international', 'irish', 'jam', 'japanese', 'jazz', 'jewish',\n",
       "       'jpop', 'jungle', 'k-pop', 'karadeniz', 'karaoke', 'kayokyoku',\n",
       "       'korean', 'laiko', 'latin', 'latino', 'leftfield', 'local',\n",
       "       'lounge', 'loungeelectronic', 'lovers', 'malaysian', 'mandopop',\n",
       "       'marschmusik', 'meditative', 'mediterranean', 'melodic', 'metal',\n",
       "       'metalcore', 'mexican', 'middle', 'minimal', 'miscellaneous',\n",
       "       'modern', 'mood', 'mpb', 'muslim', 'native', 'neoklassik', 'neue',\n",
       "       'new', 'newage', 'newwave', 'nu', 'nujazz', 'numetal', 'oceania',\n",
       "       'old', 'opera', 'orchestral', 'other', 'piano', 'podcasts', 'pop',\n",
       "       'popdance', 'popelectronic', 'popeurodance', 'poprussian', 'post',\n",
       "       'posthardcore', 'postrock', 'power', 'progmetal', 'progressive',\n",
       "       'psychedelic', 'punjabi', 'punk', 'quebecois', 'ragga', 'ram',\n",
       "       'rancheras', 'rap', 'rave', 'reggae', 'reggaeton', 'regional',\n",
       "       'relax', 'religious', 'retro', 'rhythm', 'rnb', 'rnr', 'rock',\n",
       "       'rockabilly', 'rockalternative', 'rockindie', 'rockother',\n",
       "       'romance', 'roots', 'ruspop', 'rusrap', 'rusrock', 'russian',\n",
       "       'salsa', 'samba', 'scenic', 'schlager', 'self', 'sertanejo',\n",
       "       'shanson', 'shoegazing', 'showtunes', 'singer', 'ska', 'skarock',\n",
       "       'slow', 'smooth', 'soft', 'soul', 'soulful', 'sound', 'soundtrack',\n",
       "       'southern', 'specialty', 'speech', 'spiritual', 'sport',\n",
       "       'stonerrock', 'surf', 'swing', 'synthpop', 'synthrock',\n",
       "       'sängerportrait', 'tango', 'tanzorchester', 'taraftar', 'tatar',\n",
       "       'tech', 'techno', 'teen', 'thrash', 'top', 'traditional',\n",
       "       'tradjazz', 'trance', 'tribal', 'trip', 'triphop', 'tropical',\n",
       "       'türk', 'türkçe', 'ukrrock', 'unknown', 'urban', 'uzbek',\n",
       "       'variété', 'vi', 'videogame', 'vocal', 'western', 'world',\n",
       "       'worldbeat', 'ïîï', 'электроника'], dtype=object)"
      ]
     },
     "execution_count": 17,
     "metadata": {},
     "output_type": "execute_result"
    }
   ],
   "source": [
    "# Проверка на неявные дубликаты\n",
    "df['genre'].sort_values().unique()"
   ]
  },
  {
   "cell_type": "markdown",
   "metadata": {
    "id": "jz6a9-7HQUDd"
   },
   "source": [
    "**Выводы**\n",
    "\n",
    "Предобработка обнаружила три проблемы в данных:\n",
    "\n",
    "- нарушения в стиле заголовков,\n",
    "- пропущенные значения,\n",
    "- дубликаты — явные и неявные.\n",
    "\n",
    "Вы исправили заголовки, чтобы упростить работу с таблицей. Без дубликатов исследование станет более точным.\n",
    "\n",
    "Пропущенные значения вы заменили на `'unknown'`. Ещё предстоит увидеть, не повредят ли исследованию пропуски в колонке `genre`.\n",
    "\n",
    "Теперь можно перейти к проверке гипотез. "
   ]
  },
  {
   "cell_type": "markdown",
   "metadata": {
    "id": "WttZHXH0SqKk"
   },
   "source": [
    "## Проверка гипотез"
   ]
  },
  {
   "cell_type": "markdown",
   "metadata": {
    "id": "Im936VVi_Zcu"
   },
   "source": [
    "### Сравнение поведения пользователей двух столиц"
   ]
  },
  {
   "cell_type": "markdown",
   "metadata": {
    "id": "nwt_MuaL_Zcu"
   },
   "source": [
    "Первая гипотеза утверждает, что пользователи по-разному слушают музыку в Москве и Санкт-Петербурге. Проверьте это предположение по данным о трёх днях недели — понедельнике, среде и пятнице. Для этого:\n",
    "\n",
    "* Разделите пользователей Москвы и Санкт-Петербурга\n",
    "* Сравните, сколько треков послушала каждая группа пользователей в понедельник, среду и пятницу.\n"
   ]
  },
  {
   "cell_type": "markdown",
   "metadata": {
    "id": "8Dw_YMmT_Zcu"
   },
   "source": [
    "Для тренировки сначала выполните каждый из расчётов по отдельности. \n",
    "\n",
    "Оцените активность пользователей в каждом городе. Сгруппируйте данные по городу и посчитайте прослушивания в каждой группе.\n",
    "\n"
   ]
  },
  {
   "cell_type": "code",
   "execution_count": 18,
   "metadata": {
    "id": "0_Qs96oh_Zcu"
   },
   "outputs": [
    {
     "data": {
      "text/plain": [
       "city\n",
       "Moscow              42741\n",
       "Saint-Petersburg    18512\n",
       "Name: time, dtype: int64"
      ]
     },
     "execution_count": 18,
     "metadata": {},
     "output_type": "execute_result"
    }
   ],
   "source": [
    "df.groupby('city')['time'].count()# Подсчёт прослушиваний в каждом городе "
   ]
  },
  {
   "cell_type": "markdown",
   "metadata": {
    "id": "dzli3w8o_Zcu"
   },
   "source": [
    "В Москве прослушиваний больше, чем в Петербурге. Из этого не следует, что московские пользователи чаще слушают музыку. Просто самих пользователей в Москве больше.\n",
    "\n",
    "Теперь сгруппируйте данные по дню недели и подсчитайте прослушивания в понедельник, среду и пятницу. Учтите, что в данных есть информация только о прослушиваниях только за эти дни.\n"
   ]
  },
  {
   "cell_type": "code",
   "execution_count": 19,
   "metadata": {
    "id": "uZMKjiJz_Zcu"
   },
   "outputs": [
    {
     "data": {
      "text/plain": [
       "day\n",
       "Friday       21840\n",
       "Monday       21354\n",
       "Wednesday    18059\n",
       "Name: user_id, dtype: int64"
      ]
     },
     "execution_count": 19,
     "metadata": {},
     "output_type": "execute_result"
    }
   ],
   "source": [
    "df.groupby('day')['user_id'].count()# Подсчёт прослушиваний в каждый из трёх дней"
   ]
  },
  {
   "cell_type": "markdown",
   "metadata": {
    "id": "cC2tNrlL_Zcu"
   },
   "source": [
    "В среднем пользователи из двух городов менее активны по средам. Но картина может измениться, если рассмотреть каждый город в отдельности."
   ]
  },
  {
   "cell_type": "markdown",
   "metadata": {
    "id": "POzs8bGa_Zcu"
   },
   "source": [
    "Вы видели, как работает группировка по городу и по дням недели. Теперь напишите функцию, которая объединит два эти расчёта.\n",
    "\n",
    "Создайте функцию `number_tracks()`, которая посчитает прослушивания для заданного дня и города. Ей понадобятся два параметра:\n",
    "* день недели,\n",
    "* название города.\n",
    "\n",
    "В функции сохраните в переменную строки исходной таблицы, у которых значение:\n",
    "  * в колонке `day` равно параметру `day`,\n",
    "  * в колонке `city` равно параметру `city`.\n",
    "\n",
    "Для этого примените последовательную фильтрацию с логической индексацией.\n",
    "\n",
    "Затем посчитайте значения в столбце `user_id` получившейся таблицы. Результат сохраните в новую переменную. Верните эту переменную из функции."
   ]
  },
  {
   "cell_type": "code",
   "execution_count": 20,
   "metadata": {
    "id": "Nz3GdQB1_Zcu"
   },
   "outputs": [],
   "source": [
    "# <создание функции number_tracks()>\n",
    "def number_tracks(day, city):# Объявляется функция с двумя параметрами: day, city.\n",
    "    track_list = df[(df['day'] == day) & (df['city'] == city)]# В переменной track_list сохраняются те строки таблицы df, для которых \n",
    "    track_list_count = track_list['user_id'].count()\n",
    "    return track_list_count\n",
    "    # значение в столбце 'day' равно параметру day и одновременно значение\n",
    "# в столбце 'city' равно параметру city (используйте последовательную фильтрацию\n",
    "# с помощью логической индексации).\n",
    "    # В переменной track_list_count сохраняется число значений столбца 'user_id',\n",
    "# рассчитанное методом count() для таблицы track_list.\n",
    "    # Функция возвращает число - значение track_list_count.\n",
    "\n",
    "# Функция для подсчёта прослушиваний для конкретного города и дня.\n",
    "# С помощью последовательной фильтрации с логической индексацией она \n",
    "# сначала получит из исходной таблицы строки с нужным днём,\n",
    "# затем из результата отфильтрует строки с нужным городом,\n",
    "# методом count() посчитает количество значений в колонке user_id. \n",
    "# Это количество функция вернёт в качестве результата"
   ]
  },
  {
   "cell_type": "markdown",
   "metadata": {
    "id": "ytf7xFrFJQ2r"
   },
   "source": [
    "Вызовите `number_tracks()` шесть раз, меняя значение параметров — так, чтобы получить данные для каждого города в каждый из трёх дней."
   ]
  },
  {
   "cell_type": "code",
   "execution_count": 21,
   "metadata": {
    "id": "rJcRATNQ_Zcu"
   },
   "outputs": [
    {
     "data": {
      "text/plain": [
       "15740"
      ]
     },
     "execution_count": 21,
     "metadata": {},
     "output_type": "execute_result"
    }
   ],
   "source": [
    "number_tracks('Monday', 'Moscow')# количество прослушиваний в Москве по понедельникам"
   ]
  },
  {
   "cell_type": "code",
   "execution_count": 22,
   "metadata": {
    "id": "hq_ncZ5T_Zcu"
   },
   "outputs": [
    {
     "data": {
      "text/plain": [
       "5614"
      ]
     },
     "execution_count": 22,
     "metadata": {},
     "output_type": "execute_result"
    }
   ],
   "source": [
    "number_tracks('Monday', 'Saint-Petersburg')# количество прослушиваний в Санкт-Петербурге по понедельникам"
   ]
  },
  {
   "cell_type": "code",
   "execution_count": 23,
   "metadata": {
    "id": "_NTy2VPU_Zcu"
   },
   "outputs": [
    {
     "data": {
      "text/plain": [
       "11056"
      ]
     },
     "execution_count": 23,
     "metadata": {},
     "output_type": "execute_result"
    }
   ],
   "source": [
    "number_tracks('Wednesday', 'Moscow')# количество прослушиваний в Москве по средам"
   ]
  },
  {
   "cell_type": "code",
   "execution_count": 24,
   "metadata": {
    "id": "j2y3TAwo_Zcu"
   },
   "outputs": [
    {
     "data": {
      "text/plain": [
       "7003"
      ]
     },
     "execution_count": 24,
     "metadata": {},
     "output_type": "execute_result"
    }
   ],
   "source": [
    "number_tracks('Wednesday', 'Saint-Petersburg')# количество прослушиваний в Санкт-Петербурге по средам"
   ]
  },
  {
   "cell_type": "code",
   "execution_count": 25,
   "metadata": {
    "id": "vYDw5u_K_Zcu"
   },
   "outputs": [
    {
     "data": {
      "text/plain": [
       "15945"
      ]
     },
     "execution_count": 25,
     "metadata": {},
     "output_type": "execute_result"
    }
   ],
   "source": [
    "number_tracks('Friday', 'Moscow')# количество прослушиваний в Москве по пятницам"
   ]
  },
  {
   "cell_type": "code",
   "execution_count": 26,
   "metadata": {
    "id": "8_yzFtW3_Zcu"
   },
   "outputs": [
    {
     "data": {
      "text/plain": [
       "5895"
      ]
     },
     "execution_count": 26,
     "metadata": {},
     "output_type": "execute_result"
    }
   ],
   "source": [
    "number_tracks('Friday', 'Saint-Petersburg')# количество прослушиваний в Санкт-Петербурге по пятницам"
   ]
  },
  {
   "cell_type": "markdown",
   "metadata": {
    "id": "7QXffbO-_Zcu"
   },
   "source": [
    "Создайте c помощью конструктора `pd.DataFrame` таблицу, где\n",
    "* названия колонок — `['city', 'monday', 'wednesday', 'friday']`;\n",
    "* данные — результаты, которые вы получили с помощью `number_tracks`."
   ]
  },
  {
   "cell_type": "code",
   "execution_count": 27,
   "metadata": {
    "id": "APAcLpOr_Zcu"
   },
   "outputs": [
    {
     "data": {
      "text/html": [
       "<div>\n",
       "<style scoped>\n",
       "    .dataframe tbody tr th:only-of-type {\n",
       "        vertical-align: middle;\n",
       "    }\n",
       "\n",
       "    .dataframe tbody tr th {\n",
       "        vertical-align: top;\n",
       "    }\n",
       "\n",
       "    .dataframe thead th {\n",
       "        text-align: right;\n",
       "    }\n",
       "</style>\n",
       "<table border=\"1\" class=\"dataframe\">\n",
       "  <thead>\n",
       "    <tr style=\"text-align: right;\">\n",
       "      <th></th>\n",
       "      <th>city</th>\n",
       "      <th>monday</th>\n",
       "      <th>wednesday</th>\n",
       "      <th>friday</th>\n",
       "    </tr>\n",
       "  </thead>\n",
       "  <tbody>\n",
       "    <tr>\n",
       "      <td>0</td>\n",
       "      <td>Moscow</td>\n",
       "      <td>15740</td>\n",
       "      <td>11056</td>\n",
       "      <td>15945</td>\n",
       "    </tr>\n",
       "    <tr>\n",
       "      <td>1</td>\n",
       "      <td>Saint-Petersburg</td>\n",
       "      <td>5614</td>\n",
       "      <td>7003</td>\n",
       "      <td>5895</td>\n",
       "    </tr>\n",
       "  </tbody>\n",
       "</table>\n",
       "</div>"
      ],
      "text/plain": [
       "               city  monday  wednesday  friday\n",
       "0            Moscow   15740      11056   15945\n",
       "1  Saint-Petersburg    5614       7003    5895"
      ]
     },
     "execution_count": 27,
     "metadata": {},
     "output_type": "execute_result"
    }
   ],
   "source": [
    "columns = ['city', 'monday', 'wednesday', 'friday']\n",
    "data = [\n",
    "    ['Moscow', 15740, 11056, 15945],\n",
    "    ['Saint-Petersburg', 5614, 7003, 5895]\n",
    "]\n",
    "day_city = pd.DataFrame(data=data, columns=columns)# Таблица с результатами\n",
    "day_city"
   ]
  },
  {
   "cell_type": "markdown",
   "metadata": {
    "id": "-EgPIHYu_Zcu"
   },
   "source": [
    "**Выводы**\n",
    "\n",
    "Данные показывают разницу поведения пользователей:\n",
    "\n",
    "- В Москве пик прослушиваний приходится на понедельник и пятницу, а в среду заметен спад.\n",
    "- В Петербурге, наоборот, больше слушают музыку по средам. Активность в понедельник и пятницу здесь почти в равной мере уступает среде.\n",
    "\n",
    "Значит, данные говорят в пользу первой гипотезы."
   ]
  },
  {
   "cell_type": "markdown",
   "metadata": {
    "id": "atZAxtq4_Zcu"
   },
   "source": [
    "### Музыка в начале и в конце недели"
   ]
  },
  {
   "cell_type": "markdown",
   "metadata": {
    "id": "eXrQqXFH_Zcu"
   },
   "source": [
    "Согласно второй гипотезе, утром в понедельник в Москве преобладают одни жанры, а в Петербурге — другие. Так же и вечером пятницы преобладают разные жанры — в зависимости от города."
   ]
  },
  {
   "cell_type": "markdown",
   "metadata": {
    "id": "S8UcW6Hw_Zcu"
   },
   "source": [
    "Сохраните таблицы с данными в две переменные:\n",
    "* по Москве — в `moscow_general`;\n",
    "* по Санкт-Петербургу — в `spb_general`."
   ]
  },
  {
   "cell_type": "code",
   "execution_count": 28,
   "metadata": {
    "id": "qeaFfM_P_Zcu"
   },
   "outputs": [],
   "source": [
    "moscow_general = df[df['city'] == 'Moscow']"
   ]
  },
  {
   "cell_type": "code",
   "execution_count": 29,
   "metadata": {
    "id": "ORaVRKto_Zcu"
   },
   "outputs": [],
   "source": [
    "spb_general = df[df['city'] == 'Saint-Petersburg']"
   ]
  },
  {
   "cell_type": "markdown",
   "metadata": {
    "id": "MEJV-CX2_Zcu"
   },
   "source": [
    "Создайте функцию `genre_weekday()` с четырьмя параметрами:\n",
    "* таблица (датафрейм) с данными,\n",
    "* день недели,\n",
    "* начальная временная метка в формате 'hh:mm', \n",
    "* последняя временная метка в формате 'hh:mm'.\n",
    "\n",
    "Функция должна вернуть информацию о топ-10 жанров тех треков, которые прослушивали в указанный день, в промежутке между двумя отметками времени."
   ]
  },
  {
   "cell_type": "code",
   "execution_count": 30,
   "metadata": {
    "id": "laJT9BYl_Zcu"
   },
   "outputs": [],
   "source": [
    "# Объявление функции genre_weekday() с параметрами table, day, time1, time2,\n",
    "def genre_weekday(table, day, time1, time2):\n",
    "    genre_df = table[(table['day'] == day) & (table['time'] > time1)  & (table['time'] <= time2)]\n",
    "    genre_df_count = genre_df.groupby('genre')['genre'].count()\n",
    "    genre_df_sorted = genre_df_count.sort_values(ascending = False)  \n",
    "    return genre_df_sorted[:10]"
   ]
  },
  {
   "cell_type": "markdown",
   "metadata": {
    "id": "la2s2_PF_Zcu"
   },
   "source": [
    "Cравните результаты функции `genre_weekday()` для Москвы и Санкт-Петербурга в понедельник утром (с 7:00 до 11:00) и в пятницу вечером (с 17:00 до 23:00):"
   ]
  },
  {
   "cell_type": "code",
   "execution_count": 1,
   "metadata": {
    "id": "yz7itPUQ_Zcu"
   },
   "outputs": [
    {
     "ename": "NameError",
     "evalue": "name 'genre_weekday' is not defined",
     "output_type": "error",
     "traceback": [
      "\u001b[1;31m---------------------------------------------------------------------------\u001b[0m",
      "\u001b[1;31mNameError\u001b[0m                                 Traceback (most recent call last)",
      "Input \u001b[1;32mIn [1]\u001b[0m, in \u001b[0;36m<cell line: 2>\u001b[1;34m()\u001b[0m\n\u001b[0;32m      1\u001b[0m \u001b[38;5;66;03m# вызов функции для утра понедельника в Москве (вместо df — таблица moscow_general)\u001b[39;00m\n\u001b[1;32m----> 2\u001b[0m \u001b[43mgenre_weekday\u001b[49m(moscow_general, \u001b[38;5;124m'\u001b[39m\u001b[38;5;124mMonday\u001b[39m\u001b[38;5;124m'\u001b[39m, \u001b[38;5;124m'\u001b[39m\u001b[38;5;124m07:00\u001b[39m\u001b[38;5;124m'\u001b[39m, \u001b[38;5;124m'\u001b[39m\u001b[38;5;124m11:00\u001b[39m\u001b[38;5;124m'\u001b[39m)\n",
      "\u001b[1;31mNameError\u001b[0m: name 'genre_weekday' is not defined"
     ]
    }
   ],
   "source": [
    "# вызов функции для утра понедельника в Москве (вместо df — таблица moscow_general)\n",
    "genre_weekday(moscow_general, 'Monday', '07:00', '11:00')"
   ]
  },
  {
   "cell_type": "code",
   "execution_count": 32,
   "metadata": {
    "id": "kwUcHPdy_Zcu"
   },
   "outputs": [
    {
     "data": {
      "text/plain": [
       "genre\n",
       "pop            218\n",
       "dance          182\n",
       "rock           162\n",
       "electronic     147\n",
       "hiphop          80\n",
       "ruspop          64\n",
       "alternative     58\n",
       "rusrap          55\n",
       "jazz            44\n",
       "classical       40\n",
       "Name: genre, dtype: int64"
      ]
     },
     "execution_count": 32,
     "metadata": {},
     "output_type": "execute_result"
    }
   ],
   "source": [
    "genre_weekday(spb_general, 'Monday', '07:00', '11:00')# вызов функции для утра понедельника в Петербурге (вместо df — таблица spb_general)"
   ]
  },
  {
   "cell_type": "code",
   "execution_count": 33,
   "metadata": {
    "id": "EzXVRE1o_Zcu"
   },
   "outputs": [
    {
     "data": {
      "text/plain": [
       "genre\n",
       "pop            713\n",
       "rock           517\n",
       "dance          495\n",
       "electronic     482\n",
       "hiphop         273\n",
       "world          208\n",
       "ruspop         170\n",
       "alternative    163\n",
       "classical      163\n",
       "rusrap         142\n",
       "Name: genre, dtype: int64"
      ]
     },
     "execution_count": 33,
     "metadata": {},
     "output_type": "execute_result"
    }
   ],
   "source": [
    "genre_weekday(moscow_general, 'Friday', '17:00', '23:00')# вызов функции для вечера пятницы в Москве"
   ]
  },
  {
   "cell_type": "code",
   "execution_count": 34,
   "metadata": {
    "id": "JZaEKu5v_Zcu"
   },
   "outputs": [
    {
     "data": {
      "text/plain": [
       "genre\n",
       "pop            256\n",
       "rock           216\n",
       "electronic     216\n",
       "dance          210\n",
       "hiphop          97\n",
       "alternative     63\n",
       "jazz            61\n",
       "classical       60\n",
       "rusrap          59\n",
       "world           54\n",
       "Name: genre, dtype: int64"
      ]
     },
     "execution_count": 34,
     "metadata": {},
     "output_type": "execute_result"
    }
   ],
   "source": [
    "genre_weekday(spb_general, 'Friday', '17:00', '23:00')# вызов функции для вечера пятницы в Петербурге"
   ]
  },
  {
   "cell_type": "markdown",
   "metadata": {
    "id": "wrCe4MNX_Zcu"
   },
   "source": [
    "**Выводы**\n",
    "\n",
    "Если сравнить топ-10 жанров в понедельник утром, можно сделать такие выводы:\n",
    "\n",
    "1. В Москве и Петербурге слушают похожую музыку. Единственное отличие — в московский рейтинг вошёл жанр “world”, а в петербургский — джаз и классика.\n",
    "\n",
    "2. В Москве пропущенных значений оказалось так много, что значение `'unknown'` заняло десятое место среди самых популярных жанров. Значит, пропущенные значения занимают существенную долю в данных и угрожают достоверности исследования.\n",
    "\n",
    "Вечер пятницы не меняет эту картину. Некоторые жанры поднимаются немного выше, другие спускаются, но в целом топ-10 остаётся тем же самым.\n",
    "\n",
    "Таким образом, вторая гипотеза подтвердилась лишь частично:\n",
    "* Пользователи слушают похожую музыку в начале недели и в конце.\n",
    "* Разница между Москвой и Петербургом не слишком выражена. В Москве чаще слушают русскую популярную музыку, в Петербурге — джаз.\n",
    "\n",
    "Однако пропуски в данных ставят под сомнение этот результат. В Москве их так много, что рейтинг топ-10 мог бы выглядеть иначе, если бы не утерянные  данные о жанрах."
   ]
  },
  {
   "cell_type": "markdown",
   "metadata": {
    "id": "JolODAqr_Zcu"
   },
   "source": [
    "### Жанровые предпочтения в Москве и Петербурге\n",
    "\n",
    "Гипотеза: Петербург — столица рэпа, музыку этого жанра там слушают чаще, чем в Москве.  А Москва — город контрастов, в котором, тем не менее, преобладает поп-музыка."
   ]
  },
  {
   "cell_type": "markdown",
   "metadata": {
    "id": "DlegSvaT_Zcu"
   },
   "source": [
    "Сгруппируйте таблицу `moscow_general` по жанру и посчитайте прослушивания треков каждого жанра методом `count()`. Затем отсортируйте результат в порядке убывания и сохраните его в таблице `moscow_genres`."
   ]
  },
  {
   "cell_type": "code",
   "execution_count": 35,
   "metadata": {
    "id": "r19lIPke_Zcu"
   },
   "outputs": [],
   "source": [
    "moscow_genres = moscow_general.groupby('genre')['genre'].count().sort_values(ascending = False)\n",
    "# одной строкой: группировка таблицы moscow_general по столбцу 'genre', \n",
    "# подсчёт числа значений 'genre' в этой группировке методом count(), \n",
    "# сортировка получившегося Series в порядке убывания и сохранение в moscow_genres"
   ]
  },
  {
   "cell_type": "markdown",
   "metadata": {
    "id": "6kMuomxTiIr8"
   },
   "source": [
    "Выведите на экран первые десять строк `moscow_genres`:"
   ]
  },
  {
   "cell_type": "code",
   "execution_count": 36,
   "metadata": {
    "id": "WhCSooF8_Zcv"
   },
   "outputs": [
    {
     "data": {
      "text/plain": [
       "genre\n",
       "pop            5892\n",
       "dance          4435\n",
       "rock           3965\n",
       "electronic     3786\n",
       "hiphop         2096\n",
       "classical      1616\n",
       "world          1432\n",
       "alternative    1379\n",
       "ruspop         1372\n",
       "rusrap         1161\n",
       "Name: genre, dtype: int64"
      ]
     },
     "execution_count": 36,
     "metadata": {},
     "output_type": "execute_result"
    }
   ],
   "source": [
    "moscow_genres.head(10)# просмотр первых 10 строк moscow_genres"
   ]
  },
  {
   "cell_type": "markdown",
   "metadata": {
    "id": "cnPG2vnN_Zcv"
   },
   "source": [
    "Теперь повторите то же и для Петербурга.\n",
    "\n",
    "Сгруппируйте таблицу `spb_general` по жанру. Посчитайте прослушивания треков каждого жанра. Результат отсортируйте в порядке убывания и сохраните в таблице `spb_genres`:\n"
   ]
  },
  {
   "cell_type": "code",
   "execution_count": 37,
   "metadata": {
    "id": "gluLIpE7_Zcv"
   },
   "outputs": [],
   "source": [
    "spb_genres = spb_general.groupby('genre')['genre'].count().sort_values(ascending = False)\n",
    "# одной строкой: группировка таблицы spb_general по столбцу 'genre', \n",
    "# подсчёт числа значений 'genre' в этой группировке методом count(), \n",
    "# сортировка получившегося Series в порядке убывания и сохранение в spb_genres"
   ]
  },
  {
   "cell_type": "markdown",
   "metadata": {
    "id": "5Doha_ODgyQ8"
   },
   "source": [
    "Выведите на экран первые десять строк `spb_genres`:"
   ]
  },
  {
   "cell_type": "code",
   "execution_count": 38,
   "metadata": {
    "id": "uaGJHjVU_Zcv"
   },
   "outputs": [
    {
     "data": {
      "text/plain": [
       "genre\n",
       "pop            2431\n",
       "dance          1932\n",
       "rock           1879\n",
       "electronic     1736\n",
       "hiphop          960\n",
       "alternative     649\n",
       "classical       646\n",
       "rusrap          564\n",
       "ruspop          538\n",
       "world           515\n",
       "Name: genre, dtype: int64"
      ]
     },
     "execution_count": 38,
     "metadata": {},
     "output_type": "execute_result"
    }
   ],
   "source": [
    "spb_genres.head(10)# просмотр первых 10 строк spb_genres"
   ]
  },
  {
   "cell_type": "markdown",
   "metadata": {
    "id": "RY51YJYu_Zcv"
   },
   "source": [
    "**Выводы**"
   ]
  },
  {
   "cell_type": "markdown",
   "metadata": {
    "id": "nVhnJEm__Zcv"
   },
   "source": [
    "Гипотеза частично подтвердилась:\n",
    "* Поп-музыка — самый популярный жанр в Москве, как и предполагала гипотеза. Более того, в топ-10 жанров встречается близкий жанр — русская популярная музыка.\n",
    "* Вопреки ожиданиям, рэп одинаково популярен в Москве и Петербурге. \n"
   ]
  },
  {
   "cell_type": "markdown",
   "metadata": {
    "id": "ykKQ0N65_Zcv"
   },
   "source": [
    "## Итоги исследования"
   ]
  },
  {
   "cell_type": "markdown",
   "metadata": {
    "id": "tjUwbHb3_Zcv"
   },
   "source": [
    "Вы проверили три гипотезы и установили:\n",
    "\n",
    "1. День недели по-разному влияет на активность пользователей в Москве и Петербурге. \n",
    "\n",
    "Первая гипотеза полностью подтвердилась.\n",
    "\n",
    "2. Музыкальные предпочтения не сильно меняются в течение недели — будь то Москва или Петербург. Небольшие различия заметны в начале недели, по понедельникам:\n",
    "* в Москве слушают музыку жанра “world”,\n",
    "* в Петербурге — джаз и классику.\n",
    "\n",
    "Таким образом, вторая гипотеза подтвердилась лишь отчасти. Этот результат мог оказаться иным, если бы не пропуски в данных.\n",
    "\n",
    "3. Во вкусах пользователей Москвы и Петербурга больше общего чем различий. Вопреки ожиданиям, предпочтения жанров в Петербурге напоминают московские.\n",
    "\n",
    "Третья гипотеза не подтвердилась. Если различия в предпочтениях и существуют, на основной массе пользователей они незаметны.\n",
    "\n",
    "**На практике исследования содержат проверки статистических гипотез.**\n",
    "Из данных одного сервиса не всегда можно сделать вывод о всех жителях города.\n",
    "Проверки статистических гипотез покажут, насколько они достоверны, исходя из имеющихся данных. \n",
    "С методами проверок гипотез вы ещё познакомитесь в следующих темах."
   ]
  }
 ],
 "metadata": {
  "ExecuteTimeLog": [
   {
    "duration": 413,
    "start_time": "2022-02-19T19:53:28.147Z"
   },
   {
    "duration": 767,
    "start_time": "2022-02-19T19:53:35.085Z"
   },
   {
    "duration": 379,
    "start_time": "2022-02-19T19:53:37.032Z"
   },
   {
    "duration": 4,
    "start_time": "2022-02-19T19:53:42.485Z"
   },
   {
    "duration": 207,
    "start_time": "2022-02-19T19:53:44.751Z"
   },
   {
    "duration": 34,
    "start_time": "2022-02-19T19:53:46.721Z"
   },
   {
    "duration": 34,
    "start_time": "2022-02-19T19:53:51.219Z"
   },
   {
    "duration": 797,
    "start_time": "2022-02-20T05:48:51.170Z"
   },
   {
    "duration": 205,
    "start_time": "2022-02-20T05:48:53.470Z"
   },
   {
    "duration": 26,
    "start_time": "2022-02-20T05:48:58.271Z"
   },
   {
    "duration": 1039,
    "start_time": "2022-02-20T05:49:17.445Z"
   },
   {
    "duration": 192,
    "start_time": "2022-02-20T05:49:19.154Z"
   },
   {
    "duration": 27,
    "start_time": "2022-02-20T05:49:22.517Z"
   },
   {
    "duration": 16,
    "start_time": "2022-02-20T05:49:41.553Z"
   },
   {
    "duration": 6,
    "start_time": "2022-02-20T05:58:46.530Z"
   },
   {
    "duration": 25,
    "start_time": "2022-02-20T06:01:44.889Z"
   },
   {
    "duration": 6,
    "start_time": "2022-02-20T06:01:50.659Z"
   },
   {
    "duration": 28,
    "start_time": "2022-02-20T06:02:47.280Z"
   },
   {
    "duration": 6,
    "start_time": "2022-02-20T06:02:49.351Z"
   },
   {
    "duration": 477,
    "start_time": "2022-02-20T06:03:26.750Z"
   },
   {
    "duration": 30,
    "start_time": "2022-02-20T06:04:07.025Z"
   },
   {
    "duration": 35,
    "start_time": "2022-02-20T06:09:46.905Z"
   },
   {
    "duration": 30,
    "start_time": "2022-02-20T06:10:05.325Z"
   },
   {
    "duration": 379,
    "start_time": "2022-02-20T06:15:00.966Z"
   },
   {
    "duration": 9,
    "start_time": "2022-02-20T06:15:23.641Z"
   },
   {
    "duration": 9,
    "start_time": "2022-02-20T06:15:30.646Z"
   },
   {
    "duration": 30,
    "start_time": "2022-02-20T06:15:33.811Z"
   },
   {
    "duration": 21,
    "start_time": "2022-02-20T06:16:37.720Z"
   },
   {
    "duration": 18,
    "start_time": "2022-02-20T06:16:40.089Z"
   },
   {
    "duration": 19,
    "start_time": "2022-02-20T06:16:41.898Z"
   },
   {
    "duration": 34,
    "start_time": "2022-02-20T06:16:44.236Z"
   },
   {
    "duration": 109,
    "start_time": "2022-02-20T06:16:52.474Z"
   },
   {
    "duration": 31,
    "start_time": "2022-02-20T06:16:54.965Z"
   },
   {
    "duration": 31,
    "start_time": "2022-02-20T06:17:00.909Z"
   },
   {
    "duration": 904,
    "start_time": "2022-02-20T06:17:09.705Z"
   },
   {
    "duration": 209,
    "start_time": "2022-02-20T06:17:10.612Z"
   },
   {
    "duration": 30,
    "start_time": "2022-02-20T06:17:10.824Z"
   },
   {
    "duration": 65,
    "start_time": "2022-02-20T06:17:10.857Z"
   },
   {
    "duration": 6,
    "start_time": "2022-02-20T06:17:10.924Z"
   },
   {
    "duration": 38,
    "start_time": "2022-02-20T06:17:10.932Z"
   },
   {
    "duration": 8,
    "start_time": "2022-02-20T06:17:10.973Z"
   },
   {
    "duration": 46,
    "start_time": "2022-02-20T06:17:11.012Z"
   },
   {
    "duration": 4,
    "start_time": "2022-02-20T06:17:11.064Z"
   },
   {
    "duration": 69,
    "start_time": "2022-02-20T06:17:11.073Z"
   },
   {
    "duration": 4,
    "start_time": "2022-02-20T06:17:11.145Z"
   },
   {
    "duration": 13,
    "start_time": "2022-02-20T06:17:11.152Z"
   },
   {
    "duration": 6,
    "start_time": "2022-02-20T06:17:11.168Z"
   },
   {
    "duration": 8,
    "start_time": "2022-02-20T06:17:11.176Z"
   },
   {
    "duration": 26,
    "start_time": "2022-02-20T06:17:11.186Z"
   },
   {
    "duration": 9,
    "start_time": "2022-02-20T06:17:11.215Z"
   },
   {
    "duration": 7,
    "start_time": "2022-02-20T06:17:11.227Z"
   },
   {
    "duration": 7,
    "start_time": "2022-02-20T06:17:11.236Z"
   },
   {
    "duration": 7,
    "start_time": "2022-02-20T06:17:11.246Z"
   },
   {
    "duration": 6,
    "start_time": "2022-02-20T06:17:11.255Z"
   },
   {
    "duration": 8,
    "start_time": "2022-02-20T06:17:11.263Z"
   },
   {
    "duration": 40,
    "start_time": "2022-02-20T06:17:11.274Z"
   },
   {
    "duration": 11,
    "start_time": "2022-02-20T06:17:11.317Z"
   },
   {
    "duration": 5,
    "start_time": "2022-02-20T06:17:11.331Z"
   },
   {
    "duration": 4,
    "start_time": "2022-02-20T06:17:11.339Z"
   },
   {
    "duration": 6,
    "start_time": "2022-02-20T06:17:11.346Z"
   },
   {
    "duration": 3,
    "start_time": "2022-02-20T06:17:11.359Z"
   },
   {
    "duration": 52,
    "start_time": "2022-02-20T06:17:11.366Z"
   },
   {
    "duration": 39,
    "start_time": "2022-02-20T06:17:11.422Z"
   },
   {
    "duration": 6,
    "start_time": "2022-02-20T06:17:11.464Z"
   },
   {
    "duration": 10,
    "start_time": "2022-02-20T06:17:11.473Z"
   },
   {
    "duration": 6,
    "start_time": "2022-02-20T06:17:11.486Z"
   },
   {
    "duration": 8,
    "start_time": "2022-02-20T06:17:11.495Z"
   },
   {
    "duration": 8,
    "start_time": "2022-02-20T06:17:11.505Z"
   },
   {
    "duration": 6,
    "start_time": "2022-02-20T06:17:11.515Z"
   },
   {
    "duration": 9,
    "start_time": "2022-02-20T06:17:11.524Z"
   },
   {
    "duration": 5,
    "start_time": "2022-02-20T06:17:11.535Z"
   },
   {
    "duration": 8,
    "start_time": "2022-02-20T06:17:11.543Z"
   },
   {
    "duration": 32,
    "start_time": "2022-02-20T06:17:24.185Z"
   },
   {
    "duration": 20,
    "start_time": "2022-02-20T06:17:37.146Z"
   },
   {
    "duration": 30,
    "start_time": "2022-02-20T06:17:38.947Z"
   },
   {
    "duration": 19,
    "start_time": "2022-02-20T06:17:41.199Z"
   },
   {
    "duration": 31,
    "start_time": "2022-02-20T06:17:43.229Z"
   },
   {
    "duration": 19,
    "start_time": "2022-02-20T06:18:10.392Z"
   },
   {
    "duration": 34,
    "start_time": "2022-02-20T06:18:10.414Z"
   },
   {
    "duration": 4,
    "start_time": "2022-02-20T06:18:10.452Z"
   },
   {
    "duration": 5,
    "start_time": "2022-02-20T06:18:10.459Z"
   },
   {
    "duration": 45,
    "start_time": "2022-02-20T06:18:10.466Z"
   },
   {
    "duration": 5,
    "start_time": "2022-02-20T06:18:10.513Z"
   },
   {
    "duration": 6,
    "start_time": "2022-02-20T06:18:10.520Z"
   },
   {
    "duration": 5,
    "start_time": "2022-02-20T06:18:10.528Z"
   },
   {
    "duration": 5,
    "start_time": "2022-02-20T06:18:10.537Z"
   },
   {
    "duration": 5,
    "start_time": "2022-02-20T06:18:10.545Z"
   },
   {
    "duration": 7,
    "start_time": "2022-02-20T06:18:10.552Z"
   },
   {
    "duration": 5,
    "start_time": "2022-02-20T06:18:10.560Z"
   },
   {
    "duration": 46,
    "start_time": "2022-02-20T06:18:10.568Z"
   },
   {
    "duration": 5,
    "start_time": "2022-02-20T06:18:10.616Z"
   },
   {
    "duration": 5,
    "start_time": "2022-02-20T06:18:10.624Z"
   },
   {
    "duration": 6,
    "start_time": "2022-02-20T06:18:10.631Z"
   },
   {
    "duration": 5,
    "start_time": "2022-02-20T06:18:10.640Z"
   },
   {
    "duration": 17,
    "start_time": "2022-02-20T06:18:10.648Z"
   },
   {
    "duration": 7,
    "start_time": "2022-02-20T06:18:10.667Z"
   },
   {
    "duration": 6,
    "start_time": "2022-02-20T06:18:10.676Z"
   },
   {
    "duration": 3,
    "start_time": "2022-02-20T06:18:10.711Z"
   },
   {
    "duration": 7,
    "start_time": "2022-02-20T06:18:10.717Z"
   },
   {
    "duration": 10,
    "start_time": "2022-02-20T06:18:10.726Z"
   },
   {
    "duration": 4,
    "start_time": "2022-02-20T06:18:10.739Z"
   },
   {
    "duration": 7,
    "start_time": "2022-02-20T06:18:10.745Z"
   },
   {
    "duration": 4,
    "start_time": "2022-02-20T06:18:10.755Z"
   },
   {
    "duration": 6,
    "start_time": "2022-02-20T06:18:10.764Z"
   },
   {
    "duration": 39,
    "start_time": "2022-02-20T06:18:10.772Z"
   },
   {
    "duration": 7,
    "start_time": "2022-02-20T06:18:10.814Z"
   },
   {
    "duration": 4,
    "start_time": "2022-02-20T06:18:10.823Z"
   },
   {
    "duration": 20,
    "start_time": "2022-02-20T06:18:36.643Z"
   },
   {
    "duration": 32,
    "start_time": "2022-02-20T06:18:41.916Z"
   },
   {
    "duration": 19,
    "start_time": "2022-02-20T06:18:43.861Z"
   },
   {
    "duration": 107,
    "start_time": "2022-02-20T06:18:47.060Z"
   },
   {
    "duration": 464,
    "start_time": "2022-02-20T06:18:53.169Z"
   },
   {
    "duration": 361,
    "start_time": "2022-02-20T06:19:00.646Z"
   },
   {
    "duration": 353,
    "start_time": "2022-02-20T06:19:39.336Z"
   },
   {
    "duration": 10,
    "start_time": "2022-02-20T06:20:01.964Z"
   },
   {
    "duration": 30,
    "start_time": "2022-02-20T06:20:06.260Z"
   },
   {
    "duration": 35,
    "start_time": "2022-02-20T06:20:12.519Z"
   },
   {
    "duration": 3,
    "start_time": "2022-02-20T06:20:12.557Z"
   },
   {
    "duration": 4,
    "start_time": "2022-02-20T06:20:12.563Z"
   },
   {
    "duration": 41,
    "start_time": "2022-02-20T06:20:12.570Z"
   },
   {
    "duration": 4,
    "start_time": "2022-02-20T06:20:12.614Z"
   },
   {
    "duration": 7,
    "start_time": "2022-02-20T06:20:12.621Z"
   },
   {
    "duration": 4,
    "start_time": "2022-02-20T06:20:12.631Z"
   },
   {
    "duration": 3,
    "start_time": "2022-02-20T06:20:12.638Z"
   },
   {
    "duration": 3,
    "start_time": "2022-02-20T06:20:12.648Z"
   },
   {
    "duration": 8,
    "start_time": "2022-02-20T06:20:12.654Z"
   },
   {
    "duration": 47,
    "start_time": "2022-02-20T06:20:12.664Z"
   },
   {
    "duration": 7,
    "start_time": "2022-02-20T06:20:12.713Z"
   },
   {
    "duration": 6,
    "start_time": "2022-02-20T06:20:12.723Z"
   },
   {
    "duration": 9,
    "start_time": "2022-02-20T06:20:12.731Z"
   },
   {
    "duration": 6,
    "start_time": "2022-02-20T06:20:12.743Z"
   },
   {
    "duration": 6,
    "start_time": "2022-02-20T06:20:12.751Z"
   },
   {
    "duration": 10,
    "start_time": "2022-02-20T06:20:12.759Z"
   },
   {
    "duration": 6,
    "start_time": "2022-02-20T06:20:12.772Z"
   },
   {
    "duration": 5,
    "start_time": "2022-02-20T06:20:12.811Z"
   },
   {
    "duration": 6,
    "start_time": "2022-02-20T06:20:12.819Z"
   },
   {
    "duration": 6,
    "start_time": "2022-02-20T06:20:12.827Z"
   },
   {
    "duration": 7,
    "start_time": "2022-02-20T06:20:12.836Z"
   },
   {
    "duration": 6,
    "start_time": "2022-02-20T06:20:12.845Z"
   },
   {
    "duration": 8,
    "start_time": "2022-02-20T06:20:12.854Z"
   },
   {
    "duration": 5,
    "start_time": "2022-02-20T06:20:12.864Z"
   },
   {
    "duration": 40,
    "start_time": "2022-02-20T06:20:12.871Z"
   },
   {
    "duration": 4,
    "start_time": "2022-02-20T06:20:12.916Z"
   },
   {
    "duration": 6,
    "start_time": "2022-02-20T06:20:12.922Z"
   },
   {
    "duration": 5,
    "start_time": "2022-02-20T06:20:12.930Z"
   },
   {
    "duration": 9,
    "start_time": "2022-02-20T06:20:23.370Z"
   },
   {
    "duration": 33,
    "start_time": "2022-02-20T06:20:25.405Z"
   },
   {
    "duration": 36,
    "start_time": "2022-02-20T06:20:35.246Z"
   },
   {
    "duration": 30,
    "start_time": "2022-02-20T06:20:37.031Z"
   },
   {
    "duration": 9,
    "start_time": "2022-02-20T06:23:20.049Z"
   },
   {
    "duration": 31,
    "start_time": "2022-02-20T06:23:22.742Z"
   },
   {
    "duration": 4,
    "start_time": "2022-02-20T06:23:39.735Z"
   },
   {
    "duration": 34,
    "start_time": "2022-02-20T06:23:41.442Z"
   },
   {
    "duration": 4,
    "start_time": "2022-02-20T06:23:48.559Z"
   },
   {
    "duration": 790,
    "start_time": "2022-02-20T06:23:50.220Z"
   },
   {
    "duration": 4,
    "start_time": "2022-02-20T06:24:00.789Z"
   },
   {
    "duration": 21,
    "start_time": "2022-02-20T06:24:00.796Z"
   },
   {
    "duration": 6,
    "start_time": "2022-02-20T06:24:00.820Z"
   },
   {
    "duration": 12,
    "start_time": "2022-02-20T06:24:00.829Z"
   },
   {
    "duration": 10,
    "start_time": "2022-02-20T06:24:00.843Z"
   },
   {
    "duration": 9,
    "start_time": "2022-02-20T06:24:00.855Z"
   },
   {
    "duration": 6,
    "start_time": "2022-02-20T06:24:00.866Z"
   },
   {
    "duration": 7,
    "start_time": "2022-02-20T06:24:00.875Z"
   },
   {
    "duration": 33,
    "start_time": "2022-02-20T06:24:00.886Z"
   },
   {
    "duration": 10,
    "start_time": "2022-02-20T06:24:00.922Z"
   },
   {
    "duration": 15,
    "start_time": "2022-02-20T06:24:00.934Z"
   },
   {
    "duration": 6,
    "start_time": "2022-02-20T06:24:00.952Z"
   },
   {
    "duration": 11,
    "start_time": "2022-02-20T06:24:00.960Z"
   },
   {
    "duration": 10,
    "start_time": "2022-02-20T06:24:00.974Z"
   },
   {
    "duration": 6,
    "start_time": "2022-02-20T06:24:00.987Z"
   },
   {
    "duration": 10,
    "start_time": "2022-02-20T06:24:00.996Z"
   },
   {
    "duration": 13,
    "start_time": "2022-02-20T06:24:01.011Z"
   },
   {
    "duration": 5,
    "start_time": "2022-02-20T06:24:01.027Z"
   },
   {
    "duration": 5,
    "start_time": "2022-02-20T06:24:01.034Z"
   },
   {
    "duration": 5,
    "start_time": "2022-02-20T06:24:01.041Z"
   },
   {
    "duration": 47,
    "start_time": "2022-02-20T06:24:01.049Z"
   },
   {
    "duration": 9,
    "start_time": "2022-02-20T06:24:01.099Z"
   },
   {
    "duration": 18,
    "start_time": "2022-02-20T06:24:01.110Z"
   },
   {
    "duration": 29,
    "start_time": "2022-02-20T06:24:01.131Z"
   },
   {
    "duration": 8,
    "start_time": "2022-02-20T06:24:01.163Z"
   },
   {
    "duration": 6,
    "start_time": "2022-02-20T06:24:01.174Z"
   },
   {
    "duration": 8,
    "start_time": "2022-02-20T06:24:01.185Z"
   },
   {
    "duration": 14,
    "start_time": "2022-02-20T06:24:01.196Z"
   },
   {
    "duration": 718,
    "start_time": "2022-02-20T06:24:11.791Z"
   },
   {
    "duration": 3,
    "start_time": "2022-02-20T06:24:14.936Z"
   },
   {
    "duration": 625,
    "start_time": "2022-02-20T06:24:32.738Z"
   },
   {
    "duration": 3,
    "start_time": "2022-02-20T06:24:35.797Z"
   },
   {
    "duration": 923,
    "start_time": "2022-02-20T06:24:38.598Z"
   },
   {
    "duration": 942,
    "start_time": "2022-02-20T06:24:54.540Z"
   },
   {
    "duration": 859,
    "start_time": "2022-02-20T06:25:02.700Z"
   },
   {
    "duration": 1103,
    "start_time": "2022-02-20T06:25:09.009Z"
   },
   {
    "duration": 243,
    "start_time": "2022-02-20T06:25:10.115Z"
   },
   {
    "duration": 30,
    "start_time": "2022-02-20T06:25:10.361Z"
   },
   {
    "duration": 58,
    "start_time": "2022-02-20T06:25:10.395Z"
   },
   {
    "duration": 6,
    "start_time": "2022-02-20T06:25:10.456Z"
   },
   {
    "duration": 55,
    "start_time": "2022-02-20T06:25:10.465Z"
   },
   {
    "duration": 11,
    "start_time": "2022-02-20T06:25:10.523Z"
   },
   {
    "duration": 41,
    "start_time": "2022-02-20T06:25:10.538Z"
   },
   {
    "duration": 5,
    "start_time": "2022-02-20T06:25:10.581Z"
   },
   {
    "duration": 33,
    "start_time": "2022-02-20T06:25:10.611Z"
   },
   {
    "duration": 252,
    "start_time": "2022-02-20T06:25:16.052Z"
   },
   {
    "duration": 11,
    "start_time": "2022-02-20T06:25:28.024Z"
   },
   {
    "duration": 33,
    "start_time": "2022-02-20T06:25:32.258Z"
   },
   {
    "duration": 9,
    "start_time": "2022-02-20T06:25:36.621Z"
   },
   {
    "duration": 42,
    "start_time": "2022-02-20T06:25:39.155Z"
   },
   {
    "duration": 9,
    "start_time": "2022-02-20T06:25:40.873Z"
   },
   {
    "duration": 30,
    "start_time": "2022-02-20T06:25:44.765Z"
   },
   {
    "duration": 12,
    "start_time": "2022-02-20T06:25:50.772Z"
   },
   {
    "duration": 10,
    "start_time": "2022-02-20T06:25:53.719Z"
   },
   {
    "duration": 31,
    "start_time": "2022-02-20T06:25:55.946Z"
   },
   {
    "duration": 51,
    "start_time": "2022-02-20T06:25:59.147Z"
   },
   {
    "duration": 34,
    "start_time": "2022-02-20T06:26:01.768Z"
   },
   {
    "duration": 51,
    "start_time": "2022-02-20T06:26:05.696Z"
   },
   {
    "duration": 3,
    "start_time": "2022-02-20T06:26:25.721Z"
   },
   {
    "duration": 272,
    "start_time": "2022-02-20T06:26:25.727Z"
   },
   {
    "duration": 23,
    "start_time": "2022-02-20T06:26:26.002Z"
   },
   {
    "duration": 35,
    "start_time": "2022-02-20T06:26:26.029Z"
   },
   {
    "duration": 6,
    "start_time": "2022-02-20T06:26:26.067Z"
   },
   {
    "duration": 68,
    "start_time": "2022-02-20T06:26:26.075Z"
   },
   {
    "duration": 6,
    "start_time": "2022-02-20T06:26:26.146Z"
   },
   {
    "duration": 62,
    "start_time": "2022-02-20T06:26:26.157Z"
   },
   {
    "duration": 9,
    "start_time": "2022-02-20T06:26:26.223Z"
   },
   {
    "duration": 46,
    "start_time": "2022-02-20T06:26:26.235Z"
   },
   {
    "duration": 4,
    "start_time": "2022-02-20T06:26:26.316Z"
   },
   {
    "duration": 4,
    "start_time": "2022-02-20T06:26:26.322Z"
   },
   {
    "duration": 8,
    "start_time": "2022-02-20T06:26:26.329Z"
   },
   {
    "duration": 5,
    "start_time": "2022-02-20T06:26:26.340Z"
   },
   {
    "duration": 5,
    "start_time": "2022-02-20T06:26:26.348Z"
   },
   {
    "duration": 3,
    "start_time": "2022-02-20T06:26:26.356Z"
   },
   {
    "duration": 7,
    "start_time": "2022-02-20T06:26:26.361Z"
   },
   {
    "duration": 41,
    "start_time": "2022-02-20T06:26:26.370Z"
   },
   {
    "duration": 7,
    "start_time": "2022-02-20T06:26:26.413Z"
   },
   {
    "duration": 7,
    "start_time": "2022-02-20T06:26:26.423Z"
   },
   {
    "duration": 12,
    "start_time": "2022-02-20T06:26:26.433Z"
   },
   {
    "duration": 9,
    "start_time": "2022-02-20T06:26:26.448Z"
   },
   {
    "duration": 3,
    "start_time": "2022-02-20T06:26:26.463Z"
   },
   {
    "duration": 4,
    "start_time": "2022-02-20T06:26:26.470Z"
   },
   {
    "duration": 9,
    "start_time": "2022-02-20T06:26:26.476Z"
   },
   {
    "duration": 3,
    "start_time": "2022-02-20T06:26:26.511Z"
   },
   {
    "duration": 5,
    "start_time": "2022-02-20T06:26:26.516Z"
   },
   {
    "duration": 6,
    "start_time": "2022-02-20T06:26:26.523Z"
   },
   {
    "duration": 6,
    "start_time": "2022-02-20T06:26:26.532Z"
   },
   {
    "duration": 10,
    "start_time": "2022-02-20T06:26:26.541Z"
   },
   {
    "duration": 12,
    "start_time": "2022-02-20T06:26:26.554Z"
   },
   {
    "duration": 43,
    "start_time": "2022-02-20T06:26:26.569Z"
   },
   {
    "duration": 9,
    "start_time": "2022-02-20T06:26:26.614Z"
   },
   {
    "duration": 5,
    "start_time": "2022-02-20T06:26:26.625Z"
   },
   {
    "duration": 6,
    "start_time": "2022-02-20T06:26:26.633Z"
   },
   {
    "duration": 9,
    "start_time": "2022-02-20T06:26:26.641Z"
   },
   {
    "duration": 5,
    "start_time": "2022-02-20T06:26:26.652Z"
   },
   {
    "duration": 3,
    "start_time": "2022-02-20T06:26:26.660Z"
   },
   {
    "duration": 26,
    "start_time": "2022-02-20T06:28:59.877Z"
   },
   {
    "duration": 31,
    "start_time": "2022-02-20T06:29:04.463Z"
   },
   {
    "duration": 22,
    "start_time": "2022-02-20T06:29:12.087Z"
   },
   {
    "duration": 3612,
    "start_time": "2022-02-20T06:29:24.912Z"
   },
   {
    "duration": 30,
    "start_time": "2022-02-20T06:29:28.894Z"
   },
   {
    "duration": 254,
    "start_time": "2022-02-20T06:30:59.164Z"
   },
   {
    "duration": 1534,
    "start_time": "2022-02-20T06:35:36.065Z"
   },
   {
    "duration": 816,
    "start_time": "2022-02-20T06:36:33.455Z"
   },
   {
    "duration": 32,
    "start_time": "2022-02-20T06:45:01.698Z"
   },
   {
    "duration": 34,
    "start_time": "2022-02-20T06:45:04.547Z"
   },
   {
    "duration": 461,
    "start_time": "2022-02-20T06:45:38.725Z"
   },
   {
    "duration": 79,
    "start_time": "2022-02-20T06:45:46.739Z"
   },
   {
    "duration": 94,
    "start_time": "2022-02-20T06:47:04.463Z"
   },
   {
    "duration": 85,
    "start_time": "2022-02-20T06:47:10.037Z"
   },
   {
    "duration": 10,
    "start_time": "2022-02-20T06:48:26.385Z"
   },
   {
    "duration": 7,
    "start_time": "2022-02-20T06:50:00.038Z"
   },
   {
    "duration": 14,
    "start_time": "2022-02-20T06:50:08.033Z"
   },
   {
    "duration": 44,
    "start_time": "2022-02-20T06:50:46.808Z"
   },
   {
    "duration": 336,
    "start_time": "2022-02-20T06:50:56.189Z"
   },
   {
    "duration": 15,
    "start_time": "2022-02-20T06:51:46.971Z"
   },
   {
    "duration": 23,
    "start_time": "2022-02-20T07:04:07.439Z"
   },
   {
    "duration": 5,
    "start_time": "2022-02-20T07:04:44.015Z"
   },
   {
    "duration": 23,
    "start_time": "2022-02-20T07:04:45.640Z"
   },
   {
    "duration": 10,
    "start_time": "2022-02-20T07:05:40.989Z"
   },
   {
    "duration": 14,
    "start_time": "2022-02-20T07:06:02.542Z"
   },
   {
    "duration": 45,
    "start_time": "2022-02-20T07:09:08.287Z"
   },
   {
    "duration": 323,
    "start_time": "2022-02-20T07:14:39.066Z"
   },
   {
    "duration": 17,
    "start_time": "2022-02-20T07:14:45.043Z"
   },
   {
    "duration": 858,
    "start_time": "2022-02-20T07:14:54.946Z"
   },
   {
    "duration": 16,
    "start_time": "2022-02-20T07:15:03.721Z"
   },
   {
    "duration": 6,
    "start_time": "2022-02-20T07:16:55.569Z"
   },
   {
    "duration": 6,
    "start_time": "2022-02-20T07:17:00.996Z"
   },
   {
    "duration": 5,
    "start_time": "2022-02-20T07:17:14.801Z"
   },
   {
    "duration": 6,
    "start_time": "2022-02-20T07:17:21.882Z"
   },
   {
    "duration": 16,
    "start_time": "2022-02-20T07:17:26.880Z"
   },
   {
    "duration": 6,
    "start_time": "2022-02-20T07:17:52.873Z"
   },
   {
    "duration": 17,
    "start_time": "2022-02-20T07:17:57.104Z"
   },
   {
    "duration": 5,
    "start_time": "2022-02-20T07:31:57.531Z"
   },
   {
    "duration": 4,
    "start_time": "2022-02-20T07:31:59.314Z"
   },
   {
    "duration": 397,
    "start_time": "2022-02-20T07:32:20.769Z"
   },
   {
    "duration": 380,
    "start_time": "2022-02-20T07:32:25.929Z"
   },
   {
    "duration": 335,
    "start_time": "2022-02-20T07:33:23.230Z"
   },
   {
    "duration": 1601,
    "start_time": "2022-02-20T07:33:40.136Z"
   },
   {
    "duration": 119,
    "start_time": "2022-02-20T07:36:37.105Z"
   },
   {
    "duration": 5,
    "start_time": "2022-02-20T07:36:42.818Z"
   },
   {
    "duration": 14,
    "start_time": "2022-02-20T07:43:40.865Z"
   },
   {
    "duration": 44,
    "start_time": "2022-02-20T07:43:49.956Z"
   },
   {
    "duration": 16,
    "start_time": "2022-02-20T07:44:03.102Z"
   },
   {
    "duration": 16,
    "start_time": "2022-02-20T07:44:13.886Z"
   },
   {
    "duration": 7,
    "start_time": "2022-02-20T07:45:37.040Z"
   },
   {
    "duration": 22,
    "start_time": "2022-02-20T07:45:39.568Z"
   },
   {
    "duration": 22,
    "start_time": "2022-02-20T07:46:26.719Z"
   },
   {
    "duration": 20,
    "start_time": "2022-02-20T07:47:01.874Z"
   },
   {
    "duration": 24,
    "start_time": "2022-02-20T07:47:11.671Z"
   },
   {
    "duration": 18,
    "start_time": "2022-02-20T07:47:27.134Z"
   },
   {
    "duration": 19,
    "start_time": "2022-02-20T07:47:51.473Z"
   },
   {
    "duration": 182,
    "start_time": "2022-02-20T07:51:41.497Z"
   },
   {
    "duration": 12,
    "start_time": "2022-02-20T07:51:49.498Z"
   },
   {
    "duration": 15,
    "start_time": "2022-02-20T07:55:44.280Z"
   },
   {
    "duration": 33,
    "start_time": "2022-02-20T07:55:52.432Z"
   },
   {
    "duration": 18,
    "start_time": "2022-02-20T07:56:05.327Z"
   },
   {
    "duration": 15,
    "start_time": "2022-02-20T07:56:32.926Z"
   },
   {
    "duration": 34,
    "start_time": "2022-02-20T07:56:37.236Z"
   },
   {
    "duration": 13,
    "start_time": "2022-02-20T07:56:52.666Z"
   },
   {
    "duration": 158,
    "start_time": "2022-02-20T09:26:23.855Z"
   },
   {
    "duration": 6,
    "start_time": "2022-02-20T09:26:31.295Z"
   },
   {
    "duration": 26,
    "start_time": "2022-02-20T09:28:02.275Z"
   },
   {
    "duration": 19,
    "start_time": "2022-02-20T09:33:44.817Z"
   },
   {
    "duration": 18,
    "start_time": "2022-02-20T09:38:25.778Z"
   },
   {
    "duration": 28,
    "start_time": "2022-02-20T09:38:29.009Z"
   },
   {
    "duration": 585,
    "start_time": "2022-02-20T09:51:25.188Z"
   },
   {
    "duration": 349,
    "start_time": "2022-02-20T09:52:07.449Z"
   },
   {
    "duration": 375,
    "start_time": "2022-02-20T09:52:42.797Z"
   },
   {
    "duration": 321,
    "start_time": "2022-02-20T09:57:18.140Z"
   },
   {
    "duration": 355,
    "start_time": "2022-02-20T09:57:54.770Z"
   },
   {
    "duration": 29,
    "start_time": "2022-02-20T09:58:17.403Z"
   },
   {
    "duration": 13,
    "start_time": "2022-02-20T09:58:24.911Z"
   },
   {
    "duration": 30,
    "start_time": "2022-02-20T09:58:40.199Z"
   },
   {
    "duration": 14,
    "start_time": "2022-02-20T09:58:43.929Z"
   },
   {
    "duration": 435,
    "start_time": "2022-02-20T09:59:33.122Z"
   },
   {
    "duration": 12,
    "start_time": "2022-02-20T09:59:44.390Z"
   },
   {
    "duration": 7,
    "start_time": "2022-02-20T09:59:48.726Z"
   },
   {
    "duration": 12,
    "start_time": "2022-02-20T09:59:57.300Z"
   },
   {
    "duration": 7,
    "start_time": "2022-02-20T10:00:00.891Z"
   },
   {
    "duration": 7,
    "start_time": "2022-02-20T10:02:00.532Z"
   },
   {
    "duration": 10,
    "start_time": "2022-02-20T10:02:04.714Z"
   },
   {
    "duration": 10,
    "start_time": "2022-02-20T10:02:24.510Z"
   },
   {
    "duration": 6,
    "start_time": "2022-02-20T10:18:23.529Z"
   },
   {
    "duration": 358,
    "start_time": "2022-02-20T10:18:45.439Z"
   },
   {
    "duration": 331,
    "start_time": "2022-02-20T10:18:49.130Z"
   },
   {
    "duration": 30,
    "start_time": "2022-02-20T10:18:54.416Z"
   },
   {
    "duration": 32,
    "start_time": "2022-02-20T10:19:01.130Z"
   },
   {
    "duration": 70,
    "start_time": "2022-02-20T10:19:39.424Z"
   },
   {
    "duration": 31,
    "start_time": "2022-02-20T10:19:59.173Z"
   },
   {
    "duration": 1124,
    "start_time": "2022-02-20T10:20:19.889Z"
   },
   {
    "duration": 209,
    "start_time": "2022-02-20T10:20:22.843Z"
   },
   {
    "duration": 31,
    "start_time": "2022-02-20T10:20:25.065Z"
   },
   {
    "duration": 37,
    "start_time": "2022-02-20T10:20:31.040Z"
   },
   {
    "duration": 6,
    "start_time": "2022-02-20T10:20:39.105Z"
   },
   {
    "duration": 5,
    "start_time": "2022-02-20T10:21:21.703Z"
   },
   {
    "duration": 27,
    "start_time": "2022-02-20T10:21:25.377Z"
   },
   {
    "duration": 7,
    "start_time": "2022-02-20T10:21:33.298Z"
   },
   {
    "duration": 31,
    "start_time": "2022-02-20T10:21:35.961Z"
   },
   {
    "duration": 35,
    "start_time": "2022-02-20T10:21:52.072Z"
   },
   {
    "duration": 32,
    "start_time": "2022-02-20T10:24:16.205Z"
   },
   {
    "duration": 654,
    "start_time": "2022-02-20T10:25:35.248Z"
   },
   {
    "duration": 40,
    "start_time": "2022-02-20T10:29:45.338Z"
   },
   {
    "duration": 33,
    "start_time": "2022-02-20T10:29:49.895Z"
   },
   {
    "duration": 85,
    "start_time": "2022-02-20T10:29:56.083Z"
   },
   {
    "duration": 107,
    "start_time": "2022-02-20T10:30:05.852Z"
   },
   {
    "duration": 87,
    "start_time": "2022-02-20T10:30:11.537Z"
   },
   {
    "duration": 16,
    "start_time": "2022-02-20T10:30:37.879Z"
   },
   {
    "duration": 16,
    "start_time": "2022-02-20T10:31:57.664Z"
   },
   {
    "duration": 1540,
    "start_time": "2022-02-20T10:40:39.111Z"
   },
   {
    "duration": 792,
    "start_time": "2022-02-20T10:40:42.799Z"
   },
   {
    "duration": 4,
    "start_time": "2022-02-20T10:41:00.389Z"
   },
   {
    "duration": 23,
    "start_time": "2022-02-20T10:41:10.289Z"
   },
   {
    "duration": 15,
    "start_time": "2022-02-20T10:41:17.033Z"
   },
   {
    "duration": 63,
    "start_time": "2022-02-20T10:43:37.374Z"
   },
   {
    "duration": 16,
    "start_time": "2022-02-20T10:43:43.517Z"
   },
   {
    "duration": 54,
    "start_time": "2022-02-20T10:51:17.020Z"
   },
   {
    "duration": 62,
    "start_time": "2022-02-20T10:52:08.150Z"
   },
   {
    "duration": 14,
    "start_time": "2022-02-20T10:52:11.802Z"
   },
   {
    "duration": 16,
    "start_time": "2022-02-20T10:53:54.409Z"
   },
   {
    "duration": 21,
    "start_time": "2022-02-20T10:53:58.323Z"
   },
   {
    "duration": 21,
    "start_time": "2022-02-20T10:54:42.989Z"
   },
   {
    "duration": 17,
    "start_time": "2022-02-20T10:54:49.695Z"
   },
   {
    "duration": 15,
    "start_time": "2022-02-20T10:54:53.912Z"
   },
   {
    "duration": 45,
    "start_time": "2022-02-20T10:55:20.680Z"
   },
   {
    "duration": 16,
    "start_time": "2022-02-20T10:55:33.894Z"
   },
   {
    "duration": 6,
    "start_time": "2022-02-20T10:59:03.851Z"
   },
   {
    "duration": 26,
    "start_time": "2022-02-20T10:59:10.748Z"
   },
   {
    "duration": 25,
    "start_time": "2022-02-20T10:59:14.001Z"
   },
   {
    "duration": 28,
    "start_time": "2022-02-20T10:59:17.348Z"
   },
   {
    "duration": 23,
    "start_time": "2022-02-20T10:59:22.717Z"
   },
   {
    "duration": 21,
    "start_time": "2022-02-20T10:59:25.466Z"
   },
   {
    "duration": 16,
    "start_time": "2022-02-20T10:59:36.109Z"
   },
   {
    "duration": 23,
    "start_time": "2022-02-20T11:02:12.877Z"
   },
   {
    "duration": 23,
    "start_time": "2022-02-20T11:02:22.740Z"
   },
   {
    "duration": 77,
    "start_time": "2022-02-20T11:02:46.513Z"
   },
   {
    "duration": 202,
    "start_time": "2022-02-20T11:03:34.828Z"
   },
   {
    "duration": 93,
    "start_time": "2022-02-20T11:03:38.672Z"
   },
   {
    "duration": 21,
    "start_time": "2022-02-20T11:03:45.262Z"
   },
   {
    "duration": 15,
    "start_time": "2022-02-20T11:03:47.628Z"
   },
   {
    "duration": 5,
    "start_time": "2022-02-20T11:07:23.131Z"
   },
   {
    "duration": 29,
    "start_time": "2022-02-20T11:07:30.380Z"
   },
   {
    "duration": 26,
    "start_time": "2022-02-20T11:07:35.545Z"
   },
   {
    "duration": 27,
    "start_time": "2022-02-20T11:07:44.668Z"
   },
   {
    "duration": 22,
    "start_time": "2022-02-20T11:07:49.768Z"
   },
   {
    "duration": 18,
    "start_time": "2022-02-20T11:09:57.469Z"
   },
   {
    "duration": 7,
    "start_time": "2022-02-20T11:10:00.363Z"
   },
   {
    "duration": 11,
    "start_time": "2022-02-20T11:10:36.457Z"
   },
   {
    "duration": 9,
    "start_time": "2022-02-20T11:10:39.393Z"
   },
   {
    "duration": 581,
    "start_time": "2022-03-01T17:43:07.518Z"
   },
   {
    "duration": 130,
    "start_time": "2022-03-01T17:43:08.101Z"
   },
   {
    "duration": 17,
    "start_time": "2022-03-01T17:43:08.234Z"
   },
   {
    "duration": 27,
    "start_time": "2022-03-01T17:43:08.253Z"
   },
   {
    "duration": 7,
    "start_time": "2022-03-01T17:43:08.282Z"
   },
   {
    "duration": 32,
    "start_time": "2022-03-01T17:43:08.291Z"
   },
   {
    "duration": 14,
    "start_time": "2022-03-01T17:43:08.325Z"
   },
   {
    "duration": 30,
    "start_time": "2022-03-01T17:43:08.341Z"
   },
   {
    "duration": 31,
    "start_time": "2022-03-01T17:43:08.373Z"
   },
   {
    "duration": 34,
    "start_time": "2022-03-01T17:43:08.406Z"
   },
   {
    "duration": 57,
    "start_time": "2022-03-01T17:43:08.442Z"
   },
   {
    "duration": 87,
    "start_time": "2022-03-01T17:43:08.501Z"
   },
   {
    "duration": 62,
    "start_time": "2022-03-01T17:43:08.590Z"
   },
   {
    "duration": 9,
    "start_time": "2022-03-01T17:43:08.653Z"
   },
   {
    "duration": 3,
    "start_time": "2022-03-01T17:43:08.664Z"
   },
   {
    "duration": 38,
    "start_time": "2022-03-01T17:43:08.669Z"
   },
   {
    "duration": 30,
    "start_time": "2022-03-01T17:43:08.709Z"
   },
   {
    "duration": 17,
    "start_time": "2022-03-01T17:43:08.742Z"
   },
   {
    "duration": 13,
    "start_time": "2022-03-01T17:43:08.761Z"
   },
   {
    "duration": 4,
    "start_time": "2022-03-01T17:43:08.776Z"
   },
   {
    "duration": 29,
    "start_time": "2022-03-01T17:43:08.782Z"
   },
   {
    "duration": 36,
    "start_time": "2022-03-01T17:43:08.812Z"
   },
   {
    "duration": 20,
    "start_time": "2022-03-01T17:43:08.851Z"
   },
   {
    "duration": 13,
    "start_time": "2022-03-01T17:43:08.873Z"
   },
   {
    "duration": 17,
    "start_time": "2022-03-01T17:43:08.887Z"
   },
   {
    "duration": 35,
    "start_time": "2022-03-01T17:43:08.906Z"
   },
   {
    "duration": 8,
    "start_time": "2022-03-01T17:43:08.943Z"
   },
   {
    "duration": 13,
    "start_time": "2022-03-01T17:43:08.953Z"
   },
   {
    "duration": 10,
    "start_time": "2022-03-01T17:43:08.967Z"
   },
   {
    "duration": 4,
    "start_time": "2022-03-01T17:43:08.978Z"
   },
   {
    "duration": 25,
    "start_time": "2022-03-01T17:43:08.984Z"
   },
   {
    "duration": 35,
    "start_time": "2022-03-01T17:43:09.011Z"
   },
   {
    "duration": 18,
    "start_time": "2022-03-01T17:43:09.047Z"
   },
   {
    "duration": 12,
    "start_time": "2022-03-01T17:43:09.066Z"
   },
   {
    "duration": 7,
    "start_time": "2022-03-01T17:43:09.080Z"
   },
   {
    "duration": 4,
    "start_time": "2022-03-01T17:43:09.089Z"
   },
   {
    "duration": 6,
    "start_time": "2022-03-01T17:43:09.095Z"
   },
   {
    "duration": 4,
    "start_time": "2022-03-01T17:43:09.139Z"
   },
   {
    "duration": 6,
    "start_time": "2022-03-01T17:43:09.145Z"
   },
   {
    "duration": 569,
    "start_time": "2022-03-01T17:54:18.235Z"
   },
   {
    "duration": 143,
    "start_time": "2022-03-01T17:54:18.805Z"
   },
   {
    "duration": 16,
    "start_time": "2022-03-01T17:54:18.950Z"
   },
   {
    "duration": 31,
    "start_time": "2022-03-01T17:54:18.967Z"
   },
   {
    "duration": 13,
    "start_time": "2022-03-01T17:54:18.999Z"
   },
   {
    "duration": 32,
    "start_time": "2022-03-01T17:54:19.014Z"
   },
   {
    "duration": 10,
    "start_time": "2022-03-01T17:54:19.048Z"
   },
   {
    "duration": 25,
    "start_time": "2022-03-01T17:54:19.060Z"
   },
   {
    "duration": 30,
    "start_time": "2022-03-01T17:54:19.088Z"
   },
   {
    "duration": 31,
    "start_time": "2022-03-01T17:54:19.120Z"
   },
   {
    "duration": 55,
    "start_time": "2022-03-01T17:54:19.153Z"
   },
   {
    "duration": 88,
    "start_time": "2022-03-01T17:54:19.210Z"
   },
   {
    "duration": 71,
    "start_time": "2022-03-01T17:54:19.299Z"
   },
   {
    "duration": 11,
    "start_time": "2022-03-01T17:54:19.372Z"
   },
   {
    "duration": 3,
    "start_time": "2022-03-01T17:54:19.384Z"
   },
   {
    "duration": 54,
    "start_time": "2022-03-01T17:54:19.388Z"
   },
   {
    "duration": 9,
    "start_time": "2022-03-01T17:54:19.443Z"
   },
   {
    "duration": 10,
    "start_time": "2022-03-01T17:54:19.454Z"
   },
   {
    "duration": 10,
    "start_time": "2022-03-01T17:54:19.465Z"
   },
   {
    "duration": 3,
    "start_time": "2022-03-01T17:54:19.477Z"
   },
   {
    "duration": 22,
    "start_time": "2022-03-01T17:54:19.482Z"
   },
   {
    "duration": 39,
    "start_time": "2022-03-01T17:54:19.506Z"
   },
   {
    "duration": 22,
    "start_time": "2022-03-01T17:54:19.547Z"
   },
   {
    "duration": 14,
    "start_time": "2022-03-01T17:54:19.570Z"
   },
   {
    "duration": 15,
    "start_time": "2022-03-01T17:54:19.585Z"
   },
   {
    "duration": 38,
    "start_time": "2022-03-01T17:54:19.602Z"
   },
   {
    "duration": 8,
    "start_time": "2022-03-01T17:54:19.643Z"
   },
   {
    "duration": 14,
    "start_time": "2022-03-01T17:54:19.653Z"
   },
   {
    "duration": 9,
    "start_time": "2022-03-01T17:54:19.668Z"
   },
   {
    "duration": 3,
    "start_time": "2022-03-01T17:54:19.679Z"
   },
   {
    "duration": 24,
    "start_time": "2022-03-01T17:54:19.684Z"
   },
   {
    "duration": 36,
    "start_time": "2022-03-01T17:54:19.709Z"
   },
   {
    "duration": 15,
    "start_time": "2022-03-01T17:54:19.747Z"
   },
   {
    "duration": 11,
    "start_time": "2022-03-01T17:54:19.764Z"
   },
   {
    "duration": 7,
    "start_time": "2022-03-01T17:54:19.777Z"
   },
   {
    "duration": 5,
    "start_time": "2022-03-01T17:54:19.785Z"
   },
   {
    "duration": 8,
    "start_time": "2022-03-01T17:54:19.791Z"
   },
   {
    "duration": 38,
    "start_time": "2022-03-01T17:54:19.801Z"
   },
   {
    "duration": 6,
    "start_time": "2022-03-01T17:54:19.840Z"
   },
   {
    "duration": 169,
    "start_time": "2022-03-02T11:53:16.665Z"
   },
   {
    "duration": 557,
    "start_time": "2022-03-03T08:22:24.021Z"
   },
   {
    "duration": 130,
    "start_time": "2022-03-03T08:22:24.580Z"
   },
   {
    "duration": 22,
    "start_time": "2022-03-03T08:22:24.712Z"
   },
   {
    "duration": 25,
    "start_time": "2022-03-03T08:22:24.736Z"
   },
   {
    "duration": 4,
    "start_time": "2022-03-03T08:22:24.763Z"
   },
   {
    "duration": 20,
    "start_time": "2022-03-03T08:22:24.769Z"
   },
   {
    "duration": 5,
    "start_time": "2022-03-03T08:22:24.791Z"
   },
   {
    "duration": 55,
    "start_time": "2022-03-03T08:22:24.798Z"
   },
   {
    "duration": 26,
    "start_time": "2022-03-03T08:22:24.855Z"
   },
   {
    "duration": 21,
    "start_time": "2022-03-03T08:22:24.883Z"
   },
   {
    "duration": 77,
    "start_time": "2022-03-03T08:22:24.906Z"
   },
   {
    "duration": 82,
    "start_time": "2022-03-03T08:22:24.984Z"
   },
   {
    "duration": 52,
    "start_time": "2022-03-03T08:22:25.067Z"
   },
   {
    "duration": 17,
    "start_time": "2022-03-03T08:22:25.121Z"
   },
   {
    "duration": 3,
    "start_time": "2022-03-03T08:22:25.140Z"
   },
   {
    "duration": 43,
    "start_time": "2022-03-03T08:22:25.144Z"
   },
   {
    "duration": 9,
    "start_time": "2022-03-03T08:22:25.188Z"
   },
   {
    "duration": 33,
    "start_time": "2022-03-03T08:22:25.199Z"
   },
   {
    "duration": 11,
    "start_time": "2022-03-03T08:22:25.234Z"
   },
   {
    "duration": 3,
    "start_time": "2022-03-03T08:22:25.247Z"
   },
   {
    "duration": 20,
    "start_time": "2022-03-03T08:22:25.252Z"
   },
   {
    "duration": 13,
    "start_time": "2022-03-03T08:22:25.274Z"
   },
   {
    "duration": 14,
    "start_time": "2022-03-03T08:22:25.291Z"
   },
   {
    "duration": 39,
    "start_time": "2022-03-03T08:22:25.307Z"
   },
   {
    "duration": 15,
    "start_time": "2022-03-03T08:22:25.348Z"
   },
   {
    "duration": 14,
    "start_time": "2022-03-03T08:22:25.364Z"
   },
   {
    "duration": 8,
    "start_time": "2022-03-03T08:22:25.380Z"
   },
   {
    "duration": 44,
    "start_time": "2022-03-03T08:22:25.389Z"
   },
   {
    "duration": 9,
    "start_time": "2022-03-03T08:22:25.435Z"
   },
   {
    "duration": 4,
    "start_time": "2022-03-03T08:22:25.445Z"
   },
   {
    "duration": 20,
    "start_time": "2022-03-03T08:22:25.451Z"
   },
   {
    "duration": 12,
    "start_time": "2022-03-03T08:22:25.473Z"
   },
   {
    "duration": 18,
    "start_time": "2022-03-03T08:22:25.487Z"
   },
   {
    "duration": 13,
    "start_time": "2022-03-03T08:22:25.533Z"
   },
   {
    "duration": 7,
    "start_time": "2022-03-03T08:22:25.548Z"
   },
   {
    "duration": 4,
    "start_time": "2022-03-03T08:22:25.557Z"
   },
   {
    "duration": 8,
    "start_time": "2022-03-03T08:22:25.562Z"
   },
   {
    "duration": 4,
    "start_time": "2022-03-03T08:22:25.571Z"
   },
   {
    "duration": 7,
    "start_time": "2022-03-03T08:22:25.577Z"
   },
   {
    "duration": 23,
    "start_time": "2022-03-03T08:22:59.214Z"
   },
   {
    "duration": 23,
    "start_time": "2022-03-03T08:23:03.095Z"
   },
   {
    "duration": 21,
    "start_time": "2022-03-03T08:24:16.085Z"
   },
   {
    "duration": 21,
    "start_time": "2022-03-03T08:24:20.453Z"
   },
   {
    "duration": 21,
    "start_time": "2022-03-03T08:25:44.725Z"
   },
   {
    "duration": 4,
    "start_time": "2022-03-03T08:26:21.585Z"
   },
   {
    "duration": 13,
    "start_time": "2022-03-03T08:26:25.231Z"
   },
   {
    "duration": 200,
    "start_time": "2022-03-03T08:29:33.425Z"
   },
   {
    "duration": 170,
    "start_time": "2022-03-03T08:35:17.866Z"
   },
   {
    "duration": 130,
    "start_time": "2022-03-03T08:35:28.725Z"
   },
   {
    "duration": 297,
    "start_time": "2022-03-04T09:19:17.145Z"
   },
   {
    "duration": 534,
    "start_time": "2022-03-04T09:19:25.535Z"
   },
   {
    "duration": 134,
    "start_time": "2022-03-04T09:19:26.070Z"
   },
   {
    "duration": 15,
    "start_time": "2022-03-04T09:19:26.206Z"
   },
   {
    "duration": 22,
    "start_time": "2022-03-04T09:19:26.222Z"
   },
   {
    "duration": 3,
    "start_time": "2022-03-04T09:19:26.246Z"
   },
   {
    "duration": 17,
    "start_time": "2022-03-04T09:19:26.250Z"
   },
   {
    "duration": 3,
    "start_time": "2022-03-04T09:19:26.268Z"
   },
   {
    "duration": 46,
    "start_time": "2022-03-04T09:19:26.273Z"
   },
   {
    "duration": 273,
    "start_time": "2022-03-04T09:19:26.321Z"
   },
   {
    "duration": 14,
    "start_time": "2022-03-04T09:19:26.583Z"
   },
   {
    "duration": 6,
    "start_time": "2022-03-04T09:19:26.591Z"
   },
   {
    "duration": -1,
    "start_time": "2022-03-04T09:19:26.600Z"
   },
   {
    "duration": -95,
    "start_time": "2022-03-04T09:19:26.695Z"
   },
   {
    "duration": -101,
    "start_time": "2022-03-04T09:19:26.702Z"
   },
   {
    "duration": -110,
    "start_time": "2022-03-04T09:19:26.711Z"
   },
   {
    "duration": -115,
    "start_time": "2022-03-04T09:19:26.717Z"
   },
   {
    "duration": -122,
    "start_time": "2022-03-04T09:19:26.725Z"
   },
   {
    "duration": -127,
    "start_time": "2022-03-04T09:19:26.731Z"
   },
   {
    "duration": -147,
    "start_time": "2022-03-04T09:19:26.752Z"
   },
   {
    "duration": -155,
    "start_time": "2022-03-04T09:19:26.761Z"
   },
   {
    "duration": -160,
    "start_time": "2022-03-04T09:19:26.767Z"
   },
   {
    "duration": -166,
    "start_time": "2022-03-04T09:19:26.774Z"
   },
   {
    "duration": -172,
    "start_time": "2022-03-04T09:19:26.781Z"
   },
   {
    "duration": -272,
    "start_time": "2022-03-04T09:19:26.881Z"
   },
   {
    "duration": -278,
    "start_time": "2022-03-04T09:19:26.888Z"
   },
   {
    "duration": -286,
    "start_time": "2022-03-04T09:19:26.897Z"
   },
   {
    "duration": -292,
    "start_time": "2022-03-04T09:19:26.904Z"
   },
   {
    "duration": -300,
    "start_time": "2022-03-04T09:19:26.912Z"
   },
   {
    "duration": -316,
    "start_time": "2022-03-04T09:19:26.929Z"
   },
   {
    "duration": -321,
    "start_time": "2022-03-04T09:19:26.935Z"
   },
   {
    "duration": -326,
    "start_time": "2022-03-04T09:19:26.941Z"
   },
   {
    "duration": -330,
    "start_time": "2022-03-04T09:19:26.947Z"
   },
   {
    "duration": -336,
    "start_time": "2022-03-04T09:19:26.953Z"
   },
   {
    "duration": -353,
    "start_time": "2022-03-04T09:19:26.971Z"
   },
   {
    "duration": -359,
    "start_time": "2022-03-04T09:19:26.978Z"
   },
   {
    "duration": -366,
    "start_time": "2022-03-04T09:19:26.986Z"
   },
   {
    "duration": -372,
    "start_time": "2022-03-04T09:19:26.993Z"
   },
   {
    "duration": -380,
    "start_time": "2022-03-04T09:19:27.002Z"
   },
   {
    "duration": -387,
    "start_time": "2022-03-04T09:19:27.010Z"
   },
   {
    "duration": 261,
    "start_time": "2022-03-04T09:21:47.487Z"
   },
   {
    "duration": 15,
    "start_time": "2022-03-04T09:21:58.996Z"
   },
   {
    "duration": 24,
    "start_time": "2022-03-04T09:22:29.246Z"
   },
   {
    "duration": 24,
    "start_time": "2022-03-04T09:24:25.674Z"
   },
   {
    "duration": 15,
    "start_time": "2022-03-04T09:25:37.944Z"
   },
   {
    "duration": 14,
    "start_time": "2022-03-04T09:28:34.477Z"
   },
   {
    "duration": 16,
    "start_time": "2022-03-04T09:29:47.075Z"
   },
   {
    "duration": 9,
    "start_time": "2022-03-04T09:49:10.254Z"
   },
   {
    "duration": 277,
    "start_time": "2022-03-04T09:49:49.864Z"
   },
   {
    "duration": 39,
    "start_time": "2022-03-04T09:50:40.255Z"
   },
   {
    "duration": 3,
    "start_time": "2022-03-04T10:09:51.358Z"
   },
   {
    "duration": 23,
    "start_time": "2022-03-04T10:19:16.624Z"
   },
   {
    "duration": 23,
    "start_time": "2022-03-04T10:24:38.267Z"
   },
   {
    "duration": 29,
    "start_time": "2022-03-04T10:24:47.987Z"
   },
   {
    "duration": 26,
    "start_time": "2022-03-04T10:25:37.052Z"
   },
   {
    "duration": 14,
    "start_time": "2022-03-04T10:37:57.934Z"
   },
   {
    "duration": 27,
    "start_time": "2022-03-04T10:39:28.423Z"
   },
   {
    "duration": -185,
    "start_time": "2022-03-04T10:40:53.174Z"
   },
   {
    "duration": 7490,
    "start_time": "2022-03-04T10:41:33.030Z"
   },
   {
    "duration": 7252,
    "start_time": "2022-03-04T10:41:44.244Z"
   },
   {
    "duration": 7120,
    "start_time": "2022-03-04T10:42:06.194Z"
   },
   {
    "duration": 6221,
    "start_time": "2022-03-04T10:42:36.496Z"
   },
   {
    "duration": 6373,
    "start_time": "2022-03-04T10:44:12.703Z"
   },
   {
    "duration": 6548,
    "start_time": "2022-03-04T10:45:56.595Z"
   },
   {
    "duration": 6449,
    "start_time": "2022-03-04T10:46:13.091Z"
   },
   {
    "duration": 6400,
    "start_time": "2022-03-04T10:46:24.715Z"
   },
   {
    "duration": 26,
    "start_time": "2022-03-04T10:46:59.318Z"
   },
   {
    "duration": 27,
    "start_time": "2022-03-04T10:47:14.269Z"
   },
   {
    "duration": 19,
    "start_time": "2022-03-04T10:47:33.794Z"
   },
   {
    "duration": 314,
    "start_time": "2022-03-04T10:47:45.522Z"
   },
   {
    "duration": 277,
    "start_time": "2022-03-04T10:47:51.921Z"
   },
   {
    "duration": 279,
    "start_time": "2022-03-04T10:48:00.799Z"
   },
   {
    "duration": 257,
    "start_time": "2022-03-04T10:48:13.558Z"
   },
   {
    "duration": 21,
    "start_time": "2022-03-04T10:48:19.382Z"
   },
   {
    "duration": 24,
    "start_time": "2022-03-04T10:48:33.536Z"
   },
   {
    "duration": 24,
    "start_time": "2022-03-04T10:48:47.768Z"
   },
   {
    "duration": 10,
    "start_time": "2022-03-04T10:49:36.081Z"
   },
   {
    "duration": 17,
    "start_time": "2022-03-04T10:49:41.722Z"
   },
   {
    "duration": 3,
    "start_time": "2022-03-04T10:50:36.572Z"
   },
   {
    "duration": 9,
    "start_time": "2022-03-04T11:07:37.195Z"
   },
   {
    "duration": 4,
    "start_time": "2022-03-04T11:11:25.627Z"
   },
   {
    "duration": 709,
    "start_time": "2022-03-04T17:32:23.014Z"
   },
   {
    "duration": 170,
    "start_time": "2022-03-04T17:32:23.726Z"
   },
   {
    "duration": 24,
    "start_time": "2022-03-04T17:32:23.900Z"
   },
   {
    "duration": 50,
    "start_time": "2022-03-04T17:32:23.927Z"
   },
   {
    "duration": 4,
    "start_time": "2022-03-04T17:32:23.980Z"
   },
   {
    "duration": 23,
    "start_time": "2022-03-04T17:32:23.987Z"
   },
   {
    "duration": 5,
    "start_time": "2022-03-04T17:32:24.012Z"
   },
   {
    "duration": 60,
    "start_time": "2022-03-04T17:32:24.019Z"
   },
   {
    "duration": 22,
    "start_time": "2022-03-04T17:32:24.083Z"
   },
   {
    "duration": 55,
    "start_time": "2022-03-04T17:32:24.108Z"
   },
   {
    "duration": 114,
    "start_time": "2022-03-04T17:32:24.166Z"
   },
   {
    "duration": 117,
    "start_time": "2022-03-04T17:32:24.282Z"
   },
   {
    "duration": 100,
    "start_time": "2022-03-04T17:32:24.401Z"
   },
   {
    "duration": 60,
    "start_time": "2022-03-04T17:32:24.504Z"
   },
   {
    "duration": 3,
    "start_time": "2022-03-04T17:32:24.567Z"
   },
   {
    "duration": 15,
    "start_time": "2022-03-04T17:32:24.573Z"
   },
   {
    "duration": 84,
    "start_time": "2022-03-04T17:32:24.590Z"
   },
   {
    "duration": 15,
    "start_time": "2022-03-04T17:32:24.676Z"
   },
   {
    "duration": 13,
    "start_time": "2022-03-04T17:32:24.694Z"
   },
   {
    "duration": 42,
    "start_time": "2022-03-04T17:32:24.709Z"
   },
   {
    "duration": 27,
    "start_time": "2022-03-04T17:32:24.754Z"
   },
   {
    "duration": 17,
    "start_time": "2022-03-04T17:32:24.784Z"
   },
   {
    "duration": 52,
    "start_time": "2022-03-04T17:32:24.803Z"
   },
   {
    "duration": 18,
    "start_time": "2022-03-04T17:32:24.858Z"
   },
   {
    "duration": 23,
    "start_time": "2022-03-04T17:32:24.878Z"
   },
   {
    "duration": 55,
    "start_time": "2022-03-04T17:32:24.904Z"
   },
   {
    "duration": 11,
    "start_time": "2022-03-04T17:32:24.964Z"
   },
   {
    "duration": 14,
    "start_time": "2022-03-04T17:32:24.978Z"
   },
   {
    "duration": 10,
    "start_time": "2022-03-04T17:32:24.995Z"
   },
   {
    "duration": 7,
    "start_time": "2022-03-04T17:32:25.007Z"
   },
   {
    "duration": 23,
    "start_time": "2022-03-04T17:32:25.051Z"
   },
   {
    "duration": 20,
    "start_time": "2022-03-04T17:32:25.076Z"
   },
   {
    "duration": 22,
    "start_time": "2022-03-04T17:32:25.098Z"
   },
   {
    "duration": 41,
    "start_time": "2022-03-04T17:32:25.122Z"
   },
   {
    "duration": 10,
    "start_time": "2022-03-04T17:32:25.166Z"
   },
   {
    "duration": 7,
    "start_time": "2022-03-04T17:32:25.179Z"
   },
   {
    "duration": 10,
    "start_time": "2022-03-04T17:32:25.189Z"
   },
   {
    "duration": 52,
    "start_time": "2022-03-04T17:32:25.201Z"
   },
   {
    "duration": 6,
    "start_time": "2022-03-04T17:32:25.256Z"
   },
   {
    "duration": 752,
    "start_time": "2022-03-04T18:04:24.167Z"
   },
   {
    "duration": 173,
    "start_time": "2022-03-04T18:04:24.922Z"
   },
   {
    "duration": 26,
    "start_time": "2022-03-04T18:04:25.098Z"
   },
   {
    "duration": 45,
    "start_time": "2022-03-04T18:04:25.127Z"
   },
   {
    "duration": 5,
    "start_time": "2022-03-04T18:04:25.175Z"
   },
   {
    "duration": 30,
    "start_time": "2022-03-04T18:04:25.183Z"
   },
   {
    "duration": 37,
    "start_time": "2022-03-04T18:04:25.215Z"
   },
   {
    "duration": 35,
    "start_time": "2022-03-04T18:04:25.256Z"
   },
   {
    "duration": 36,
    "start_time": "2022-03-04T18:04:25.294Z"
   },
   {
    "duration": 45,
    "start_time": "2022-03-04T18:04:25.332Z"
   },
   {
    "duration": 96,
    "start_time": "2022-03-04T18:04:25.380Z"
   },
   {
    "duration": 107,
    "start_time": "2022-03-04T18:04:25.478Z"
   },
   {
    "duration": 84,
    "start_time": "2022-03-04T18:04:25.588Z"
   },
   {
    "duration": 55,
    "start_time": "2022-03-04T18:04:25.675Z"
   },
   {
    "duration": 20,
    "start_time": "2022-03-04T18:04:25.732Z"
   },
   {
    "duration": 17,
    "start_time": "2022-03-04T18:04:25.754Z"
   },
   {
    "duration": 55,
    "start_time": "2022-03-04T18:04:25.773Z"
   },
   {
    "duration": 31,
    "start_time": "2022-03-04T18:04:25.831Z"
   },
   {
    "duration": 14,
    "start_time": "2022-03-04T18:04:25.864Z"
   },
   {
    "duration": 5,
    "start_time": "2022-03-04T18:04:25.880Z"
   },
   {
    "duration": 25,
    "start_time": "2022-03-04T18:04:25.887Z"
   },
   {
    "duration": 46,
    "start_time": "2022-03-04T18:04:25.914Z"
   },
   {
    "duration": 18,
    "start_time": "2022-03-04T18:04:25.965Z"
   },
   {
    "duration": 17,
    "start_time": "2022-03-04T18:04:25.986Z"
   },
   {
    "duration": 58,
    "start_time": "2022-03-04T18:04:26.005Z"
   },
   {
    "duration": 18,
    "start_time": "2022-03-04T18:04:26.065Z"
   },
   {
    "duration": 11,
    "start_time": "2022-03-04T18:04:26.085Z"
   },
   {
    "duration": 16,
    "start_time": "2022-03-04T18:04:26.098Z"
   },
   {
    "duration": 44,
    "start_time": "2022-03-04T18:04:26.117Z"
   },
   {
    "duration": 5,
    "start_time": "2022-03-04T18:04:26.164Z"
   },
   {
    "duration": 32,
    "start_time": "2022-03-04T18:04:26.171Z"
   },
   {
    "duration": 17,
    "start_time": "2022-03-04T18:04:26.205Z"
   },
   {
    "duration": 24,
    "start_time": "2022-03-04T18:04:26.251Z"
   },
   {
    "duration": 19,
    "start_time": "2022-03-04T18:04:26.278Z"
   },
   {
    "duration": 12,
    "start_time": "2022-03-04T18:04:26.300Z"
   },
   {
    "duration": 39,
    "start_time": "2022-03-04T18:04:26.315Z"
   },
   {
    "duration": 11,
    "start_time": "2022-03-04T18:04:26.356Z"
   },
   {
    "duration": 6,
    "start_time": "2022-03-04T18:04:26.370Z"
   },
   {
    "duration": 8,
    "start_time": "2022-03-04T18:04:26.380Z"
   }
  ],
  "colab": {
   "collapsed_sections": [
    "E0vqbgi9ay0H",
    "VUC88oWjTJw2"
   ],
   "name": "yandex_music_project_2021.2.ipynb",
   "provenance": []
  },
  "kernelspec": {
   "display_name": "Python 3 (ipykernel)",
   "language": "python",
   "name": "python3"
  },
  "language_info": {
   "codemirror_mode": {
    "name": "ipython",
    "version": 3
   },
   "file_extension": ".py",
   "mimetype": "text/x-python",
   "name": "python",
   "nbconvert_exporter": "python",
   "pygments_lexer": "ipython3",
   "version": "3.9.12"
  },
  "toc": {
   "base_numbering": 1,
   "nav_menu": {},
   "number_sections": true,
   "sideBar": true,
   "skip_h1_title": true,
   "title_cell": "Table of Contents",
   "title_sidebar": "Contents",
   "toc_cell": false,
   "toc_position": {},
   "toc_section_display": true,
   "toc_window_display": true
  }
 },
 "nbformat": 4,
 "nbformat_minor": 1
}
