{
 "cells": [
  {
   "cell_type": "markdown",
   "id": "f2de5699",
   "metadata": {},
   "source": [
    "# Проект № 12."
   ]
  },
  {
   "cell_type": "markdown",
   "id": "a183eb88",
   "metadata": {},
   "source": [
    "# Описание проекта\n",
    "\n",
    "Сеть фитнес-центров «Культурист-датасаентист» разрабатывает стратегию взаимодействия с клиентами на основе аналитических данных.\n",
    "\n",
    "Распространённая проблема фитнес-клубов и других сервисов — отток клиентов. Как понять, что клиент больше не с вами? Можно записать в отток тех, кто попросил закрыть договор или удалил аккаунт. Однако клиенты не всегда уходят демонстративно: чаще перестают пользоваться сервисом тихо.\n",
    "\n",
    "Индикаторы оттока зависят от специфики отрасли. Когда пользователь редко, но стабильно закупается в интернет-магазине — не похоже, что он «отвалился». А вот если две недели не заходит на канал с ежедневно обновляемым контентом, дела плохи: подписчик заскучал и, кажется, оставил вас.\n",
    "\n",
    "Для фитнес-центра можно считать, что клиент попал в отток, если за последний месяц ни разу не посетил спортзал. Конечно, не исключено, что он уехал на Бали и по приезде обязательно продолжит ходить на фитнес. Однако чаще бывает наоборот. Если клиент начал новую жизнь с понедельника, немного походил в спортзал, а потом пропал — скорее всего, он не вернётся.\n",
    "\n",
    "Чтобы бороться с оттоком, отдел по работе с клиентами «Культуриста-датасаентиста» перевёл в электронный вид множество клиентских анкет. \n",
    "\n",
    "## Цель - спасти фитнес-центр от оттока пользователей.\n",
    "\n",
    "## Задача — провести анализ и подготовить план действий по удержанию клиентов.\n",
    "\n",
    "А именно:\n",
    "* научиться прогнозировать вероятность оттока (на уровне следующего месяца) для каждого клиента;\n",
    "* сформировать типичные портреты клиентов: выделить несколько наиболее ярких групп и охарактеризовать их основные свойства;\n",
    "* проанализировать основные признаки, наиболее сильно влияющие на отток;\n",
    "* сформулировать основные выводы и разработать рекомендации по повышению качества работы с клиентами:\n",
    " * 1) выделить целевые группы клиентов;\n",
    " * 2) предложить меры по снижению оттока;\n",
    " * 3) определить другие особенности взаимодействия с клиентами."
   ]
  },
  {
   "cell_type": "markdown",
   "id": "5356d6f7",
   "metadata": {},
   "source": [
    "# Описание данных\n",
    "«Культурист-датасаентист» предоставил сведения в csv-файлах. Заказчик подготовил данные, которые содержат данные на месяц до оттока и факт оттока на определённый месяц. Набор данных включает следующие поля:\n",
    "\n",
    "* Данные клиента за предыдущий до проверки факта оттока месяц:\n",
    " * `'gender'` — пол;\n",
    " * `'Near_Location'` — проживание или работа в районе, где находится фитнес-центр;\n",
    " * `'Partner'` — сотрудник компании-партнёра клуба (сотрудничество с компаниями, чьи сотрудники могут получать скидки на абонемент — в таком случае фитнес-центр хранит информацию о работодателе клиента);\n",
    " * `Promo_friends` — факт первоначальной записи в рамках акции «приведи друга» (использовал промо-код от знакомого при оплате первого абонемента);\n",
    " * `'Phone'` — наличие контактного телефона;\n",
    " * `'Age'` — возраст;\n",
    " * `'Lifetime'` — время с момента первого обращения в фитнес-центр (в месяцах).\n",
    "\n",
    "* Информация на основе журнала посещений, покупок и информация о текущем статусе абонемента клиента:\n",
    " * `'Contract_period'` — длительность текущего действующего абонемента (месяц, 6 месяцев, год);\n",
    " * `'Month_to_end_contract'` — срок до окончания текущего действующего абонемента (в месяцах);\n",
    " * `'Group_visits'` — факт посещения групповых занятий;\n",
    " * `'Avg_class_frequency_total'` — средняя частота посещений в неделю за все время с начала действия абонемента;\n",
    " * `'Avg_class_frequency_current_month'` — средняя частота посещений в неделю за предыдущий месяц;\n",
    " * `'Avg_additional_charges_total'` — суммарная выручка от других услуг фитнес-центра: кафе, спорттовары, косметический и массажный салон.\n",
    "\n",
    "* `'Churn'` — факт оттока в текущем месяце.\n",
    "\n",
    "Путь к файлу: `/datasets/gym_churn.csv`"
   ]
  },
  {
   "cell_type": "markdown",
   "id": "a1d288c7",
   "metadata": {},
   "source": [
    "<h1>Содержание<span class=\"tocSkip\"></span></h1>\n",
    "<div class=\"toc\"><ul class=\"toc-item\"><li><span><a href=\"#Шаг-1.-Загрузим-данные\" data-toc-modified-id=\"Шаг-1.-Загрузим-данные\"><span class=\"toc-item-num\"></span>Шаг 1. Загрузим данные</a>\n",
    "<li><span><a href=\"#Шаг-2.-Проведём-исследовательский-анализ-данных-(EDA)\" data-toc-modified-id=\"Шаг-2.-Проведём-исследовательский-анализ-данных-(EDA)\"><span class=\"toc-item-num\"></span>Шаг 2. Проведём исследовательский анализ данных (EDA)</a></span><li><span><a href=\"#Шаг-3.-Построим-модель-прогнозирования-оттока-клиентов\" data-toc-modified-id=\"Шаг-3.-Построим-модель-прогнозирования-оттока-клиентов\"><span class=\"toc-item-num\"></span>Шаг 3. Построим модель прогнозирования оттока клиентов</a></span></li>\n",
    "<li><span><a href=\"#Шаг-4.-Сделаем-кластеризацию-клиентов\" data-toc-modified-id=\"Шаг-4.-Сделаем-кластеризацию-клиентов\"><span class=\"toc-item-num\"></span>Шаг 4. Сделаем кластеризацию клиентов</a></span></li>\n",
    "<li><span><a href=\"#Шаг-5.-Выводы-и-рекомендации\" data-toc-modified-id=\"Шаг-5.-Выводы-и-рекомендации\"><span class=\"toc-item-num\"></span>Шаг 5. Выводы и рекомендации</a></span></li>"
   ]
  },
  {
   "cell_type": "markdown",
   "id": "79e772b2",
   "metadata": {},
   "source": [
    "# Шаг 1. Загрузим данные"
   ]
  },
  {
   "cell_type": "code",
   "execution_count": 1,
   "id": "c92d908a",
   "metadata": {},
   "outputs": [],
   "source": [
    "# загрузка необходимых библиотек\n",
    "import pandas as pd                                     # библиотека для обработки и анализа структурированных данных\n",
    "import seaborn as sns                                   # библиотека для создания статистических графиков\n",
    "import matplotlib.pyplot as plt                         # библиотека для визуализации данных двумерной и трёхмерной графикой\n",
    "from sklearn.model_selection import train_test_split    # библиотека Python для машинного обучения\n",
    "from sklearn.linear_model import LogisticRegression     # лог регрессия\n",
    "from sklearn.ensemble import RandomForestClassifier     # случайный лес\n",
    "from sklearn.metrics import accuracy_score \n",
    "from sklearn.metrics import precision_score\n",
    "from sklearn.metrics import recall_score                # метрики для оценки эффективности моделей\n",
    "from sklearn.preprocessing import StandardScaler        # загрузка метода для стандартизации входного набора данных\n",
    "from scipy.cluster.hierarchy import dendrogram, linkage # загрузка: функции для построения матрицы рассотяний; дендрограммы\n",
    "from sklearn.cluster import KMeans                      # загрузка алгоритма k-means"
   ]
  },
  {
   "cell_type": "code",
   "execution_count": 2,
   "id": "1c8e5606",
   "metadata": {
    "scrolled": true
   },
   "outputs": [
    {
     "data": {
      "text/html": [
       "<div>\n",
       "<style scoped>\n",
       "    .dataframe tbody tr th:only-of-type {\n",
       "        vertical-align: middle;\n",
       "    }\n",
       "\n",
       "    .dataframe tbody tr th {\n",
       "        vertical-align: top;\n",
       "    }\n",
       "\n",
       "    .dataframe thead th {\n",
       "        text-align: right;\n",
       "    }\n",
       "</style>\n",
       "<table border=\"1\" class=\"dataframe\">\n",
       "  <thead>\n",
       "    <tr style=\"text-align: right;\">\n",
       "      <th></th>\n",
       "      <th>gender</th>\n",
       "      <th>Near_Location</th>\n",
       "      <th>Partner</th>\n",
       "      <th>Promo_friends</th>\n",
       "      <th>Phone</th>\n",
       "      <th>Contract_period</th>\n",
       "      <th>Group_visits</th>\n",
       "      <th>Age</th>\n",
       "      <th>Avg_additional_charges_total</th>\n",
       "      <th>Month_to_end_contract</th>\n",
       "      <th>Lifetime</th>\n",
       "      <th>Avg_class_frequency_total</th>\n",
       "      <th>Avg_class_frequency_current_month</th>\n",
       "      <th>Churn</th>\n",
       "    </tr>\n",
       "  </thead>\n",
       "  <tbody>\n",
       "    <tr>\n",
       "      <th>2230</th>\n",
       "      <td>0</td>\n",
       "      <td>1</td>\n",
       "      <td>1</td>\n",
       "      <td>1</td>\n",
       "      <td>1</td>\n",
       "      <td>12</td>\n",
       "      <td>1</td>\n",
       "      <td>29</td>\n",
       "      <td>260.507459</td>\n",
       "      <td>12.0</td>\n",
       "      <td>2</td>\n",
       "      <td>2.348167</td>\n",
       "      <td>2.323455</td>\n",
       "      <td>0</td>\n",
       "    </tr>\n",
       "    <tr>\n",
       "      <th>668</th>\n",
       "      <td>0</td>\n",
       "      <td>0</td>\n",
       "      <td>0</td>\n",
       "      <td>0</td>\n",
       "      <td>1</td>\n",
       "      <td>1</td>\n",
       "      <td>1</td>\n",
       "      <td>27</td>\n",
       "      <td>48.087954</td>\n",
       "      <td>1.0</td>\n",
       "      <td>0</td>\n",
       "      <td>1.003281</td>\n",
       "      <td>0.728397</td>\n",
       "      <td>1</td>\n",
       "    </tr>\n",
       "    <tr>\n",
       "      <th>3616</th>\n",
       "      <td>0</td>\n",
       "      <td>0</td>\n",
       "      <td>1</td>\n",
       "      <td>0</td>\n",
       "      <td>1</td>\n",
       "      <td>6</td>\n",
       "      <td>0</td>\n",
       "      <td>30</td>\n",
       "      <td>24.620589</td>\n",
       "      <td>5.0</td>\n",
       "      <td>2</td>\n",
       "      <td>0.000000</td>\n",
       "      <td>0.000000</td>\n",
       "      <td>0</td>\n",
       "    </tr>\n",
       "    <tr>\n",
       "      <th>2363</th>\n",
       "      <td>1</td>\n",
       "      <td>1</td>\n",
       "      <td>0</td>\n",
       "      <td>0</td>\n",
       "      <td>1</td>\n",
       "      <td>1</td>\n",
       "      <td>1</td>\n",
       "      <td>27</td>\n",
       "      <td>139.893107</td>\n",
       "      <td>1.0</td>\n",
       "      <td>0</td>\n",
       "      <td>2.322132</td>\n",
       "      <td>1.838436</td>\n",
       "      <td>1</td>\n",
       "    </tr>\n",
       "    <tr>\n",
       "      <th>142</th>\n",
       "      <td>1</td>\n",
       "      <td>0</td>\n",
       "      <td>1</td>\n",
       "      <td>0</td>\n",
       "      <td>0</td>\n",
       "      <td>12</td>\n",
       "      <td>0</td>\n",
       "      <td>29</td>\n",
       "      <td>89.657794</td>\n",
       "      <td>12.0</td>\n",
       "      <td>1</td>\n",
       "      <td>3.521502</td>\n",
       "      <td>3.368137</td>\n",
       "      <td>0</td>\n",
       "    </tr>\n",
       "  </tbody>\n",
       "</table>\n",
       "</div>"
      ],
      "text/plain": [
       "      gender  Near_Location  Partner  Promo_friends  Phone  Contract_period  \\\n",
       "2230       0              1        1              1      1               12   \n",
       "668        0              0        0              0      1                1   \n",
       "3616       0              0        1              0      1                6   \n",
       "2363       1              1        0              0      1                1   \n",
       "142        1              0        1              0      0               12   \n",
       "\n",
       "      Group_visits  Age  Avg_additional_charges_total  Month_to_end_contract  \\\n",
       "2230             1   29                    260.507459                   12.0   \n",
       "668              1   27                     48.087954                    1.0   \n",
       "3616             0   30                     24.620589                    5.0   \n",
       "2363             1   27                    139.893107                    1.0   \n",
       "142              0   29                     89.657794                   12.0   \n",
       "\n",
       "      Lifetime  Avg_class_frequency_total  Avg_class_frequency_current_month  \\\n",
       "2230         2                   2.348167                           2.323455   \n",
       "668          0                   1.003281                           0.728397   \n",
       "3616         2                   0.000000                           0.000000   \n",
       "2363         0                   2.322132                           1.838436   \n",
       "142          1                   3.521502                           3.368137   \n",
       "\n",
       "      Churn  \n",
       "2230      0  \n",
       "668       1  \n",
       "3616      0  \n",
       "2363      1  \n",
       "142       0  "
      ]
     },
     "execution_count": 2,
     "metadata": {},
     "output_type": "execute_result"
    }
   ],
   "source": [
    "# прочитаем csv-файл и запишем его в переменную df\n",
    "try:\n",
    "    df = pd.read_csv('/datasets/gym_churn.csv')\n",
    "except:\n",
    "    df = pd.read_csv('/another_way/gym_churn.csv')\n",
    "    \n",
    "# взглянем на 5 случайных (зафиксированных с помощью 'random_state=0') строк датафрейма\n",
    "df.sample(5, random_state=0)"
   ]
  },
  {
   "cell_type": "code",
   "execution_count": 3,
   "id": "4026e3ee",
   "metadata": {},
   "outputs": [
    {
     "data": {
      "text/plain": [
       "gender                               0\n",
       "Near_Location                        0\n",
       "Partner                              0\n",
       "Promo_friends                        0\n",
       "Phone                                0\n",
       "Contract_period                      0\n",
       "Group_visits                         0\n",
       "Age                                  0\n",
       "Avg_additional_charges_total         0\n",
       "Month_to_end_contract                0\n",
       "Lifetime                             0\n",
       "Avg_class_frequency_total            0\n",
       "Avg_class_frequency_current_month    0\n",
       "Churn                                0\n",
       "dtype: int64"
      ]
     },
     "execution_count": 3,
     "metadata": {},
     "output_type": "execute_result"
    }
   ],
   "source": [
    "df.isna().sum()"
   ]
  },
  {
   "cell_type": "markdown",
   "id": "a4d96332",
   "metadata": {},
   "source": [
    "Пропусков в данных нет."
   ]
  },
  {
   "cell_type": "code",
   "execution_count": 4,
   "id": "8c476687",
   "metadata": {},
   "outputs": [
    {
     "name": "stdout",
     "output_type": "stream",
     "text": [
      "<class 'pandas.core.frame.DataFrame'>\n",
      "RangeIndex: 4000 entries, 0 to 3999\n",
      "Data columns (total 14 columns):\n",
      " #   Column                             Non-Null Count  Dtype  \n",
      "---  ------                             --------------  -----  \n",
      " 0   gender                             4000 non-null   int64  \n",
      " 1   Near_Location                      4000 non-null   int64  \n",
      " 2   Partner                            4000 non-null   int64  \n",
      " 3   Promo_friends                      4000 non-null   int64  \n",
      " 4   Phone                              4000 non-null   int64  \n",
      " 5   Contract_period                    4000 non-null   int64  \n",
      " 6   Group_visits                       4000 non-null   int64  \n",
      " 7   Age                                4000 non-null   int64  \n",
      " 8   Avg_additional_charges_total       4000 non-null   float64\n",
      " 9   Month_to_end_contract              4000 non-null   float64\n",
      " 10  Lifetime                           4000 non-null   int64  \n",
      " 11  Avg_class_frequency_total          4000 non-null   float64\n",
      " 12  Avg_class_frequency_current_month  4000 non-null   float64\n",
      " 13  Churn                              4000 non-null   int64  \n",
      "dtypes: float64(4), int64(10)\n",
      "memory usage: 437.6 KB\n"
     ]
    }
   ],
   "source": [
    "df.info()"
   ]
  },
  {
   "cell_type": "code",
   "execution_count": 5,
   "id": "999f29e8",
   "metadata": {},
   "outputs": [
    {
     "data": {
      "text/plain": [
       "0"
      ]
     },
     "execution_count": 5,
     "metadata": {},
     "output_type": "execute_result"
    }
   ],
   "source": [
    "# поищем дубликаты(явные)\n",
    "df.iloc[:, 0:12].duplicated().sum()"
   ]
  },
  {
   "cell_type": "markdown",
   "id": "1e30f535",
   "metadata": {},
   "source": [
    "### Дубликатов нет."
   ]
  },
  {
   "cell_type": "markdown",
   "id": "db30bd99",
   "metadata": {},
   "source": [
    "Первое, что бросается в глаза - это заглавные буквы в заголовках. Считаю их необходимо привести к **нижнему регистру**:"
   ]
  },
  {
   "cell_type": "code",
   "execution_count": 6,
   "id": "8e914c57",
   "metadata": {},
   "outputs": [
    {
     "name": "stdout",
     "output_type": "stream",
     "text": [
      "Было: Index(['gender', 'Near_Location', 'Partner', 'Promo_friends', 'Phone',\n",
      "       'Contract_period', 'Group_visits', 'Age',\n",
      "       'Avg_additional_charges_total', 'Month_to_end_contract', 'Lifetime',\n",
      "       'Avg_class_frequency_total', 'Avg_class_frequency_current_month',\n",
      "       'Churn'],\n",
      "      dtype='object')\n",
      "Стало: Index(['gender', 'near_location', 'partner', 'promo_friends', 'phone',\n",
      "       'contract_period', 'group_visits', 'age',\n",
      "       'avg_additional_charges_total', 'month_to_end_contract', 'lifetime',\n",
      "       'avg_class_frequency_total', 'avg_class_frequency_current_month',\n",
      "       'churn'],\n",
      "      dtype='object')\n"
     ]
    }
   ],
   "source": [
    "# до\n",
    "print(f'Было: {df.columns}')\n",
    "\n",
    "# приведение к нижнему регистру\n",
    "df.columns = [x.lower() for x in df.columns]\n",
    "\n",
    "# после\n",
    "print(f'Стало: {df.columns}')"
   ]
  },
  {
   "cell_type": "markdown",
   "id": "6f8643e4",
   "metadata": {},
   "source": [
    "Второе, значения в столбцах: **'avg_additional_charges_total'**, **'avg_class_frequency_total'**, **'avg_class_frequency_current_month'**. Количество цифр после запятой можно сократить до двух. Число месяцев (**'month_to_end_contract'**) до окончания не может быть не целым числом, изменим тип значений столбца с вещественного(**float**) на целочисленное (**int**):"
   ]
  },
  {
   "cell_type": "code",
   "execution_count": 7,
   "id": "6278f17d",
   "metadata": {},
   "outputs": [
    {
     "data": {
      "text/html": [
       "<div>\n",
       "<style scoped>\n",
       "    .dataframe tbody tr th:only-of-type {\n",
       "        vertical-align: middle;\n",
       "    }\n",
       "\n",
       "    .dataframe tbody tr th {\n",
       "        vertical-align: top;\n",
       "    }\n",
       "\n",
       "    .dataframe thead th {\n",
       "        text-align: right;\n",
       "    }\n",
       "</style>\n",
       "<table border=\"1\" class=\"dataframe\">\n",
       "  <thead>\n",
       "    <tr style=\"text-align: right;\">\n",
       "      <th></th>\n",
       "      <th>gender</th>\n",
       "      <th>near_location</th>\n",
       "      <th>partner</th>\n",
       "      <th>promo_friends</th>\n",
       "      <th>phone</th>\n",
       "      <th>contract_period</th>\n",
       "      <th>group_visits</th>\n",
       "      <th>age</th>\n",
       "      <th>avg_additional_charges_total</th>\n",
       "      <th>month_to_end_contract</th>\n",
       "      <th>lifetime</th>\n",
       "      <th>avg_class_frequency_total</th>\n",
       "      <th>avg_class_frequency_current_month</th>\n",
       "      <th>churn</th>\n",
       "    </tr>\n",
       "  </thead>\n",
       "  <tbody>\n",
       "    <tr>\n",
       "      <th>2230</th>\n",
       "      <td>0</td>\n",
       "      <td>1</td>\n",
       "      <td>1</td>\n",
       "      <td>1</td>\n",
       "      <td>1</td>\n",
       "      <td>12</td>\n",
       "      <td>1</td>\n",
       "      <td>29</td>\n",
       "      <td>260.51</td>\n",
       "      <td>12</td>\n",
       "      <td>2</td>\n",
       "      <td>2.35</td>\n",
       "      <td>2.32</td>\n",
       "      <td>0</td>\n",
       "    </tr>\n",
       "    <tr>\n",
       "      <th>668</th>\n",
       "      <td>0</td>\n",
       "      <td>0</td>\n",
       "      <td>0</td>\n",
       "      <td>0</td>\n",
       "      <td>1</td>\n",
       "      <td>1</td>\n",
       "      <td>1</td>\n",
       "      <td>27</td>\n",
       "      <td>48.09</td>\n",
       "      <td>1</td>\n",
       "      <td>0</td>\n",
       "      <td>1.00</td>\n",
       "      <td>0.73</td>\n",
       "      <td>1</td>\n",
       "    </tr>\n",
       "    <tr>\n",
       "      <th>3616</th>\n",
       "      <td>0</td>\n",
       "      <td>0</td>\n",
       "      <td>1</td>\n",
       "      <td>0</td>\n",
       "      <td>1</td>\n",
       "      <td>6</td>\n",
       "      <td>0</td>\n",
       "      <td>30</td>\n",
       "      <td>24.62</td>\n",
       "      <td>5</td>\n",
       "      <td>2</td>\n",
       "      <td>0.00</td>\n",
       "      <td>0.00</td>\n",
       "      <td>0</td>\n",
       "    </tr>\n",
       "    <tr>\n",
       "      <th>2363</th>\n",
       "      <td>1</td>\n",
       "      <td>1</td>\n",
       "      <td>0</td>\n",
       "      <td>0</td>\n",
       "      <td>1</td>\n",
       "      <td>1</td>\n",
       "      <td>1</td>\n",
       "      <td>27</td>\n",
       "      <td>139.89</td>\n",
       "      <td>1</td>\n",
       "      <td>0</td>\n",
       "      <td>2.32</td>\n",
       "      <td>1.84</td>\n",
       "      <td>1</td>\n",
       "    </tr>\n",
       "    <tr>\n",
       "      <th>142</th>\n",
       "      <td>1</td>\n",
       "      <td>0</td>\n",
       "      <td>1</td>\n",
       "      <td>0</td>\n",
       "      <td>0</td>\n",
       "      <td>12</td>\n",
       "      <td>0</td>\n",
       "      <td>29</td>\n",
       "      <td>89.66</td>\n",
       "      <td>12</td>\n",
       "      <td>1</td>\n",
       "      <td>3.52</td>\n",
       "      <td>3.37</td>\n",
       "      <td>0</td>\n",
       "    </tr>\n",
       "  </tbody>\n",
       "</table>\n",
       "</div>"
      ],
      "text/plain": [
       "      gender  near_location  partner  promo_friends  phone  contract_period  \\\n",
       "2230       0              1        1              1      1               12   \n",
       "668        0              0        0              0      1                1   \n",
       "3616       0              0        1              0      1                6   \n",
       "2363       1              1        0              0      1                1   \n",
       "142        1              0        1              0      0               12   \n",
       "\n",
       "      group_visits  age  avg_additional_charges_total  month_to_end_contract  \\\n",
       "2230             1   29                        260.51                     12   \n",
       "668              1   27                         48.09                      1   \n",
       "3616             0   30                         24.62                      5   \n",
       "2363             1   27                        139.89                      1   \n",
       "142              0   29                         89.66                     12   \n",
       "\n",
       "      lifetime  avg_class_frequency_total  avg_class_frequency_current_month  \\\n",
       "2230         2                       2.35                               2.32   \n",
       "668          0                       1.00                               0.73   \n",
       "3616         2                       0.00                               0.00   \n",
       "2363         0                       2.32                               1.84   \n",
       "142          1                       3.52                               3.37   \n",
       "\n",
       "      churn  \n",
       "2230      0  \n",
       "668       1  \n",
       "3616      0  \n",
       "2363      1  \n",
       "142       0  "
      ]
     },
     "execution_count": 7,
     "metadata": {},
     "output_type": "execute_result"
    }
   ],
   "source": [
    "# окгруглим значения в нужных столбцах, добавим параметр, чтобы было 2 цифры после запятой \n",
    "df[['avg_additional_charges_total', 'avg_class_frequency_total', 'avg_class_frequency_current_month']] = round(df[['avg_additional_charges_total', 'avg_class_frequency_total', 'avg_class_frequency_current_month']], 2)\n",
    "\n",
    "# меняем тип данных\n",
    "df['month_to_end_contract'] = df['month_to_end_contract'].astype('int')\n",
    "\n",
    "# посмотрим как изменились эти столбцы в случайной выборке\n",
    "df.sample(5, random_state=0)"
   ]
  },
  {
   "cell_type": "markdown",
   "id": "3433cd35",
   "metadata": {},
   "source": [
    "## Вывод:\n",
    "Данные были загружены, дубликатов и пропусков в них не выявлено. Названия столбцов были приведены к читабельному виду(snake_case). Число знаков после запятых сокращено путём округления и в одном случае путём измения типа данных."
   ]
  },
  {
   "cell_type": "markdown",
   "id": "ce0a098d",
   "metadata": {},
   "source": [
    "<div class=\"toc\"><ul class=\"toc-item\"><li><span><a href=\"#Содержание\" data-toc-modified-id=\"Содержание\"><span class=\"toc-item-num\"></span><Вернуться к содержанию</a>"
   ]
  },
  {
   "cell_type": "markdown",
   "id": "8cbd912b",
   "metadata": {},
   "source": [
    "# Шаг 2. Проведём исследовательский анализ данных (EDA)"
   ]
  },
  {
   "cell_type": "markdown",
   "id": "dbcd20aa",
   "metadata": {},
   "source": [
    "## Посмотрим на датасет:"
   ]
  },
  {
   "cell_type": "code",
   "execution_count": 8,
   "id": "1ca53a3a",
   "metadata": {},
   "outputs": [
    {
     "data": {
      "text/html": [
       "<div>\n",
       "<style scoped>\n",
       "    .dataframe tbody tr th:only-of-type {\n",
       "        vertical-align: middle;\n",
       "    }\n",
       "\n",
       "    .dataframe tbody tr th {\n",
       "        vertical-align: top;\n",
       "    }\n",
       "\n",
       "    .dataframe thead th {\n",
       "        text-align: right;\n",
       "    }\n",
       "</style>\n",
       "<table border=\"1\" class=\"dataframe\">\n",
       "  <thead>\n",
       "    <tr style=\"text-align: right;\">\n",
       "      <th></th>\n",
       "      <th>gender</th>\n",
       "      <th>near_location</th>\n",
       "      <th>partner</th>\n",
       "      <th>promo_friends</th>\n",
       "      <th>phone</th>\n",
       "      <th>contract_period</th>\n",
       "      <th>group_visits</th>\n",
       "      <th>age</th>\n",
       "      <th>avg_additional_charges_total</th>\n",
       "      <th>month_to_end_contract</th>\n",
       "      <th>lifetime</th>\n",
       "      <th>avg_class_frequency_total</th>\n",
       "      <th>avg_class_frequency_current_month</th>\n",
       "      <th>churn</th>\n",
       "    </tr>\n",
       "  </thead>\n",
       "  <tbody>\n",
       "    <tr>\n",
       "      <th>count</th>\n",
       "      <td>4000.000000</td>\n",
       "      <td>4000.000000</td>\n",
       "      <td>4000.000000</td>\n",
       "      <td>4000.000000</td>\n",
       "      <td>4000.000000</td>\n",
       "      <td>4000.000000</td>\n",
       "      <td>4000.000000</td>\n",
       "      <td>4000.000000</td>\n",
       "      <td>4000.000000</td>\n",
       "      <td>4000.000000</td>\n",
       "      <td>4000.000000</td>\n",
       "      <td>4000.000000</td>\n",
       "      <td>4000.00000</td>\n",
       "      <td>4000.000000</td>\n",
       "    </tr>\n",
       "    <tr>\n",
       "      <th>mean</th>\n",
       "      <td>0.510250</td>\n",
       "      <td>0.845250</td>\n",
       "      <td>0.486750</td>\n",
       "      <td>0.308500</td>\n",
       "      <td>0.903500</td>\n",
       "      <td>4.681250</td>\n",
       "      <td>0.412250</td>\n",
       "      <td>29.184250</td>\n",
       "      <td>146.943730</td>\n",
       "      <td>4.322750</td>\n",
       "      <td>3.724750</td>\n",
       "      <td>1.879035</td>\n",
       "      <td>1.76707</td>\n",
       "      <td>0.265250</td>\n",
       "    </tr>\n",
       "    <tr>\n",
       "      <th>std</th>\n",
       "      <td>0.499957</td>\n",
       "      <td>0.361711</td>\n",
       "      <td>0.499887</td>\n",
       "      <td>0.461932</td>\n",
       "      <td>0.295313</td>\n",
       "      <td>4.549706</td>\n",
       "      <td>0.492301</td>\n",
       "      <td>3.258367</td>\n",
       "      <td>96.355654</td>\n",
       "      <td>4.191297</td>\n",
       "      <td>3.749267</td>\n",
       "      <td>0.972305</td>\n",
       "      <td>1.05290</td>\n",
       "      <td>0.441521</td>\n",
       "    </tr>\n",
       "    <tr>\n",
       "      <th>min</th>\n",
       "      <td>0.000000</td>\n",
       "      <td>0.000000</td>\n",
       "      <td>0.000000</td>\n",
       "      <td>0.000000</td>\n",
       "      <td>0.000000</td>\n",
       "      <td>1.000000</td>\n",
       "      <td>0.000000</td>\n",
       "      <td>18.000000</td>\n",
       "      <td>0.150000</td>\n",
       "      <td>1.000000</td>\n",
       "      <td>0.000000</td>\n",
       "      <td>0.000000</td>\n",
       "      <td>0.00000</td>\n",
       "      <td>0.000000</td>\n",
       "    </tr>\n",
       "    <tr>\n",
       "      <th>25%</th>\n",
       "      <td>0.000000</td>\n",
       "      <td>1.000000</td>\n",
       "      <td>0.000000</td>\n",
       "      <td>0.000000</td>\n",
       "      <td>1.000000</td>\n",
       "      <td>1.000000</td>\n",
       "      <td>0.000000</td>\n",
       "      <td>27.000000</td>\n",
       "      <td>68.865000</td>\n",
       "      <td>1.000000</td>\n",
       "      <td>1.000000</td>\n",
       "      <td>1.180000</td>\n",
       "      <td>0.96000</td>\n",
       "      <td>0.000000</td>\n",
       "    </tr>\n",
       "    <tr>\n",
       "      <th>50%</th>\n",
       "      <td>1.000000</td>\n",
       "      <td>1.000000</td>\n",
       "      <td>0.000000</td>\n",
       "      <td>0.000000</td>\n",
       "      <td>1.000000</td>\n",
       "      <td>1.000000</td>\n",
       "      <td>0.000000</td>\n",
       "      <td>29.000000</td>\n",
       "      <td>136.220000</td>\n",
       "      <td>1.000000</td>\n",
       "      <td>3.000000</td>\n",
       "      <td>1.830000</td>\n",
       "      <td>1.72000</td>\n",
       "      <td>0.000000</td>\n",
       "    </tr>\n",
       "    <tr>\n",
       "      <th>75%</th>\n",
       "      <td>1.000000</td>\n",
       "      <td>1.000000</td>\n",
       "      <td>1.000000</td>\n",
       "      <td>1.000000</td>\n",
       "      <td>1.000000</td>\n",
       "      <td>6.000000</td>\n",
       "      <td>1.000000</td>\n",
       "      <td>31.000000</td>\n",
       "      <td>210.947500</td>\n",
       "      <td>6.000000</td>\n",
       "      <td>5.000000</td>\n",
       "      <td>2.540000</td>\n",
       "      <td>2.51000</td>\n",
       "      <td>1.000000</td>\n",
       "    </tr>\n",
       "    <tr>\n",
       "      <th>max</th>\n",
       "      <td>1.000000</td>\n",
       "      <td>1.000000</td>\n",
       "      <td>1.000000</td>\n",
       "      <td>1.000000</td>\n",
       "      <td>1.000000</td>\n",
       "      <td>12.000000</td>\n",
       "      <td>1.000000</td>\n",
       "      <td>41.000000</td>\n",
       "      <td>552.590000</td>\n",
       "      <td>12.000000</td>\n",
       "      <td>31.000000</td>\n",
       "      <td>6.020000</td>\n",
       "      <td>6.15000</td>\n",
       "      <td>1.000000</td>\n",
       "    </tr>\n",
       "  </tbody>\n",
       "</table>\n",
       "</div>"
      ],
      "text/plain": [
       "            gender  near_location      partner  promo_friends        phone  \\\n",
       "count  4000.000000    4000.000000  4000.000000    4000.000000  4000.000000   \n",
       "mean      0.510250       0.845250     0.486750       0.308500     0.903500   \n",
       "std       0.499957       0.361711     0.499887       0.461932     0.295313   \n",
       "min       0.000000       0.000000     0.000000       0.000000     0.000000   \n",
       "25%       0.000000       1.000000     0.000000       0.000000     1.000000   \n",
       "50%       1.000000       1.000000     0.000000       0.000000     1.000000   \n",
       "75%       1.000000       1.000000     1.000000       1.000000     1.000000   \n",
       "max       1.000000       1.000000     1.000000       1.000000     1.000000   \n",
       "\n",
       "       contract_period  group_visits          age  \\\n",
       "count      4000.000000   4000.000000  4000.000000   \n",
       "mean          4.681250      0.412250    29.184250   \n",
       "std           4.549706      0.492301     3.258367   \n",
       "min           1.000000      0.000000    18.000000   \n",
       "25%           1.000000      0.000000    27.000000   \n",
       "50%           1.000000      0.000000    29.000000   \n",
       "75%           6.000000      1.000000    31.000000   \n",
       "max          12.000000      1.000000    41.000000   \n",
       "\n",
       "       avg_additional_charges_total  month_to_end_contract     lifetime  \\\n",
       "count                   4000.000000            4000.000000  4000.000000   \n",
       "mean                     146.943730               4.322750     3.724750   \n",
       "std                       96.355654               4.191297     3.749267   \n",
       "min                        0.150000               1.000000     0.000000   \n",
       "25%                       68.865000               1.000000     1.000000   \n",
       "50%                      136.220000               1.000000     3.000000   \n",
       "75%                      210.947500               6.000000     5.000000   \n",
       "max                      552.590000              12.000000    31.000000   \n",
       "\n",
       "       avg_class_frequency_total  avg_class_frequency_current_month  \\\n",
       "count                4000.000000                         4000.00000   \n",
       "mean                    1.879035                            1.76707   \n",
       "std                     0.972305                            1.05290   \n",
       "min                     0.000000                            0.00000   \n",
       "25%                     1.180000                            0.96000   \n",
       "50%                     1.830000                            1.72000   \n",
       "75%                     2.540000                            2.51000   \n",
       "max                     6.020000                            6.15000   \n",
       "\n",
       "             churn  \n",
       "count  4000.000000  \n",
       "mean      0.265250  \n",
       "std       0.441521  \n",
       "min       0.000000  \n",
       "25%       0.000000  \n",
       "50%       0.000000  \n",
       "75%       1.000000  \n",
       "max       1.000000  "
      ]
     },
     "execution_count": 8,
     "metadata": {},
     "output_type": "execute_result"
    }
   ],
   "source": [
    "# посмотрим на краткую статистическую сводку по df\n",
    "df.describe()"
   ]
  },
  {
   "cell_type": "markdown",
   "id": "1c3ce475",
   "metadata": {},
   "source": [
    "### Пропусков в данных не обнаружено. Посмотрим на средние значения признаков в двух группах — тех, кто ушел в отток(столбец 'churn', значение '1') и тех кто остался(значение '0'):"
   ]
  },
  {
   "cell_type": "code",
   "execution_count": 9,
   "id": "88917281",
   "metadata": {},
   "outputs": [
    {
     "name": "stdout",
     "output_type": "stream",
     "text": [
      "<class 'pandas.core.frame.DataFrame'>\n",
      "RangeIndex: 4000 entries, 0 to 3999\n",
      "Data columns (total 14 columns):\n",
      " #   Column                             Non-Null Count  Dtype  \n",
      "---  ------                             --------------  -----  \n",
      " 0   gender                             4000 non-null   int64  \n",
      " 1   near_location                      4000 non-null   int64  \n",
      " 2   partner                            4000 non-null   int64  \n",
      " 3   promo_friends                      4000 non-null   int64  \n",
      " 4   phone                              4000 non-null   int64  \n",
      " 5   contract_period                    4000 non-null   int64  \n",
      " 6   group_visits                       4000 non-null   int64  \n",
      " 7   age                                4000 non-null   int64  \n",
      " 8   avg_additional_charges_total       4000 non-null   float64\n",
      " 9   month_to_end_contract              4000 non-null   int32  \n",
      " 10  lifetime                           4000 non-null   int64  \n",
      " 11  avg_class_frequency_total          4000 non-null   float64\n",
      " 12  avg_class_frequency_current_month  4000 non-null   float64\n",
      " 13  churn                              4000 non-null   int64  \n",
      "dtypes: float64(3), int32(1), int64(10)\n",
      "memory usage: 422.0 KB\n"
     ]
    }
   ],
   "source": [
    "# посмотрим инфо по df\n",
    "df.info()"
   ]
  },
  {
   "cell_type": "markdown",
   "id": "5783ee0d",
   "metadata": {},
   "source": [
    "### Данные занимают 422 kb."
   ]
  },
  {
   "cell_type": "markdown",
   "id": "1968d146",
   "metadata": {},
   "source": [
    "## Посмотрим на средние значения признаков в двух группах — тех, кто ушел в отток и тех, кто остался:"
   ]
  },
  {
   "cell_type": "code",
   "execution_count": 10,
   "id": "e77d29c0",
   "metadata": {},
   "outputs": [
    {
     "data": {
      "text/html": [
       "<div>\n",
       "<style scoped>\n",
       "    .dataframe tbody tr th:only-of-type {\n",
       "        vertical-align: middle;\n",
       "    }\n",
       "\n",
       "    .dataframe tbody tr th {\n",
       "        vertical-align: top;\n",
       "    }\n",
       "\n",
       "    .dataframe thead th {\n",
       "        text-align: right;\n",
       "    }\n",
       "</style>\n",
       "<table border=\"1\" class=\"dataframe\">\n",
       "  <thead>\n",
       "    <tr style=\"text-align: right;\">\n",
       "      <th></th>\n",
       "      <th>gender</th>\n",
       "      <th>near_location</th>\n",
       "      <th>partner</th>\n",
       "      <th>promo_friends</th>\n",
       "      <th>phone</th>\n",
       "      <th>contract_period</th>\n",
       "      <th>group_visits</th>\n",
       "      <th>age</th>\n",
       "      <th>avg_additional_charges_total</th>\n",
       "      <th>month_to_end_contract</th>\n",
       "      <th>lifetime</th>\n",
       "      <th>avg_class_frequency_total</th>\n",
       "      <th>avg_class_frequency_current_month</th>\n",
       "    </tr>\n",
       "    <tr>\n",
       "      <th>churn</th>\n",
       "      <th></th>\n",
       "      <th></th>\n",
       "      <th></th>\n",
       "      <th></th>\n",
       "      <th></th>\n",
       "      <th></th>\n",
       "      <th></th>\n",
       "      <th></th>\n",
       "      <th></th>\n",
       "      <th></th>\n",
       "      <th></th>\n",
       "      <th></th>\n",
       "      <th></th>\n",
       "    </tr>\n",
       "  </thead>\n",
       "  <tbody>\n",
       "    <tr>\n",
       "      <th>0</th>\n",
       "      <td>0.510037</td>\n",
       "      <td>0.873086</td>\n",
       "      <td>0.534195</td>\n",
       "      <td>0.353522</td>\n",
       "      <td>0.903709</td>\n",
       "      <td>5.747193</td>\n",
       "      <td>0.464103</td>\n",
       "      <td>29.976523</td>\n",
       "      <td>158.445716</td>\n",
       "      <td>5.283089</td>\n",
       "      <td>4.711807</td>\n",
       "      <td>2.024917</td>\n",
       "      <td>2.027873</td>\n",
       "    </tr>\n",
       "    <tr>\n",
       "      <th>1</th>\n",
       "      <td>0.510839</td>\n",
       "      <td>0.768143</td>\n",
       "      <td>0.355325</td>\n",
       "      <td>0.183789</td>\n",
       "      <td>0.902922</td>\n",
       "      <td>1.728558</td>\n",
       "      <td>0.268615</td>\n",
       "      <td>26.989632</td>\n",
       "      <td>115.082903</td>\n",
       "      <td>1.662582</td>\n",
       "      <td>0.990575</td>\n",
       "      <td>1.474939</td>\n",
       "      <td>1.044637</td>\n",
       "    </tr>\n",
       "  </tbody>\n",
       "</table>\n",
       "</div>"
      ],
      "text/plain": [
       "         gender  near_location   partner  promo_friends     phone  \\\n",
       "churn                                                               \n",
       "0      0.510037       0.873086  0.534195       0.353522  0.903709   \n",
       "1      0.510839       0.768143  0.355325       0.183789  0.902922   \n",
       "\n",
       "       contract_period  group_visits        age  avg_additional_charges_total  \\\n",
       "churn                                                                           \n",
       "0             5.747193      0.464103  29.976523                    158.445716   \n",
       "1             1.728558      0.268615  26.989632                    115.082903   \n",
       "\n",
       "       month_to_end_contract  lifetime  avg_class_frequency_total  \\\n",
       "churn                                                               \n",
       "0                   5.283089  4.711807                   2.024917   \n",
       "1                   1.662582  0.990575                   1.474939   \n",
       "\n",
       "       avg_class_frequency_current_month  \n",
       "churn                                     \n",
       "0                               2.027873  \n",
       "1                               1.044637  "
      ]
     },
     "execution_count": 10,
     "metadata": {},
     "output_type": "execute_result"
    }
   ],
   "source": [
    "# сгруппируем и усредним\n",
    "df.groupby(['churn']).mean()"
   ]
  },
  {
   "cell_type": "markdown",
   "id": "691c81f5",
   "metadata": {},
   "source": [
    "### Портрет отвалившегося пользователя фитнес-центра(далее в тексте - ФЦ):\n",
    " * 1) пол - муж/жен;\n",
    " * 2) живёт/ работает рядом с  ФЦ;\n",
    " * 3) пришёл не в рамках акции «приведи друга»;\n",
    " * 4) указан контактный телефон;\n",
    " * 5) длительность текущего действующего абонемента в среднем - 1.72(Как это? - Скорее всего, абонемент такие пользователи берут на 1 месяц);\n",
    " * 6) групповые занятие не по душе;\n",
    " * 7) средний возраст - 27 лет;\n",
    " * 8) суммарная выручка от других услуг ФЦ меньше, чем кто остался;\n",
    " * 9) кол-во месяцев до окончания абонемента - в среднем 1.66(значит, есть такие пользователи кто берёт абонемент больше, чем на 1 месяц);\n",
    " * 10) средняя частота посещений в неделю за все время с начала действия абонемента - 1.47(в среднем нет большой заинтересованности, чем у тех кто остался);\n",
    " * 11) средняя частота посещений в неделю за предыдущий месяц - 1.04(частота сокращается, приходит понимание);\n",
    " * 12) не сотрудник компании-партнёра клуба;\n",
    " * 13) время с момента первого обращения в ФЦ - 1 месяц."
   ]
  },
  {
   "cell_type": "markdown",
   "id": "c322a36a",
   "metadata": {},
   "source": [
    "## Построим столбчатые гистограммы и распределения признаков для тех, кто ушёл (отток) и тех, кто остался (не попали в отток):"
   ]
  },
  {
   "cell_type": "code",
   "execution_count": 11,
   "id": "748f9282",
   "metadata": {},
   "outputs": [
    {
     "data": {
      "text/html": [
       "<div>\n",
       "<style scoped>\n",
       "    .dataframe tbody tr th:only-of-type {\n",
       "        vertical-align: middle;\n",
       "    }\n",
       "\n",
       "    .dataframe tbody tr th {\n",
       "        vertical-align: top;\n",
       "    }\n",
       "\n",
       "    .dataframe thead th {\n",
       "        text-align: right;\n",
       "    }\n",
       "</style>\n",
       "<table border=\"1\" class=\"dataframe\">\n",
       "  <thead>\n",
       "    <tr style=\"text-align: right;\">\n",
       "      <th></th>\n",
       "      <th>gender</th>\n",
       "      <th>near_location</th>\n",
       "      <th>partner</th>\n",
       "      <th>promo_friends</th>\n",
       "      <th>phone</th>\n",
       "      <th>contract_period</th>\n",
       "      <th>group_visits</th>\n",
       "      <th>age</th>\n",
       "      <th>avg_additional_charges_total</th>\n",
       "      <th>month_to_end_contract</th>\n",
       "      <th>lifetime</th>\n",
       "      <th>avg_class_frequency_total</th>\n",
       "      <th>avg_class_frequency_current_month</th>\n",
       "      <th>churn</th>\n",
       "    </tr>\n",
       "  </thead>\n",
       "  <tbody>\n",
       "    <tr>\n",
       "      <th>0</th>\n",
       "      <td>1</td>\n",
       "      <td>1</td>\n",
       "      <td>1</td>\n",
       "      <td>1</td>\n",
       "      <td>0</td>\n",
       "      <td>6</td>\n",
       "      <td>1</td>\n",
       "      <td>29</td>\n",
       "      <td>14.23</td>\n",
       "      <td>5</td>\n",
       "      <td>3</td>\n",
       "      <td>0.02</td>\n",
       "      <td>0.00</td>\n",
       "      <td>0</td>\n",
       "    </tr>\n",
       "    <tr>\n",
       "      <th>1</th>\n",
       "      <td>0</td>\n",
       "      <td>1</td>\n",
       "      <td>0</td>\n",
       "      <td>0</td>\n",
       "      <td>1</td>\n",
       "      <td>12</td>\n",
       "      <td>1</td>\n",
       "      <td>31</td>\n",
       "      <td>113.20</td>\n",
       "      <td>12</td>\n",
       "      <td>7</td>\n",
       "      <td>1.92</td>\n",
       "      <td>1.91</td>\n",
       "      <td>0</td>\n",
       "    </tr>\n",
       "    <tr>\n",
       "      <th>2</th>\n",
       "      <td>0</td>\n",
       "      <td>1</td>\n",
       "      <td>1</td>\n",
       "      <td>0</td>\n",
       "      <td>1</td>\n",
       "      <td>1</td>\n",
       "      <td>0</td>\n",
       "      <td>28</td>\n",
       "      <td>129.45</td>\n",
       "      <td>1</td>\n",
       "      <td>2</td>\n",
       "      <td>1.86</td>\n",
       "      <td>1.74</td>\n",
       "      <td>0</td>\n",
       "    </tr>\n",
       "    <tr>\n",
       "      <th>3</th>\n",
       "      <td>0</td>\n",
       "      <td>1</td>\n",
       "      <td>1</td>\n",
       "      <td>1</td>\n",
       "      <td>1</td>\n",
       "      <td>12</td>\n",
       "      <td>1</td>\n",
       "      <td>33</td>\n",
       "      <td>62.67</td>\n",
       "      <td>12</td>\n",
       "      <td>2</td>\n",
       "      <td>3.21</td>\n",
       "      <td>3.36</td>\n",
       "      <td>0</td>\n",
       "    </tr>\n",
       "    <tr>\n",
       "      <th>4</th>\n",
       "      <td>1</td>\n",
       "      <td>1</td>\n",
       "      <td>1</td>\n",
       "      <td>1</td>\n",
       "      <td>1</td>\n",
       "      <td>1</td>\n",
       "      <td>0</td>\n",
       "      <td>26</td>\n",
       "      <td>198.36</td>\n",
       "      <td>1</td>\n",
       "      <td>3</td>\n",
       "      <td>1.11</td>\n",
       "      <td>1.12</td>\n",
       "      <td>0</td>\n",
       "    </tr>\n",
       "  </tbody>\n",
       "</table>\n",
       "</div>"
      ],
      "text/plain": [
       "   gender  near_location  partner  promo_friends  phone  contract_period  \\\n",
       "0       1              1        1              1      0                6   \n",
       "1       0              1        0              0      1               12   \n",
       "2       0              1        1              0      1                1   \n",
       "3       0              1        1              1      1               12   \n",
       "4       1              1        1              1      1                1   \n",
       "\n",
       "   group_visits  age  avg_additional_charges_total  month_to_end_contract  \\\n",
       "0             1   29                         14.23                      5   \n",
       "1             1   31                        113.20                     12   \n",
       "2             0   28                        129.45                      1   \n",
       "3             1   33                         62.67                     12   \n",
       "4             0   26                        198.36                      1   \n",
       "\n",
       "   lifetime  avg_class_frequency_total  avg_class_frequency_current_month  \\\n",
       "0         3                       0.02                               0.00   \n",
       "1         7                       1.92                               1.91   \n",
       "2         2                       1.86                               1.74   \n",
       "3         2                       3.21                               3.36   \n",
       "4         3                       1.11                               1.12   \n",
       "\n",
       "   churn  \n",
       "0      0  \n",
       "1      0  \n",
       "2      0  \n",
       "3      0  \n",
       "4      0  "
      ]
     },
     "metadata": {},
     "output_type": "display_data"
    },
    {
     "data": {
      "text/plain": [
       "(2939, 14)"
      ]
     },
     "metadata": {},
     "output_type": "display_data"
    },
    {
     "data": {
      "text/html": [
       "<div>\n",
       "<style scoped>\n",
       "    .dataframe tbody tr th:only-of-type {\n",
       "        vertical-align: middle;\n",
       "    }\n",
       "\n",
       "    .dataframe tbody tr th {\n",
       "        vertical-align: top;\n",
       "    }\n",
       "\n",
       "    .dataframe thead th {\n",
       "        text-align: right;\n",
       "    }\n",
       "</style>\n",
       "<table border=\"1\" class=\"dataframe\">\n",
       "  <thead>\n",
       "    <tr style=\"text-align: right;\">\n",
       "      <th></th>\n",
       "      <th>gender</th>\n",
       "      <th>near_location</th>\n",
       "      <th>partner</th>\n",
       "      <th>promo_friends</th>\n",
       "      <th>phone</th>\n",
       "      <th>contract_period</th>\n",
       "      <th>group_visits</th>\n",
       "      <th>age</th>\n",
       "      <th>avg_additional_charges_total</th>\n",
       "      <th>month_to_end_contract</th>\n",
       "      <th>lifetime</th>\n",
       "      <th>avg_class_frequency_total</th>\n",
       "      <th>avg_class_frequency_current_month</th>\n",
       "      <th>churn</th>\n",
       "    </tr>\n",
       "  </thead>\n",
       "  <tbody>\n",
       "    <tr>\n",
       "      <th>7</th>\n",
       "      <td>0</td>\n",
       "      <td>1</td>\n",
       "      <td>0</td>\n",
       "      <td>0</td>\n",
       "      <td>1</td>\n",
       "      <td>1</td>\n",
       "      <td>0</td>\n",
       "      <td>30</td>\n",
       "      <td>217.79</td>\n",
       "      <td>1</td>\n",
       "      <td>0</td>\n",
       "      <td>1.21</td>\n",
       "      <td>1.05</td>\n",
       "      <td>1</td>\n",
       "    </tr>\n",
       "    <tr>\n",
       "      <th>11</th>\n",
       "      <td>1</td>\n",
       "      <td>1</td>\n",
       "      <td>1</td>\n",
       "      <td>0</td>\n",
       "      <td>1</td>\n",
       "      <td>1</td>\n",
       "      <td>0</td>\n",
       "      <td>27</td>\n",
       "      <td>266.78</td>\n",
       "      <td>1</td>\n",
       "      <td>2</td>\n",
       "      <td>2.35</td>\n",
       "      <td>1.58</td>\n",
       "      <td>1</td>\n",
       "    </tr>\n",
       "    <tr>\n",
       "      <th>13</th>\n",
       "      <td>1</td>\n",
       "      <td>1</td>\n",
       "      <td>0</td>\n",
       "      <td>0</td>\n",
       "      <td>1</td>\n",
       "      <td>1</td>\n",
       "      <td>1</td>\n",
       "      <td>27</td>\n",
       "      <td>152.75</td>\n",
       "      <td>1</td>\n",
       "      <td>1</td>\n",
       "      <td>0.00</td>\n",
       "      <td>0.00</td>\n",
       "      <td>1</td>\n",
       "    </tr>\n",
       "    <tr>\n",
       "      <th>21</th>\n",
       "      <td>0</td>\n",
       "      <td>0</td>\n",
       "      <td>0</td>\n",
       "      <td>0</td>\n",
       "      <td>1</td>\n",
       "      <td>1</td>\n",
       "      <td>0</td>\n",
       "      <td>30</td>\n",
       "      <td>153.20</td>\n",
       "      <td>1</td>\n",
       "      <td>3</td>\n",
       "      <td>0.64</td>\n",
       "      <td>0.00</td>\n",
       "      <td>1</td>\n",
       "    </tr>\n",
       "    <tr>\n",
       "      <th>23</th>\n",
       "      <td>1</td>\n",
       "      <td>1</td>\n",
       "      <td>0</td>\n",
       "      <td>0</td>\n",
       "      <td>1</td>\n",
       "      <td>1</td>\n",
       "      <td>1</td>\n",
       "      <td>32</td>\n",
       "      <td>276.08</td>\n",
       "      <td>1</td>\n",
       "      <td>1</td>\n",
       "      <td>1.42</td>\n",
       "      <td>1.04</td>\n",
       "      <td>1</td>\n",
       "    </tr>\n",
       "  </tbody>\n",
       "</table>\n",
       "</div>"
      ],
      "text/plain": [
       "    gender  near_location  partner  promo_friends  phone  contract_period  \\\n",
       "7        0              1        0              0      1                1   \n",
       "11       1              1        1              0      1                1   \n",
       "13       1              1        0              0      1                1   \n",
       "21       0              0        0              0      1                1   \n",
       "23       1              1        0              0      1                1   \n",
       "\n",
       "    group_visits  age  avg_additional_charges_total  month_to_end_contract  \\\n",
       "7              0   30                        217.79                      1   \n",
       "11             0   27                        266.78                      1   \n",
       "13             1   27                        152.75                      1   \n",
       "21             0   30                        153.20                      1   \n",
       "23             1   32                        276.08                      1   \n",
       "\n",
       "    lifetime  avg_class_frequency_total  avg_class_frequency_current_month  \\\n",
       "7          0                       1.21                               1.05   \n",
       "11         2                       2.35                               1.58   \n",
       "13         1                       0.00                               0.00   \n",
       "21         3                       0.64                               0.00   \n",
       "23         1                       1.42                               1.04   \n",
       "\n",
       "    churn  \n",
       "7       1  \n",
       "11      1  \n",
       "13      1  \n",
       "21      1  \n",
       "23      1  "
      ]
     },
     "metadata": {},
     "output_type": "display_data"
    },
    {
     "data": {
      "text/plain": [
       "(1061, 14)"
      ]
     },
     "execution_count": 11,
     "metadata": {},
     "output_type": "execute_result"
    }
   ],
   "source": [
    "# поместим оставшихся пользователей в переменную \"pain_and_gain\"\n",
    "pain_and_gain = df.query(\"churn == 0\")\n",
    "# посмотрим на них\n",
    "display(pain_and_gain.head())\n",
    "# размер таблицы\n",
    "display(pain_and_gain.shape)\n",
    "\n",
    "# поместим отток в переменную \"gone_away\"\n",
    "gone_away = df.query(\"churn == 1\")\n",
    "# посморим на них\n",
    "display(gone_away.head())\n",
    "# размер таблицы\n",
    "gone_away.shape"
   ]
  },
  {
   "cell_type": "code",
   "execution_count": 12,
   "id": "75429399",
   "metadata": {},
   "outputs": [
    {
     "data": {
      "image/png": "[encoded data removed]",
      "text/plain": [
       "<Figure size 432x288 with 1 Axes>"
      ]
     },
     "metadata": {
      "needs_background": "light"
     },
     "output_type": "display_data"
    },
    {
     "data": {
      "image/png": "[encoded data removed]",
      "text/plain": [
       "<Figure size 432x288 with 1 Axes>"
      ]
     },
     "metadata": {
      "needs_background": "light"
     },
     "output_type": "display_data"
    },
    {
     "data": {
      "image/png": "[encoded data removed]",
      "text/plain": [
       "<Figure size 432x288 with 1 Axes>"
      ]
     },
     "metadata": {
      "needs_background": "light"
     },
     "output_type": "display_data"
    },
    {
     "data": {
      "image/png": "[encoded data removed]",
      "text/plain": [
       "<Figure size 432x288 with 1 Axes>"
      ]
     },
     "metadata": {
      "needs_background": "light"
     },
     "output_type": "display_data"
    },
    {
     "data": {
      "image/png": "[encoded data removed]",
      "text/plain": [
       "<Figure size 432x288 with 1 Axes>"
      ]
     },
     "metadata": {
      "needs_background": "light"
     },
     "output_type": "display_data"
    },
    {
     "data": {
      "image/png": "[encoded data removed]",
      "text/plain": [
       "<Figure size 432x288 with 1 Axes>"
      ]
     },
     "metadata": {
      "needs_background": "light"
     },
     "output_type": "display_data"
    },
    {
     "data": {
      "image/png": "[encoded data removed]",
      "text/plain": [
       "<Figure size 432x288 with 1 Axes>"
      ]
     },
     "metadata": {
      "needs_background": "light"
     },
     "output_type": "display_data"
    },
    {
     "data": {
      "image/png": "[encoded data removed]",
      "text/plain": [
       "<Figure size 432x288 with 1 Axes>"
      ]
     },
     "metadata": {
      "needs_background": "light"
     },
     "output_type": "display_data"
    },
    {
     "data": {
      "image/png": "[encoded data removed]",
      "text/plain": [
       "<Figure size 432x288 with 1 Axes>"
      ]
     },
     "metadata": {
      "needs_background": "light"
     },
     "output_type": "display_data"
    },
    {
     "data": {
      "image/png": "[encoded data removed]",
      "text/plain": [
       "<Figure size 432x288 with 1 Axes>"
      ]
     },
     "metadata": {
      "needs_background": "light"
     },
     "output_type": "display_data"
    },
    {
     "data": {
      "image/png": "[encoded data removed]",
      "text/plain": [
       "<Figure size 432x288 with 1 Axes>"
      ]
     },
     "metadata": {
      "needs_background": "light"
     },
     "output_type": "display_data"
    },
    {
     "data": {
      "image/png": "[encoded data removed]",
      "text/plain": [
       "<Figure size 432x288 with 1 Axes>"
      ]
     },
     "metadata": {
      "needs_background": "light"
     },
     "output_type": "display_data"
    },
    {
     "data": {
      "image/png": "[encoded data removed]",
      "text/plain": [
       "<Figure size 432x288 with 1 Axes>"
      ]
     },
     "metadata": {
      "needs_background": "light"
     },
     "output_type": "display_data"
    }
   ],
   "source": [
    "#построим 'столбчатые' гистограммы и распределения признаков для тех, кто ушёл (отток) и тех, кто остался (не попали в отток)\n",
    "for row in df.drop('churn', axis = 1).columns:\n",
    "    sns.histplot(x=df[row], y=df['churn'])#ваш код здесь\n",
    "    plt.show()"
   ]
  },
  {
   "cell_type": "markdown",
   "id": "16a62612",
   "metadata": {},
   "source": [
    "Из визуализации видно:\n",
    "* 1) в оттоке меньше пользователей, чем оставшихся;\n",
    "* 2) много пользователей остаётся, которые живут рядом;\n",
    "* 3) пользователи от партнёров более живучие, чем пришедшие со стороны;\n",
    "* 4) живучие пользователи берут продолжительные абонементы, так настроены на успех;\n",
    "* 5) постоянные пользователи ценят групповые занятия;\n",
    "* 6) возрастная категория пользователей, которые остаются переваливает за 30, и таких не мало.\n",
    "* 7) оставшиеся пользователи хорошо тратят на сторонние услуги и товары в ФЦ;\n",
    "* 8) жизненный цикл у не отвалившихся пользователей доходит до 31 месяца."
   ]
  },
  {
   "cell_type": "code",
   "execution_count": 13,
   "id": "7c679688",
   "metadata": {},
   "outputs": [
    {
     "data": {
      "image/png": "[encoded data removed]",
      "text/plain": [
       "<Figure size 864x864 with 2 Axes>"
      ]
     },
     "metadata": {
      "needs_background": "light"
     },
     "output_type": "display_data"
    }
   ],
   "source": [
    "#построим и отрисуем матрицу корреляций\n",
    "dfm = df.corr() #вычисляем матрицу корреляций\n",
    "fig, ax = plt.subplots(figsize=(12,12))\n",
    "\n",
    "#нарисуем тепловую карту с подписями для матрицы корреляций\n",
    "sns.heatmap(dfm, annot=True, square=True)\n",
    "ax.set_xlim(\n",
    "    0, 14\n",
    ")\n",
    "ax.set_ylim(\n",
    "    14, 0\n",
    ")  # корректировка \"рваных\" полей heatmap в последней версии библиотеки\n",
    "plt.show()"
   ]
  },
  {
   "cell_type": "markdown",
   "id": "956c8c79",
   "metadata": {},
   "source": [
    "### Промежуточный вывод:\n",
    "\n",
    " * Размер датасета - 422 kb;\n",
    " * Признаки не обезличены, их 13;\n",
    " * Тип признаков - числовые. Присутсвуют категориальные признаки, но они уже обработаны и переведены в числовые;\n",
    " * Пропущенных значений нет.\n",
    "\n",
    "У нас есть датасет с 4000 наблюдений. Он содержит 13 признаков(матрица вектора x) и 1 целевую переменную(вектор y).\n",
    "\n",
    "Для 13 признаков должно быть, как минимум 130 наблюдений. Они у нас есть, даже больше (4000). Соответственно, использование  ML в данном случае оправданно. Кол-во данных позволяет это реализовать.\n"
   ]
  },
  {
   "cell_type": "markdown",
   "id": "543ddcbf",
   "metadata": {},
   "source": [
    "<div class=\"toc\"><ul class=\"toc-item\"><li><span><a href=\"#Содержание\" data-toc-modified-id=\"Содержание\"><span class=\"toc-item-num\"></span><Вернуться к содержанию</a>"
   ]
  },
  {
   "cell_type": "markdown",
   "id": "a903d78a",
   "metadata": {},
   "source": [
    "# Шаг 3. Построим модель прогнозирования оттока клиентов"
   ]
  },
  {
   "cell_type": "markdown",
   "id": "776da1b0",
   "metadata": {},
   "source": [
    "# Разобьём данные на обучающую и валидационную выборку"
   ]
  },
  {
   "cell_type": "code",
   "execution_count": 14,
   "id": "67472bec",
   "metadata": {},
   "outputs": [],
   "source": [
    "# разделим наши данные на признаки (матрица X) и целевую переменную (y)\n",
    "X = df.drop('churn', axis=1)\n",
    "y = df['churn']\n",
    "\n",
    "# разделяем модель на обучающую и валидационную выборки\n",
    "X_train, X_test, y_train, y_test = train_test_split(X, y, test_size=0.2, random_state=0)"
   ]
  },
  {
   "cell_type": "markdown",
   "id": "ac687224",
   "metadata": {},
   "source": [
    "## Проверим правильность разбивки данных:"
   ]
  },
  {
   "cell_type": "code",
   "execution_count": 15,
   "id": "b107b384",
   "metadata": {},
   "outputs": [
    {
     "name": "stdout",
     "output_type": "stream",
     "text": [
      "Разрешение тренировочного датасета на входе: (3200, 13)\n",
      "Разрешение тестового датасета на входе: (800, 13)\n",
      "Разрешение тренировочного датасета на выходе: (3200,)\n",
      "Разрешение тестового датасета на выходе: (800,)\n"
     ]
    }
   ],
   "source": [
    "print(\"Разрешение тренировочного датасета на входе:\", X_train.shape)\n",
    "print(\"Разрешение тестового датасета на входе:\", X_test.shape)\n",
    "print(\"Разрешение тренировочного датасета на выходе:\", y_train.shape)\n",
    "print(\"Разрешение тестового датасета на выходе:\", y_test.shape)"
   ]
  },
  {
   "cell_type": "markdown",
   "id": "7a82f415",
   "metadata": {},
   "source": [
    "## Пропорция 20 на 80 выдержана (800 на 3200)."
   ]
  },
  {
   "cell_type": "markdown",
   "id": "301a4f59",
   "metadata": {},
   "source": [
    "## Обучим модель на train-выборке двумя способами:"
   ]
  },
  {
   "cell_type": "markdown",
   "id": "29b58477",
   "metadata": {},
   "source": [
    " * Логистическая регрессия"
   ]
  },
  {
   "cell_type": "code",
   "execution_count": 16,
   "id": "ab4e3312",
   "metadata": {},
   "outputs": [],
   "source": [
    "# зададим алгоритм для нашей модели\n",
    "lr_model = LogisticRegression(solver='liblinear', random_state = 0)\n",
    "\n",
    "# обучим модель\n",
    "lr_model.fit(X_train, y_train)\n",
    "\n",
    "# сделаем прогнозы\n",
    "lr_predictions = lr_model.predict(X_test)\n",
    "lr_probabilities = lr_model.predict_proba(X_test)[:,1]\n",
    "\n",
    "#print(lr_predictions)\n",
    "#print(lr_probabilities)"
   ]
  },
  {
   "cell_type": "markdown",
   "id": "57da2c9b",
   "metadata": {},
   "source": [
    " * Случайный лес"
   ]
  },
  {
   "cell_type": "code",
   "execution_count": 17,
   "id": "2f6503cc",
   "metadata": {},
   "outputs": [],
   "source": [
    "# зададим алгоритм для новой модели на основе алгоритма случайного леса\n",
    "rf_model = RandomForestClassifier(n_estimators = 110, max_features=13, max_depth=50, random_state = 0) # Ваш код здесь\n",
    "\n",
    "# обучим модель\n",
    "rf_model.fit(X_train, y_train)\n",
    "\n",
    "# сделаем прогнозы\n",
    "rf_predictions = rf_model.predict(X_test)\n",
    "rf_probabilities = rf_model.predict_proba(X_test)[:, 1]\n",
    "\n",
    "#print(rf_predictions)\n",
    "#print(rf_probabilities)"
   ]
  },
  {
   "cell_type": "markdown",
   "id": "c211796a",
   "metadata": {},
   "source": [
    "## Оценим метрики accuracy, precision и recall для обеих моделей на валидационной выборке. Сравним по ним модели. Выясним какая модель показала себя лучше на основании метрик."
   ]
  },
  {
   "cell_type": "code",
   "execution_count": 18,
   "id": "f0bd6775",
   "metadata": {},
   "outputs": [],
   "source": [
    "# определим функцию, которая будет выводить наши метрики\n",
    "def print_all_metrics(y_true, y_pred, title='Метрики классификации'):\n",
    "    print(title)\n",
    "    print('\\tAccuracy: {:.2f}'.format(accuracy_score(y_true, y_pred)))\n",
    "    print('\\tPrecision: {:.2f}'.format(precision_score(y_true, y_pred)))\n",
    "    print('\\tRecall: {:.2f}'.format(recall_score(y_true, y_pred)))"
   ]
  },
  {
   "cell_type": "code",
   "execution_count": 19,
   "id": "119817e3",
   "metadata": {},
   "outputs": [
    {
     "name": "stdout",
     "output_type": "stream",
     "text": [
      "Размер датасета: (4000, 14)\n"
     ]
    },
    {
     "data": {
      "text/html": [
       "<div>\n",
       "<style scoped>\n",
       "    .dataframe tbody tr th:only-of-type {\n",
       "        vertical-align: middle;\n",
       "    }\n",
       "\n",
       "    .dataframe tbody tr th {\n",
       "        vertical-align: top;\n",
       "    }\n",
       "\n",
       "    .dataframe thead th {\n",
       "        text-align: right;\n",
       "    }\n",
       "</style>\n",
       "<table border=\"1\" class=\"dataframe\">\n",
       "  <thead>\n",
       "    <tr style=\"text-align: right;\">\n",
       "      <th></th>\n",
       "      <th>gender</th>\n",
       "      <th>near_location</th>\n",
       "      <th>partner</th>\n",
       "      <th>promo_friends</th>\n",
       "      <th>phone</th>\n",
       "      <th>contract_period</th>\n",
       "      <th>group_visits</th>\n",
       "      <th>age</th>\n",
       "      <th>avg_additional_charges_total</th>\n",
       "      <th>month_to_end_contract</th>\n",
       "      <th>lifetime</th>\n",
       "      <th>avg_class_frequency_total</th>\n",
       "      <th>avg_class_frequency_current_month</th>\n",
       "      <th>churn</th>\n",
       "    </tr>\n",
       "  </thead>\n",
       "  <tbody>\n",
       "    <tr>\n",
       "      <th>0</th>\n",
       "      <td>1</td>\n",
       "      <td>1</td>\n",
       "      <td>1</td>\n",
       "      <td>1</td>\n",
       "      <td>0</td>\n",
       "      <td>6</td>\n",
       "      <td>1</td>\n",
       "      <td>29</td>\n",
       "      <td>14.23</td>\n",
       "      <td>5</td>\n",
       "      <td>3</td>\n",
       "      <td>0.02</td>\n",
       "      <td>0.00</td>\n",
       "      <td>0</td>\n",
       "    </tr>\n",
       "    <tr>\n",
       "      <th>1</th>\n",
       "      <td>0</td>\n",
       "      <td>1</td>\n",
       "      <td>0</td>\n",
       "      <td>0</td>\n",
       "      <td>1</td>\n",
       "      <td>12</td>\n",
       "      <td>1</td>\n",
       "      <td>31</td>\n",
       "      <td>113.20</td>\n",
       "      <td>12</td>\n",
       "      <td>7</td>\n",
       "      <td>1.92</td>\n",
       "      <td>1.91</td>\n",
       "      <td>0</td>\n",
       "    </tr>\n",
       "    <tr>\n",
       "      <th>2</th>\n",
       "      <td>0</td>\n",
       "      <td>1</td>\n",
       "      <td>1</td>\n",
       "      <td>0</td>\n",
       "      <td>1</td>\n",
       "      <td>1</td>\n",
       "      <td>0</td>\n",
       "      <td>28</td>\n",
       "      <td>129.45</td>\n",
       "      <td>1</td>\n",
       "      <td>2</td>\n",
       "      <td>1.86</td>\n",
       "      <td>1.74</td>\n",
       "      <td>0</td>\n",
       "    </tr>\n",
       "    <tr>\n",
       "      <th>3</th>\n",
       "      <td>0</td>\n",
       "      <td>1</td>\n",
       "      <td>1</td>\n",
       "      <td>1</td>\n",
       "      <td>1</td>\n",
       "      <td>12</td>\n",
       "      <td>1</td>\n",
       "      <td>33</td>\n",
       "      <td>62.67</td>\n",
       "      <td>12</td>\n",
       "      <td>2</td>\n",
       "      <td>3.21</td>\n",
       "      <td>3.36</td>\n",
       "      <td>0</td>\n",
       "    </tr>\n",
       "    <tr>\n",
       "      <th>4</th>\n",
       "      <td>1</td>\n",
       "      <td>1</td>\n",
       "      <td>1</td>\n",
       "      <td>1</td>\n",
       "      <td>1</td>\n",
       "      <td>1</td>\n",
       "      <td>0</td>\n",
       "      <td>26</td>\n",
       "      <td>198.36</td>\n",
       "      <td>1</td>\n",
       "      <td>3</td>\n",
       "      <td>1.11</td>\n",
       "      <td>1.12</td>\n",
       "      <td>0</td>\n",
       "    </tr>\n",
       "  </tbody>\n",
       "</table>\n",
       "</div>"
      ],
      "text/plain": [
       "   gender  near_location  partner  promo_friends  phone  contract_period  \\\n",
       "0       1              1        1              1      0                6   \n",
       "1       0              1        0              0      1               12   \n",
       "2       0              1        1              0      1                1   \n",
       "3       0              1        1              1      1               12   \n",
       "4       1              1        1              1      1                1   \n",
       "\n",
       "   group_visits  age  avg_additional_charges_total  month_to_end_contract  \\\n",
       "0             1   29                         14.23                      5   \n",
       "1             1   31                        113.20                     12   \n",
       "2             0   28                        129.45                      1   \n",
       "3             1   33                         62.67                     12   \n",
       "4             0   26                        198.36                      1   \n",
       "\n",
       "   lifetime  avg_class_frequency_total  avg_class_frequency_current_month  \\\n",
       "0         3                       0.02                               0.00   \n",
       "1         7                       1.92                               1.91   \n",
       "2         2                       1.86                               1.74   \n",
       "3         2                       3.21                               3.36   \n",
       "4         3                       1.11                               1.12   \n",
       "\n",
       "   churn  \n",
       "0      0  \n",
       "1      0  \n",
       "2      0  \n",
       "3      0  \n",
       "4      0  "
      ]
     },
     "metadata": {},
     "output_type": "display_data"
    },
    {
     "name": "stdout",
     "output_type": "stream",
     "text": [
      "Соотношение классов:\n",
      " 0    2939\n",
      "1    1061\n",
      "Name: churn, dtype: int64\n",
      "\n",
      "Метрики для модели логистической регрессии:\n",
      "\tAccuracy: 0.93\n",
      "\tPrecision: 0.86\n",
      "\tRecall: 0.83\n",
      "\n",
      "Метрики для модели случайного леса:\n",
      "\tAccuracy: 0.93\n",
      "\tPrecision: 0.86\n",
      "\tRecall: 0.86\n"
     ]
    }
   ],
   "source": [
    "print('Размер датасета:', df.shape)\n",
    "display(df.head())\n",
    "\n",
    "# посмотрим, как соотносятся классы набора данных\n",
    "print('Соотношение классов:\\n', df['churn'].value_counts())\n",
    "print()\n",
    "\n",
    "# логистическая регрессия\n",
    "print_all_metrics(\n",
    "    y_test,\n",
    "    lr_predictions,\n",
    "    title='Метрики для модели логистической регрессии:',\n",
    ")\n",
    "print()\n",
    "# случайный лес\n",
    "print_all_metrics(\n",
    "    y_test,\n",
    "    rf_predictions, \n",
    "    title='Метрики для модели случайного леса:'\n",
    ")"
   ]
  },
  {
   "cell_type": "markdown",
   "id": "ec2a87aa",
   "metadata": {},
   "source": [
    "## Вывод:\n",
    "По показателям эффектиности метрик выше мы видим, что модель обученная на основе алгоритма случайного леса выдаёт большие показатели, чем модель логистический регрессии. \n",
    "\n",
    "Капнём дальше, если запускать на базовых параметрах RandomForestClassifier(n_estimators = 100,  random_state = 0), то показатели её будут хуже, чем у логистической регрессии в нынешних настройках. Путём перебора большого количества параметров \"случайный лес\" был выведен в лучшую позицию, т.е. был обучен более старательно и выдал данные другого порядка. \n",
    "\n",
    "В условиях данной задачи, Яндекс не ставил необходимость играть так с параметрами и указал, что нужен только параметр \"random_state = 0\"(но было увлекательно отойти от этого, остался вопрос по поводу переобучения на выборке, что-то теряется ли, качество, например?). \n",
    "\n",
    "Каков итог - модель логистической регрессии на базовых настройках эффективнее, чем модель случайного леса(на базовых настройках)."
   ]
  },
  {
   "cell_type": "markdown",
   "id": "1e96f31a",
   "metadata": {},
   "source": [
    "<div class=\"toc\"><ul class=\"toc-item\"><li><span><a href=\"#Содержание\" data-toc-modified-id=\"Содержание\"><span class=\"toc-item-num\"></span><Вернуться к содержанию</a>"
   ]
  },
  {
   "cell_type": "markdown",
   "id": "de7a4e43",
   "metadata": {},
   "source": [
    "# Шаг 4. Сделаем кластеризацию клиентов"
   ]
  },
  {
   "cell_type": "markdown",
   "id": "3415d75f",
   "metadata": {},
   "source": [
    "## Стандартизируем данные:"
   ]
  },
  {
   "cell_type": "code",
   "execution_count": 20,
   "id": "8795d2f3",
   "metadata": {},
   "outputs": [],
   "source": [
    "# создадим объект класса StandardScaler\n",
    "scaler = StandardScaler()\n",
    "\n",
    "# обучаем scaler и одновременно трансформируем матрицу признаков\n",
    "X_st = scaler.fit_transform(X) "
   ]
  },
  {
   "cell_type": "markdown",
   "id": "09f4bf08",
   "metadata": {},
   "source": [
    "## Построим матрицу расстояний и нарисуем дендрограмму:"
   ]
  },
  {
   "cell_type": "code",
   "execution_count": 21,
   "id": "e63cd2ce",
   "metadata": {},
   "outputs": [
    {
     "data": {
      "image/png": "[encoded data removed]",
      "text/plain": [
       "<Figure size 1080x720 with 1 Axes>"
      ]
     },
     "metadata": {
      "needs_background": "light"
     },
     "output_type": "display_data"
    }
   ],
   "source": [
    "linked = linkage(X_st, method = 'ward')\n",
    "\n",
    "plt.figure(figsize=(15, 10))  \n",
    "dendrogram(linked, orientation='top')\n",
    "plt.title('Кластеризация клиентов фитнес-центра')\n",
    "plt.show()"
   ]
  },
  {
   "cell_type": "markdown",
   "id": "886ad0aa",
   "metadata": {},
   "source": [
    "## Обучим модель кластеризации на основании алгоритма K-Means и спрогнозируем кластеры клиентов"
   ]
  },
  {
   "cell_type": "code",
   "execution_count": 22,
   "id": "46df8788",
   "metadata": {},
   "outputs": [
    {
     "data": {
      "text/html": [
       "<div>\n",
       "<style scoped>\n",
       "    .dataframe tbody tr th:only-of-type {\n",
       "        vertical-align: middle;\n",
       "    }\n",
       "\n",
       "    .dataframe tbody tr th {\n",
       "        vertical-align: top;\n",
       "    }\n",
       "\n",
       "    .dataframe thead th {\n",
       "        text-align: right;\n",
       "    }\n",
       "</style>\n",
       "<table border=\"1\" class=\"dataframe\">\n",
       "  <thead>\n",
       "    <tr style=\"text-align: right;\">\n",
       "      <th></th>\n",
       "      <th>gender</th>\n",
       "      <th>near_location</th>\n",
       "      <th>partner</th>\n",
       "      <th>promo_friends</th>\n",
       "      <th>phone</th>\n",
       "      <th>contract_period</th>\n",
       "      <th>group_visits</th>\n",
       "      <th>age</th>\n",
       "      <th>avg_additional_charges_total</th>\n",
       "      <th>month_to_end_contract</th>\n",
       "      <th>lifetime</th>\n",
       "      <th>avg_class_frequency_total</th>\n",
       "      <th>avg_class_frequency_current_month</th>\n",
       "      <th>churn</th>\n",
       "    </tr>\n",
       "    <tr>\n",
       "      <th>cluster</th>\n",
       "      <th></th>\n",
       "      <th></th>\n",
       "      <th></th>\n",
       "      <th></th>\n",
       "      <th></th>\n",
       "      <th></th>\n",
       "      <th></th>\n",
       "      <th></th>\n",
       "      <th></th>\n",
       "      <th></th>\n",
       "      <th></th>\n",
       "      <th></th>\n",
       "      <th></th>\n",
       "      <th></th>\n",
       "    </tr>\n",
       "  </thead>\n",
       "  <tbody>\n",
       "    <tr>\n",
       "      <th>0</th>\n",
       "      <td>0.495050</td>\n",
       "      <td>0.000000</td>\n",
       "      <td>0.463366</td>\n",
       "      <td>0.079208</td>\n",
       "      <td>1.000000</td>\n",
       "      <td>2.352475</td>\n",
       "      <td>0.215842</td>\n",
       "      <td>28.477228</td>\n",
       "      <td>135.457267</td>\n",
       "      <td>2.198020</td>\n",
       "      <td>2.809901</td>\n",
       "      <td>1.660436</td>\n",
       "      <td>1.477030</td>\n",
       "      <td>0.443564</td>\n",
       "    </tr>\n",
       "    <tr>\n",
       "      <th>1</th>\n",
       "      <td>0.484512</td>\n",
       "      <td>1.000000</td>\n",
       "      <td>0.351072</td>\n",
       "      <td>0.237490</td>\n",
       "      <td>1.000000</td>\n",
       "      <td>1.954726</td>\n",
       "      <td>0.341541</td>\n",
       "      <td>28.165210</td>\n",
       "      <td>131.444162</td>\n",
       "      <td>1.862589</td>\n",
       "      <td>2.430500</td>\n",
       "      <td>1.246315</td>\n",
       "      <td>1.011136</td>\n",
       "      <td>0.515488</td>\n",
       "    </tr>\n",
       "    <tr>\n",
       "      <th>2</th>\n",
       "      <td>0.522078</td>\n",
       "      <td>0.862338</td>\n",
       "      <td>0.470130</td>\n",
       "      <td>0.306494</td>\n",
       "      <td>0.000000</td>\n",
       "      <td>4.787013</td>\n",
       "      <td>0.425974</td>\n",
       "      <td>29.301299</td>\n",
       "      <td>143.957688</td>\n",
       "      <td>4.475325</td>\n",
       "      <td>3.924675</td>\n",
       "      <td>1.846909</td>\n",
       "      <td>1.716364</td>\n",
       "      <td>0.267532</td>\n",
       "    </tr>\n",
       "    <tr>\n",
       "      <th>3</th>\n",
       "      <td>0.503490</td>\n",
       "      <td>0.959123</td>\n",
       "      <td>0.782652</td>\n",
       "      <td>0.573280</td>\n",
       "      <td>1.000000</td>\n",
       "      <td>10.923230</td>\n",
       "      <td>0.546361</td>\n",
       "      <td>29.991027</td>\n",
       "      <td>160.881884</td>\n",
       "      <td>9.983051</td>\n",
       "      <td>4.748754</td>\n",
       "      <td>1.977617</td>\n",
       "      <td>1.970040</td>\n",
       "      <td>0.027916</td>\n",
       "    </tr>\n",
       "    <tr>\n",
       "      <th>4</th>\n",
       "      <td>0.560142</td>\n",
       "      <td>0.976415</td>\n",
       "      <td>0.359670</td>\n",
       "      <td>0.238208</td>\n",
       "      <td>0.998821</td>\n",
       "      <td>2.685142</td>\n",
       "      <td>0.469340</td>\n",
       "      <td>30.110849</td>\n",
       "      <td>161.665755</td>\n",
       "      <td>2.476415</td>\n",
       "      <td>4.889151</td>\n",
       "      <td>2.846580</td>\n",
       "      <td>2.845059</td>\n",
       "      <td>0.067217</td>\n",
       "    </tr>\n",
       "  </tbody>\n",
       "</table>\n",
       "</div>"
      ],
      "text/plain": [
       "           gender  near_location   partner  promo_friends     phone  \\\n",
       "cluster                                                               \n",
       "0        0.495050       0.000000  0.463366       0.079208  1.000000   \n",
       "1        0.484512       1.000000  0.351072       0.237490  1.000000   \n",
       "2        0.522078       0.862338  0.470130       0.306494  0.000000   \n",
       "3        0.503490       0.959123  0.782652       0.573280  1.000000   \n",
       "4        0.560142       0.976415  0.359670       0.238208  0.998821   \n",
       "\n",
       "         contract_period  group_visits        age  \\\n",
       "cluster                                             \n",
       "0               2.352475      0.215842  28.477228   \n",
       "1               1.954726      0.341541  28.165210   \n",
       "2               4.787013      0.425974  29.301299   \n",
       "3              10.923230      0.546361  29.991027   \n",
       "4               2.685142      0.469340  30.110849   \n",
       "\n",
       "         avg_additional_charges_total  month_to_end_contract  lifetime  \\\n",
       "cluster                                                                  \n",
       "0                          135.457267               2.198020  2.809901   \n",
       "1                          131.444162               1.862589  2.430500   \n",
       "2                          143.957688               4.475325  3.924675   \n",
       "3                          160.881884               9.983051  4.748754   \n",
       "4                          161.665755               2.476415  4.889151   \n",
       "\n",
       "         avg_class_frequency_total  avg_class_frequency_current_month  \\\n",
       "cluster                                                                 \n",
       "0                         1.660436                           1.477030   \n",
       "1                         1.246315                           1.011136   \n",
       "2                         1.846909                           1.716364   \n",
       "3                         1.977617                           1.970040   \n",
       "4                         2.846580                           2.845059   \n",
       "\n",
       "            churn  \n",
       "cluster            \n",
       "0        0.443564  \n",
       "1        0.515488  \n",
       "2        0.267532  \n",
       "3        0.027916  \n",
       "4        0.067217  "
      ]
     },
     "execution_count": 22,
     "metadata": {},
     "output_type": "execute_result"
    }
   ],
   "source": [
    "# стандартизируем данные\n",
    "# sca = StandardScaler()\n",
    "# x_s = sca.fit_transform(X)\n",
    "\n",
    "# задаём модель k_means с числом кластеров 5 и фиксируем значение random_state\n",
    "km = KMeans(n_clusters = 5, random_state = 0)\n",
    "\n",
    "# прогнозируем кластеры для наблюдений (алгоритм присваивает им номера от 0 до 4)\n",
    "labels = km.fit_predict(X_st)\n",
    "\n",
    "# сохраняем метки кластера в поле нашего датасета\n",
    "df['cluster'] = labels\n",
    "\n",
    "# выводим статистику по средним значениям наших признаков по кластеру\n",
    "clusters = df.groupby(['cluster']).mean()\n",
    "clusters"
   ]
  },
  {
   "cell_type": "markdown",
   "id": "72933afa",
   "metadata": {},
   "source": [
    "## Вывод:\n",
    "\n",
    "Данные были стандартизированы, класстеризация произведена, было выделано 5 класстеров.\n",
    "\n",
    "К оттоку наиболее сильно расположены первые 2 класстера.\n",
    "\n",
    "Честно говоря, не до конца понял фишки по умолчанию n_clusters=5, когда по дендрограмме видно 4 кластера..."
   ]
  },
  {
   "cell_type": "markdown",
   "id": "b0966baf",
   "metadata": {},
   "source": [
    "<div class=\"toc\"><ul class=\"toc-item\"><li><span><a href=\"#Содержание\" data-toc-modified-id=\"Содержание\"><span class=\"toc-item-num\"></span><Вернуться к содержанию</a>"
   ]
  },
  {
   "cell_type": "markdown",
   "id": "17890f87",
   "metadata": {},
   "source": [
    "# Шаг 5. Выводы и рекомендации"
   ]
  },
  {
   "cell_type": "markdown",
   "id": "4e7b114c",
   "metadata": {},
   "source": [
    "Данные были загружены, дубликатов и пропусков в них не выявлено. Названия столбцов были приведены к читабельному виду(snake_case). Число знаков после запятых сокращено путём округления и в одном случае путём измения типа данных.\n",
    "\n",
    " * Размер датасета - 422 kb;\n",
    " * Признаки не обезличены, их 13;\n",
    " * Тип признаков - числовые. Присутсвуют категориальные признаки, но они уже обработаны и переведены в числовые;\n",
    " * Пропущенных значений нет.\n",
    "\n",
    "У нас есть датасет с 4000 наблюдений. Он содержит 13 признаков(матрица вектора x) и 1 целевую переменную(вектор y).\n",
    "\n",
    "Для 13 признаков должно быть, как минимум 130 наблюдений. Они у нас есть, даже больше (4000). Соответственно, использование  ML в данном случае оправданно. Кол-во данных позволяет это реализовать.\n",
    "\n",
    "По показателям эффектиности метрик выше мы видим, что модель обученная на основе алгоритма случайного леса выдаёт большие показатели, чем модель логистический регрессии. \n",
    "\n",
    "Капнём дальше, если запускать на базовых параметрах RandomForestClassifier(n_estimators = 100,  random_state = 0), то показатели её будут хуже, чем у логистической регрессии в нынешних настройках. Путём перебора большого количества параметров \"случайный лес\" был выведен в лучшую позицию, т.е. был обучен более старательно и выдал данные другого порядка. \n",
    "\n",
    "В условиях данной задачи, Яндекс не ставил необходимость играть так с параметрами и указал, что нужен только параметр \"random_state = 0\"(но было увлекательно отойти от этого, остался вопрос по поводу переобучения на выборке, что-то теряется ли, качество, например?). \n",
    "\n",
    "Каков итог - модель логистической регрессии на базовых настройках эффективнее, чем модель случайного леса(на базовых настройках).\n",
    "\n",
    "Данные были стандартизированы, класстеризация произведена, было выделано 5 класстеров.\n",
    "\n",
    "К оттоку наиболее сильно расположены первые 2 класстера.\n",
    "\n",
    "### Портрет отвалившегося пользователя фитнес-центра(далее в тексте - ФЦ):\n",
    " * 1) пол - муж/жен;\n",
    " * 2) живёт/ работает рядом с  ФЦ;\n",
    " * 3) пришёл не в рамках акции «приведи друга»;\n",
    " * 4) указан контактный телефон;\n",
    " * 5) длительность текущего действующего абонемента в среднем - 2.15;\n",
    " * 6) групповые занятие не по душе;\n",
    " * 7) средний возраст - 28 лет;\n",
    " * 8) суммарная выручка от других услуг ФЦ меньше, чем кто остался;\n",
    " * 9) кол-во месяцев до окончания абонемента - в среднем 2;\n",
    " * 10) средняя частота посещений в неделю за все время с начала действия абонемента - 1.45(в среднем нет большой заинтересованности, чем у тех кто остался);\n",
    " * 11) средняя частота посещений в неделю за предыдущий месяц - 1.25(частота сокращается, приходит понимание);\n",
    " * 12) не сотрудник компании-партнёра клуба;\n",
    " * 13) время с момента первого обращения в ФЦ - 2.6 месяца."
   ]
  },
  {
   "cell_type": "markdown",
   "id": "ba84ff13",
   "metadata": {},
   "source": [
    "## Как жить дальше, чтобы пользователь в дальнейшем не отваливался?\n",
    "\n",
    "* ввести мотивацию за приглашение друга. Чтобы появился бонус(скидка) на оплату следующего абонемента себе;\n",
    "\n",
    "вопрос не всегда упирается в скидку на новый абонемент, проблема в поиске мотивации, когда ты не один, проще её найти, если есть соратники...\n",
    "\n",
    "* проработать групповые занятия, нужно привлечь группу людей, которые почему-то не ходят на них;\n",
    "\n",
    "может быть, клиенты не знают, что есть групповые занятия, или есть какие-то предубеждения, нужно заинтересовать их. Так как там они смогут найти себе единомышленников и будет стимул ходить дальше, находить силы, равняться на кого-то, быть примером.\n",
    "\n",
    "* проработать продажи(помониторить цены, ввести накопительную систему бонусов, которыми можно будет оплатить часть абонемента или других товаров), заинтересовать товарами, подробно объяснить, чем они могут помочь(спортивное питание, например)"
   ]
  },
  {
   "cell_type": "markdown",
   "id": "7dcd6759",
   "metadata": {},
   "source": [
    "<div class=\"toc\"><ul class=\"toc-item\"><li><span><a href=\"#Содержание\" data-toc-modified-id=\"Содержание\"><span class=\"toc-item-num\"></span><Вернуться к содержанию</a>"
   ]
  }
 ],
 "metadata": {
  "kernelspec": {
   "display_name": "Python 3 (ipykernel)",
   "language": "python",
   "name": "python3"
  },
  "language_info": {
   "codemirror_mode": {
    "name": "ipython",
    "version": 3
   },
   "file_extension": ".py",
   "mimetype": "text/x-python",
   "name": "python",
   "nbconvert_exporter": "python",
   "pygments_lexer": "ipython3",
   "version": "3.9.12"
  },
  "toc": {
   "base_numbering": 1,
   "nav_menu": {},
   "number_sections": true,
   "sideBar": true,
   "skip_h1_title": true,
   "title_cell": "Table of Contents",
   "title_sidebar": "Contents",
   "toc_cell": false,
   "toc_position": {},
   "toc_section_display": true,
   "toc_window_display": false
  }
 },
 "nbformat": 4,
 "nbformat_minor": 5
}
